{
 "cells": [
  {
   "cell_type": "code",
   "execution_count": 2,
   "metadata": {
    "collapsed": true
   },
   "outputs": [],
   "source": [
    "%matplotlib inline\n",
    "import matplotlib.pyplot as plt\n",
    "import numpy as np\n",
    "import scipy as sp\n",
    "import scipy.integrate\n",
    "import itertools as it\n",
    "import os\n",
    "import sys\n",
    "module_path = os.path.abspath(os.path.join('..'))\n",
    "if module_path not in sys.path:\n",
    "    sys.path.append(module_path)\n",
    "from spectral import *\n",
    "def diff(a, b):\n",
    "    a = np.asarray(a)\n",
    "    b = np.asarray(b)\n",
    "    return 2*np.linalg.norm(a - b)/np.linalg.norm(a + b)"
   ]
  },
  {
   "cell_type": "markdown",
   "metadata": {},
   "source": [
    "## Check the definition of Legendre polynomials"
   ]
  },
  {
   "cell_type": "code",
   "execution_count": 3,
   "metadata": {},
   "outputs": [
    {
     "name": "stdout",
     "output_type": "stream",
     "text": [
      "3.65424702307e-16\n",
      "7.40177651391e-16\n",
      "3.41817748527e-16\n"
     ]
    }
   ],
   "source": [
    "N = 10\n",
    "x = np.linspace(-1, 1, 100)\n",
    "for order in range(3):\n",
    "    y = list(it.islice(legendre.legendre_gen(x, diff=order), N))\n",
    "    c = np.polynomial.legendre.legder(np.eye(N), order)\n",
    "    y1 = np.polynomial.legendre.legval(x, c)\n",
    "    print(diff(y, y1))"
   ]
  },
  {
   "cell_type": "markdown",
   "metadata": {},
   "source": [
    "## Gauss-Lobatto nodes"
   ]
  },
  {
   "cell_type": "code",
   "execution_count": 4,
   "metadata": {},
   "outputs": [
    {
     "name": "stdout",
     "output_type": "stream",
     "text": [
      "0.0\n",
      "0.0\n",
      "1.60107886562e-16\n",
      "3.77399319692e-16\n",
      "2.23975269541e-16\n",
      "3.96689947043e-16\n",
      "8.08942382517e-15\n",
      "8.78967754608e-14\n"
     ]
    }
   ],
   "source": [
    "quadrature = 'Lobatto'\n",
    "for N in (2, 3, 4, 5, 6, 7, 100, 1000):\n",
    "    def y(x):\n",
    "        return (x**2 - 1)*legendre.legendre(N - 1, x, diff=1)\n",
    "    nodes = legendre.nodes(N, quadrature)\n",
    "    between_nodes = (nodes[1:] + nodes[:-1])/2\n",
    "    print(np.linalg.norm(y(nodes))/np.linalg.norm(y(between_nodes)))"
   ]
  },
  {
   "cell_type": "markdown",
   "metadata": {},
   "source": [
    "## Radau nodes"
   ]
  },
  {
   "cell_type": "code",
   "execution_count": 5,
   "metadata": {},
   "outputs": [
    {
     "name": "stdout",
     "output_type": "stream",
     "text": [
      "8.32667268469e-17\n",
      "2.66275640629e-16\n",
      "8.05860961485e-16\n",
      "3.68138725293e-16\n",
      "4.1249853368e-14\n",
      "8.53632643392e-12\n"
     ]
    }
   ],
   "source": [
    "quadrature = 'Radau'\n",
    "for N in (2, 3, 4, 5, 100, 1000):\n",
    "    def y(x):\n",
    "        return legendre.legendre(N, x) + legendre.legendre(N - 1, x)\n",
    "    nodes = legendre.nodes(N, quadrature)\n",
    "    between_nodes = (nodes[1:] + nodes[:-1])/2\n",
    "    print(np.linalg.norm(y(nodes))/np.linalg.norm(y(between_nodes)))"
   ]
  },
  {
   "cell_type": "markdown",
   "metadata": {},
   "source": [
    "## Basic properties"
   ]
  },
  {
   "cell_type": "code",
   "execution_count": 6,
   "metadata": {
    "collapsed": true
   },
   "outputs": [],
   "source": [
    "mesh = Legendre(10, (2, 5), 'Radau')\n",
    "X, = mesh.grid()\n",
    "u = TensorField(mesh, np.random.randn(*mesh.shape))\n",
    "x = np.linspace(*mesh.endpoints, 3000)"
   ]
  },
  {
   "cell_type": "code",
   "execution_count": 7,
   "metadata": {},
   "outputs": [
    {
     "name": "stdout",
     "output_type": "stream",
     "text": [
      "0.0\n",
      "0.0\n",
      "1.78503170484e-05\n"
     ]
    }
   ],
   "source": [
    "print(diff(u.func, u().func))\n",
    "print(diff(u.func, u(None).func))\n",
    "print(diff(u.func, np.interp(X, x, u(x))))"
   ]
  },
  {
   "cell_type": "code",
   "execution_count": 8,
   "metadata": {},
   "outputs": [
    {
     "data": {
      "text/plain": [
       "6.7323580065475098e-14"
      ]
     },
     "execution_count": 8,
     "metadata": {},
     "output_type": "execute_result"
    }
   ],
   "source": [
    "mesh2 = Legendre(55, mesh.endpoints, mesh.quadrature)\n",
    "u2 = u.remesh(mesh2)\n",
    "X2, = mesh2.grid()\n",
    "diff(u2.remesh(mesh).func, u.func)"
   ]
  },
  {
   "cell_type": "code",
   "execution_count": 9,
   "metadata": {},
   "outputs": [
    {
     "data": {
      "image/png": "[encoded data removed]",
      "text/plain": [
       "<matplotlib.figure.Figure at 0x7f16e0a24b00>"
      ]
     },
     "metadata": {},
     "output_type": "display_data"
    }
   ],
   "source": [
    "plt.plot(x, u(x))\n",
    "plt.plot(X, u.func, '.')\n",
    "plt.plot(X2, u2.func, '.')\n",
    "plt.show()"
   ]
  },
  {
   "cell_type": "markdown",
   "metadata": {},
   "source": [
    "## Arithmetic"
   ]
  },
  {
   "cell_type": "code",
   "execution_count": 10,
   "metadata": {},
   "outputs": [
    {
     "data": {
      "text/plain": [
       "0.0"
      ]
     },
     "execution_count": 10,
     "metadata": {},
     "output_type": "execute_result"
    }
   ],
   "source": [
    "u1 = TensorField(mesh, np.random.randn(2, 3, *mesh.shape))\n",
    "u2 = TensorField(mesh, np.random.randn(3, *mesh.shape))\n",
    "u3 = TensorField(mesh, np.random.randn(*mesh.shape))\n",
    "c = np.random.randn()\n",
    "diff((c*u1*u2*u3).func, c*u1.func*u2.func*u3.func)"
   ]
  },
  {
   "cell_type": "code",
   "execution_count": 11,
   "metadata": {},
   "outputs": [
    {
     "data": {
      "text/plain": [
       "0.0"
      ]
     },
     "execution_count": 11,
     "metadata": {},
     "output_type": "execute_result"
    }
   ],
   "source": [
    "diff((u/c).func, u.func/c)"
   ]
  },
  {
   "cell_type": "code",
   "execution_count": 12,
   "metadata": {},
   "outputs": [
    {
     "data": {
      "text/plain": [
       "[0.0, 0.0, 0.0, 0.0]"
      ]
     },
     "execution_count": 12,
     "metadata": {},
     "output_type": "execute_result"
    }
   ],
   "source": [
    "[diff((u**i).func, u.func**i) for i in range(1, 5)]"
   ]
  },
  {
   "cell_type": "code",
   "execution_count": 13,
   "metadata": {},
   "outputs": [
    {
     "data": {
      "text/plain": [
       "0.0"
      ]
     },
     "execution_count": 13,
     "metadata": {},
     "output_type": "execute_result"
    }
   ],
   "source": [
    "diff((u1 + u2 - u3 + c).func, u1.func + u2.func - u3.func + c)"
   ]
  },
  {
   "cell_type": "code",
   "execution_count": 14,
   "metadata": {},
   "outputs": [
    {
     "data": {
      "text/plain": [
       "[0.0, 0.0, 0.0, 0.0, 0.0]"
      ]
     },
     "execution_count": 14,
     "metadata": {},
     "output_type": "execute_result"
    }
   ],
   "source": [
    "[diff((u + c).func, u.func + c),\n",
    " diff((u - c).func, u.func - c),\n",
    " diff((c + u).func, u.func + c),\n",
    " diff((c + u).func, u.func + c),\n",
    " diff((-u).func, -u.func)]"
   ]
  },
  {
   "cell_type": "markdown",
   "metadata": {},
   "source": [
    "## Differentiate"
   ]
  },
  {
   "cell_type": "code",
   "execution_count": 15,
   "metadata": {},
   "outputs": [
    {
     "data": {
      "text/plain": [
       "3.2642172159898473e-06"
      ]
     },
     "execution_count": 15,
     "metadata": {},
     "output_type": "execute_result"
    }
   ],
   "source": [
    "x = np.linspace(*mesh.endpoints, 10000)\n",
    "du = u.diff()\n",
    "diff_num = np.gradient(u(x), x, edge_order=2)\n",
    "diff(diff_num, du(x))"
   ]
  },
  {
   "cell_type": "markdown",
   "metadata": {},
   "source": [
    "## Integrate"
   ]
  },
  {
   "cell_type": "code",
   "execution_count": 16,
   "metadata": {},
   "outputs": [
    {
     "data": {
      "text/plain": [
       "2.2919372246005203e-08"
      ]
     },
     "execution_count": 16,
     "metadata": {},
     "output_type": "execute_result"
    }
   ],
   "source": [
    "x = np.linspace(*mesh.endpoints, 3000)\n",
    "int_num = sp.integrate.simps(u(x), x)\n",
    "diff(u.int(), int_num)"
   ]
  },
  {
   "cell_type": "code",
   "execution_count": 17,
   "metadata": {},
   "outputs": [
    {
     "data": {
      "text/plain": [
       "1.8833856609707203e-07"
      ]
     },
     "execution_count": 17,
     "metadata": {},
     "output_type": "execute_result"
    }
   ],
   "source": [
    "u2 = u.remesh(Legendre(mesh.N + 1, mesh.endpoints, mesh.quadrature))\n",
    "int_num = sp.integrate.simps(u2(x)**2, x)\n",
    "diff((u2**2).int(), int_num)"
   ]
  },
  {
   "cell_type": "code",
   "execution_count": null,
   "metadata": {
    "collapsed": true
   },
   "outputs": [],
   "source": []
  }
 ],
 "metadata": {
  "kernelspec": {
   "display_name": "Python 3",
   "language": "python",
   "name": "python3"
  },
  "language_info": {
   "codemirror_mode": {
    "name": "ipython",
    "version": 3
   },
   "file_extension": ".py",
   "mimetype": "text/x-python",
   "name": "python",
   "nbconvert_exporter": "python",
   "pygments_lexer": "ipython3",
   "version": "3.6.3"
  }
 },
 "nbformat": 4,
 "nbformat_minor": 2
}
