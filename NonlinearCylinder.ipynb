{
 "cells": [
  {
   "cell_type": "code",
   "execution_count": 1,
   "metadata": {},
   "outputs": [],
   "source": [
    "%matplotlib inline\n",
    "import matplotlib.pyplot as plt\n",
    "from matplotlib import animation\n",
    "from IPython.display import HTML, clear_output, display\n",
    "from ipywidgets import IntSlider, Output\n",
    "plt.rcParams['animation.html'] = 'html5'\n",
    "\n",
    "import numpy as np\n",
    "import scipy as sp\n",
    "import scipy.integrate\n",
    "np.set_printoptions(linewidth=120)\n",
    "\n",
    "import os\n",
    "import sys\n",
    "module_path = os.path.abspath(os.path.join('.'))\n",
    "if module_path not in sys.path:\n",
    "    sys.path.append(module_path)\n",
    "\n",
    "from spectral import *\n",
    "from elasticity import *"
   ]
  },
  {
   "cell_type": "code",
   "execution_count": 2,
   "metadata": {},
   "outputs": [],
   "source": [
    "def compress(u, v):\n",
    "    return np.stack((u.func, v.func)).ravel()\n",
    "\n",
    "def decompress(y):\n",
    "    func_u, func_v = y.reshape(2, 3, *mesh.shape)\n",
    "    u = TensorField(mesh, func_u)\n",
    "    v = TensorField(mesh, func_v)\n",
    "    return u, v\n",
    "\n",
    "def derivative(t, y):\n",
    "    u, v = decompress(y)\n",
    "    du_dt = v\n",
    "    PK = rod.pk1(u)\n",
    "    \n",
    "    bval = (0, 0), (0, 0), (0, 0)\n",
    "    F = PK.div(bval, coord='cylindrical')\n",
    "    F -= damp(t)*v\n",
    "    F = F.match_domains()  \n",
    "    dv_dt = F/rod.rho\n",
    "    \n",
    "    return compress(du_dt, dv_dt)\n",
    "\n",
    "def simulation(u0, v0, T, x, c):\n",
    "    U = TensorField(mesh, np.zeros((len(T), 3) + mesh.shape))\n",
    "    V = TensorField(mesh, np.zeros((len(T), 3) + mesh.shape))\n",
    "    E = np.zeros(len(T))\n",
    "\n",
    "    r = sp.integrate.ode(derivative).set_integrator('dop853', rtol=1e-10, atol=1e-10, nsteps=1e4)\n",
    "    r.set_initial_value(compress(u0, v0), t=t0)\n",
    "\n",
    "    out = Output()\n",
    "    display(out)\n",
    "    for k, t in enumerate(Progress(T)):\n",
    "        if t > r.t:\n",
    "            r.integrate(t)\n",
    "        U[k], V[k] = decompress(r.y)\n",
    "        #E[k] = rod.energy(U[k], V[k])\n",
    "        out.clear_output(wait=True)\n",
    "        with out:\n",
    "            plt.figure(figsize=(6,3))\n",
    "            plt.plot(x, U[k, 0].diff(0)(x + c*T[k], 0, 0)/np.abs(A0))\n",
    "            plt.show()\n",
    "            print(\"time:     %.2f ms\" % (T[k]/1000.0))\n",
    "            dist = c*T[k]\n",
    "            print(\"distance: %.2f m\" % (dist/1000.0))\n",
    "    \n",
    "    return U, V, E"
   ]
  },
  {
   "cell_type": "code",
   "execution_count": 3,
   "metadata": {},
   "outputs": [],
   "source": [
    "def animate(k, u, c, T):\n",
    "    line.set_data(x, u[k, :](x + c*T[k]))\n",
    "    line2.set_data(x, damp(T[k])(x + c*T[k], 0, 0) - 0.75)\n",
    "    time_template = 'time = %.1f'\n",
    "    time_text.set_text(time_template % T[k])\n",
    "    return line, time_text\n",
    "\n",
    "def init(U, T, x):\n",
    "    u = U[:, 0](None, 0, 0).diff()\n",
    "    A0 = np.max(np.abs(u[0](x)))\n",
    "    A0 *= np.sign(np.max(u[0](x)) - A0*(1.0 - 1e-10))\n",
    "    ax.set_xlim(x[0], x[-1])\n",
    "    ax.set_ylim(-0.8, 1.8)\n",
    "    ax.set_xlabel(r'$x$')\n",
    "    ax.set_ylabel(r'$U_x(x, 0, 0)$')\n",
    "    plt.close()\n",
    "    return u/A0"
   ]
  },
  {
   "cell_type": "markdown",
   "metadata": {},
   "source": [
    "# Smooth initial wave "
   ]
  },
  {
   "cell_type": "code",
   "execution_count": null,
   "metadata": {},
   "outputs": [],
   "source": [
    "direct = 'simulation_samples/FullEqn_table_top/'"
   ]
  },
  {
   "cell_type": "code",
   "execution_count": 4,
   "metadata": {},
   "outputs": [],
   "source": [
    "#%%writefile simulation_samples/FullEqn_table_top2_mat1_A-0.01/data.py\n",
    "\n",
    "# rod parameters\n",
    "moduli = get_constants('landau', 'pmma')\n",
    "moduli = np.asarray(moduli)\n",
    "moduli[3:6] = moduli[3:6]*4.0\n",
    "rod = CircularRod(600, 3, 'landau', moduli)\n",
    "\n",
    "# mesh parameters\n",
    "mesh_x = Multidomain(Legendre(20), np.linspace(0, rod.L, 21), periodic=True)\n",
    "mesh_r = Legendre(5, (rod.R, 0), 'Radau')\n",
    "mesh_phi = Constant()\n",
    "mesh = mesh_x*mesh_r*mesh_phi\n",
    "x_field, r_field, phi_field = TensorField(mesh, np.meshgrid(*mesh.grid(), indexing='ij'))"
   ]
  },
  {
   "cell_type": "code",
   "execution_count": 48,
   "metadata": {
    "scrolled": true
   },
   "outputs": [],
   "source": [
    "#%run -i 'simulation_samples/FullEqn_table_top2/data.py'"
   ]
  },
  {
   "cell_type": "code",
   "execution_count": 5,
   "metadata": {},
   "outputs": [
    {
     "data": {
      "image/png": "[encoded data removed]",
      "text/plain": [
       "<Figure size 432x108 with 1 Axes>"
      ]
     },
     "metadata": {
      "needs_background": "light"
     },
     "output_type": "display_data"
    }
   ],
   "source": [
    "def damp(t):\n",
    "    data = 0.4*np.cos(np.pi*(x_field.func - rod.c*t)/rod.L)**100\n",
    "    return TensorField(mesh, data)\n",
    "\n",
    "t = 10\n",
    "x = x_field(None,0,0).func + rod.c*t\n",
    "plt.figure(figsize=(6,1.5))\n",
    "plt.plot(x, damp(t)(x,0,0))\n",
    "plt.title(\"Damp ('sponge' layer)\")\n",
    "plt.show()"
   ]
  },
  {
   "cell_type": "code",
   "execution_count": 6,
   "metadata": {},
   "outputs": [
    {
     "data": {
      "image/png": "[encoded data removed]",
      "text/plain": [
       "<Figure size 864x144 with 2 Axes>"
      ]
     },
     "metadata": {
      "needs_background": "light"
     },
     "output_type": "display_data"
    }
   ],
   "source": [
    "# Gaussian curve\n",
    "width = 20\n",
    "t0 = 0\n",
    "t_max = 100.0\n",
    "dt = 10.0\n",
    "A0 = 0.015\n",
    "\n",
    "T = np.arange(t0, t_max + dt/2, dt)\n",
    "u_data = np.zeros((3,) + mesh.shape)\n",
    "u_data[0] += -A0*width*sp.special.erf((x_field.func - rod.L/2)/width)\n",
    "u0 = TensorField(mesh, u_data)\n",
    "u0[1] -= rod.nu*r_field*u0[0].diff(0)\n",
    "v0 = -rod.c*u0.diff()\n",
    "\n",
    "# plot initial value\n",
    "x = np.linspace(0, rod.L, 201)\n",
    "r = np.linspace(0, rod.R, 101)\n",
    "fig, ax = plt.subplots(1, 2, figsize=(12,2))\n",
    "ax[0].plot(x, u0[0](x, 0, 0), x, 30*u0[0].diff(0)(x, 0, 0))\n",
    "ax[0].set_title('Longitudinal displacement and strain')\n",
    "ax[0].legend(['displacement', 'strain'], loc=3)\n",
    "ax[1].plot(r, u0[1](rod.L/2, r, 0), r, u0[1].diff(1)(rod.L/2, r, 0))\n",
    "ax[1].set_title('Radial displacement and strain')\n",
    "ax[1].legend(['displacement', 'strain'], loc=2)\n",
    "plt.show()"
   ]
  },
  {
   "cell_type": "code",
   "execution_count": 7,
   "metadata": {},
   "outputs": [
    {
     "data": {
      "application/vnd.jupyter.widget-view+json": {
       "model_id": "dadb914b509141c99a6f814323e98e5f",
       "version_major": 2,
       "version_minor": 0
      },
      "text/plain": [
       "Output()"
      ]
     },
     "metadata": {},
     "output_type": "display_data"
    },
    {
     "data": {
      "application/vnd.jupyter.widget-view+json": {
       "model_id": "",
       "version_major": 2,
       "version_minor": 0
      },
      "text/plain": [
       "HTML(value='')"
      ]
     },
     "metadata": {},
     "output_type": "display_data"
    },
    {
     "name": "stdout",
     "output_type": "stream",
     "text": [
      "CPU times: user 3min 40s, sys: 7.16 s, total: 3min 47s\n",
      "Wall time: 1min 54s\n"
     ]
    }
   ],
   "source": [
    "%%time\n",
    "U, V, E = simulation(u0, v0, T, x, rod.c)"
   ]
  },
  {
   "cell_type": "code",
   "execution_count": 21,
   "metadata": {},
   "outputs": [],
   "source": [
    "np.save(direct + 'mesh_grid.npy', mesh.grid())\n",
    "np.save(direct + 'displacement.npy', U.func)\n",
    "np.save(direct + 'time.npy', T)\n",
    "#np.save(direct + 'energy.npy', E)"
   ]
  },
  {
   "cell_type": "code",
   "execution_count": 62,
   "metadata": {
    "collapsed": true
   },
   "outputs": [
    {
     "data": {
      "text/html": [
       "<video width=\"576\" height=\"360\" controls autoplay loop>\n",
       "  <source type=\"video/mp4\" src=\"data:video/mp4;base64,AAAAHGZ0eXBNNFYgAAACAGlzb21pc28yYXZjMQAAAAhmcmVlAABpv21kYXQAAAKuBgX//6rcRem9\n",
       "5tlIt5Ys2CDZI+7veDI2NCAtIGNvcmUgMTUyIHIyODU0IGU5YTU5MDMgLSBILjI2NC9NUEVHLTQg\n",
       "QVZDIGNvZGVjIC0gQ29weWxlZnQgMjAwMy0yMDE3IC0gaHR0cDovL3d3dy52aWRlb2xhbi5vcmcv\n",
       "eDI2NC5odG1sIC0gb3B0aW9uczogY2FiYWM9MSByZWY9MyBkZWJsb2NrPTE6MDowIGFuYWx5c2U9\n",
       "MHgzOjB4MTEzIG1lPWhleCBzdWJtZT03IHBzeT0xIHBzeV9yZD0xLjAwOjAuMDAgbWl4ZWRfcmVm\n",
       "PTEgbWVfcmFuZ2U9MTYgY2hyb21hX21lPTEgdHJlbGxpcz0xIDh4OGRjdD0xIGNxbT0wIGRlYWR6\n",
       "b25lPTIxLDExIGZhc3RfcHNraXA9MSBjaHJvbWFfcXBfb2Zmc2V0PS0yIHRocmVhZHM9NiBsb29r\n",
       "YWhlYWRfdGhyZWFkcz0xIHNsaWNlZF90aHJlYWRzPTAgbnI9MCBkZWNpbWF0ZT0xIGludGVybGFj\n",
       "ZWQ9MCBibHVyYXlfY29tcGF0PTAgY29uc3RyYWluZWRfaW50cmE9MCBiZnJhbWVzPTMgYl9weXJh\n",
       "bWlkPTIgYl9hZGFwdD0xIGJfYmlhcz0wIGRpcmVjdD0xIHdlaWdodGI9MSBvcGVuX2dvcD0wIHdl\n",
       "aWdodHA9MiBrZXlpbnQ9MjUwIGtleWludF9taW49MTAgc2NlbmVjdXQ9NDAgaW50cmFfcmVmcmVz\n",
       "aD0wIHJjX2xvb2thaGVhZD00MCByYz1jcmYgbWJ0cmVlPTEgY3JmPTIzLjAgcWNvbXA9MC42MCBx\n",
       "cG1pbj0wIHFwbWF4PTY5IHFwc3RlcD00IGlwX3JhdGlvPTEuNDAgYXE9MToxLjAwAIAAABQEZYiE\n",
       "ABH//veIHzLLafk613IR560urR9Q7kZxXqS9/iAAAAMAAAMADhIIszNu7bARC4AAAgvVSb1kVAfA\n",
       "vEAl4gF6kPRTumb5x6KEEgE3wTyVGwS9UW/QgN/nQLWKNjVBH/vAn+XHmCqQOdD3v9Ay06EFM7Aw\n",
       "zHjyxrpeoicb1tZhae35w0UFIqhbsZf379LAotF6/yuDkNJwm9nsjE+WJRFgPfQ3tEEo7gt2ymbF\n",
       "8JAo7HyvjqfM+LzKmaKTYoABanixj52nkT5HhFT7RWmr/14g0CnVi5N5tU6iiDzyrwLyXYTbBlHR\n",
       "A047iJv6YzLi/EniaBHPAo6vJYv4HipoQlmszjToovLZnIUmMzMb5/G2BkvfD4o9DJRdRWxYMly6\n",
       "DrHWlYnAzY2MJHDQPfAuCNxCEeX57fgA8e22qpbI0qNzWy2fgou/S0nYIlTRdp7yg1VmB3iOzP9H\n",
       "9sTfu4FsauiDS0qe7ClOVIt96WDU4AAAnQagilk96+lH2d2LZXzsfrchEoBLV5eFlzqEf5MySlWj\n",
       "cvT8GqO3E0GKeMezgBOCgnyA3vumxYI8kXVN1Ak1iHlHAjLEIMyQSiTq+0BraDShQJaFA8XA8Z5z\n",
       "5TegbPd4ls+DBKMKyPw9jtFajYNZS5S3c5OYUbhAgzOSp6ycxRrACeCirfw2rrBkALY7VM2+33zl\n",
       "ER/MEXjiaxLNOH/HXVwEbf08qBEp0VIXlxSUfjhikmXhYnMICrbOrhPrHJGX907yTve8Hy/jDVRc\n",
       "4nu+noGTD+/YQuaxgi2IfOai+2uu5pB72L9fB0epQEsVOQKL9haV1JeetUce7XkQub/truELhzGj\n",
       "cleOk30j/5shoBwhnfDnpSUtm6eRWJXB4D6ZDi64ZuBpnfbDSq074onXk0EYT8n8f1/JZEpMgMJY\n",
       "QUT/HiGD2SY5tTjmv3PpEsPjGAi933dFRh0gZz0oQAAoI558CWyRh+B+D3Nh+IEcZjMZv5nBCZA5\n",
       "1fH2hKHjX10tij5T7IRyhGem4hbzCSLCDyTS07FLz/szTlSXPpxZpdErxPGYZRyMkmIdzUl5D0af\n",
       "PpRLHsGJAl2L855EGfz07fDSFeNXTiWJ9qrIQPDMIUCj2T1vZNeA4KM0ApYtzNG57P/En9OPhAdC\n",
       "kwJ9qGmEXGBj8EbzVmOtKZ64BoW5G2DMoBQWVwZ3iIETc1AP3rBLM6OH4hb3Fo1/57CGZWzGnZds\n",
       "BaSAHn2qb61uIY3eEYp7V6dyCv8ZNOYKhFd4nwTI4JNDBnHoRHZXcxj6U7WzLoNBq8lUg8fMPPk6\n",
       "I4A1YzdsmxHlZCnnmz/Kss5FDug/KLGu5fP2x2Vu7gRotDXn9Tcm16xizUzS1rZKyYLiYCi0ULRx\n",
       "yNFZ7skVFLGxp0HHudaAjcI/bR/pyGrck/mo8L5Ti397uXAN3cyOFjP1tb/v9NdArkzHEnqbcjgw\n",
       "rdS7jF7R+4rRoXRIBXmxOXwKi38D4BLZkBqylMABO87jXl+qBEhe3WOBVWU6TQfBzz06SCS8Obcu\n",
       "yR6aK2TVlC9USA04YG4+mJBF4QcgFdyNwSzBsTgA9ODd9Iw6XCoWilJ6j38lwGYMsRNdzJuplxVZ\n",
       "f1+d6zkmnXeu02lOCdwmqwT04tR8IRCrWGbwpBO3rTsvCeAHZ/IO+dyY/3p2cv8gw2KpQ7pvMoEX\n",
       "s1+RrRKhJl02/L5a5KnK3fPnRCpExJ6llgfoBj1nvo+6OmyfEdBBgLPbZEr6YZTp18KSV9aRDCbl\n",
       "YnqZcyAt1/dsDZduojUvdg3lFKq0IIPGaRljI6WyukwVsHLp4clVB+GEEaH0WoU8SAmjU8uLJRYB\n",
       "6yaRQwef94UJOsiUlrs6us2luqrhQLpdQ6ebH7oYkzN7Big2s7WAzKLTdw56NWXPWuxTKGHzN7pf\n",
       "pNdkxmpEGHhK3NPqrSJD0Zj9EHFqykvIkoR32cDbaqWfSM4/dQ2bX+PI6P4rgFeCZ8ECUVatiXfE\n",
       "9+t/5dOexaTmNeAcnbgAJs5mf7L7LxNDWqmhDHI5oz39mWZT8x7tCqC6OJGCn98ORhrc1C4mkamj\n",
       "/UgFoG9quEUlLKTg6F07T/+qbyhkYhPg+cWVNVgIX2ZhfrDDrHJ2WWKEC9YTrqm2X7+lANThXO0l\n",
       "04V91KYsR19kcgoaTpGGxkNWq1qJnTJ//YHUrfPQK2LXN9kRYYJa7SRqN0g286rt/ivCAI5599dw\n",
       "UvHVR2mivBVI2cFgaESZK9AzDVs884DA7Ix1fmbYTicWVEbVaEAIyZ0t6bN9k/X2UnTbT+CJzZCx\n",
       "fnTwC+kyPKsR9TvWyrl8f7TL7+TW/c9bE0BtkWNtRTUA/RpfchmKTE1Ei22Amq9sxh6Q19kIwPCB\n",
       "dcTkwf2UXFrHOytlJOApca7dMQvsOmbV1L/Xzf3NKLTWTbC5KqKc9/1/pXZu9fvDeGOqT25TuNot\n",
       "+kte2sVLrhx6NJ91Z9EOdiD17Jeoj3ppIyrRSapbd9/9s6R5z16OHO8TU4RuFh7LgCt+R/MOIQga\n",
       "fZGUaTkCsEERVNa3zGpRZdgSQmpn2crgvWfGh9m/INDdVJ3Gj/K0hDSVtqWcUrN4rRSSs3SK+bqR\n",
       "3YbSx+nmysuUJXODPAY0AvUbEZ2nmZmoMvlXA7kgPXu74BqiOoh5xrg4S/h/wS4ZTStwn8UN19d8\n",
       "goHGMx940mRbiLQMrGIxPhYFyJsuANq8Mqz6oEFTiCmlLxSYSMwr+IZvMajB+kh51QsUzsHpj0I2\n",
       "Eiq68T9PDgOzW7TYM6pD1EbJ1tWRCXH1t4tMrQPWjQB1vHzO9kAv5Oguz0Mzde72T78v4+t8w1M3\n",
       "qyDRhEYC5b+e36YbqBfkEduN+0KcXxBXCvQyS9TffOggWpNbB28b6klXyO7iBPsmrUj3pZfRAxRs\n",
       "NQQlecOadtj03pledXZbNjp4XVpPNc0NCEbW8cUg3iHbdFZ8549ztgGpzu5HpmnISLry6bwQLscI\n",
       "x9hL7677yR4S4tq6Z7llp+LRiQN2oAxWdJqiFTbN/cmcz0V/oRE7Dum2JXkeJThGYKnO1j6I6fyB\n",
       "7XrmOMIONunRfyVJsBGTrGI8DS+yHR4dcciyNLgTuhtRYQHOLJZUeH0D//t3Ix+tfHG6ya+MQAAQ\n",
       "ntiEELj5jwLC6F91aWUompXlXQQx0kde3tgl4AXwZPgXRLAzx6b4yf4UKPbLgdlkUsbm+TOgAoy9\n",
       "FsF4B6PcuWmOt9YsNhE5YtVBdOPi3I+gvqAQ442dneGFh16DBc8HNzth0LKJMazF6q7RiBP9ZG7e\n",
       "JeIK7LHHJaVs23KFiHRcTXEM24YMfehJkdvr1OSE+oIMQnZvvE+gw+m/D+ea2v49PBZpY8OdsX0Y\n",
       "AjVOFhQfsFdAvZWgALhw4l+vuRBoJbU6/kZwfYbiFkfyjL9SOAOFrRQrg8l/BwJTo1/LV6+z+p1y\n",
       "D2e36RgdtPGwmD5TUPbwOJFBNRjErv85pjvFeiqgzq+G/+pN6I9BT6ELTlP8IpnHgLo3lZLJWDdD\n",
       "Vlw6xfP53MC0kjLza+VW2zRv4hcbpY4otvEvxpqDp4Ra7+2F7YK3qy9bF3P4GsR/2lXQYV7PDenR\n",
       "cbOvUjzpETAza7IpwByE+ny1eVL1SZEJqulFfG4kYCiZCuDSHIdFg/s7YNbbiMCYse1jJb4Ihv3i\n",
       "aRqpCEVNSTZfm0cNksKxLYJOuu5N2tuRrqZ2qFYWEI8Fit4VpmOmuRw2RQISmQt2T5w41WRPppK6\n",
       "KWfDpDNgKbf/TCjBAfv2Fts9oKJV0lDNUpjtjbjlIK0xoiFAT0EjLdxWw8VeUkOppttXdKjuR+RE\n",
       "S5h/fgU/gUPR0kRtAcCMB8h2dwyPZ0k7V8AAczJsgt02pbF8X4hN3RGCXqUsfnWFY5FNXyFnmMSM\n",
       "UgBxNwpuSxw/2pghrJdx/i3cKSlpR0k0D5JergPMMs2TWuumZWmasMSLD5ZLZfr0b16juWqG5xK0\n",
       "Xou/c2zrG2rACSJGHTKoSKcGsUnQdmYf7g+Qr46tyiOd4bS158d9WdIw0P3eoJ9V/ZuNazBdVgEG\n",
       "GzgHybZ8rfG7pFjFBB87gBStLE+qU1OHC+syKHIeKH77ohMBj6eyc/M1tJN7aidopvDWDAiRv9Jt\n",
       "ey8QtC5VMyXXD8QJPngi7tmv0WCYCId+wUwM6vBdM6JY1iv4JA3ccmdS7GQOaBOwLfAcU0UKScGI\n",
       "/dmTkS2hUJNQOwPyfomCtHWW1BEuwziXkiMRkavqAH4KC+QKBDDi/4SfogmMkkbNgGFmMIjMYz3Y\n",
       "ZvDDV8goghAu7scVrCGqyOIYNutvKpc1YHfxJ4xFpHVv+CbceNruidgx9sZ7WETfbIcG0GsIdN3v\n",
       "KApolpkNHOvXFslXm29ukHAn44ykAOu8wwZGfo7bKvLZXEjSLLVTJZ0EgBmzZOPWkqxXlnmboQ2W\n",
       "EK37HMgtK4jyn2b1+LpkpQJsZGV4CVtRA8u+rF5tH38d2bABW7ZLBjsYRiru0JIrxRnF4eq1KvZe\n",
       "9oUEPoA6RCvfJp/wU9RY3hx8jHXqUgZ9Kt/hasKdRHoNQK7krcV3JFC++MLQprymkL2E7B8N/Wln\n",
       "M/F23/YhE4NHLEKucOZW5lQx7WEVbOp7WrH/13wIcQasbLweXY/uOKPTaIlO5cwLzCR8ByBLlANO\n",
       "00mQCeJuVFFcbD97ab4IgdL2AJ6D9UDf9nRljIHu39sYW9Zuovoxe9qPcC2IOEMS2Ya7gJALZyYW\n",
       "M5c8yWU1/oLjKDixwBn+KlVBZpyC0VA/ts7x/rWycMRbmN9ho3F7gBXfrFLzOQnuoLEYLr6slI6p\n",
       "7dilyl9k08/i0EUNj2WMqcf5s12mj9E99lFREF0xTxxobG1CRvGw7q/+783S8hvArZG53MyDcx4J\n",
       "sDTNSZHtbfFaGgImh6CAAAL1vs7k2Hd5k76rHJcrFj6wnDMdtNQI5iSeL8HhQoqC80zhdJFqUDGO\n",
       "cm8kN1lGLP/RPJ1RHGx77nYlRvdrZXRNO+pPN1VEG9BE2871z774QGmY5wbK0pZQ0uPnHNokfEnY\n",
       "lULRFybRoULcJofqWO1Atj121+fHQWVxyY879ETM3M3xtJIhB+X4R0ASrsIvZRqdIFdSd60l70Gn\n",
       "QD3Vkpvgi/erUFfOdeQ47XPCVYm3eUxWxGvk27fwY1FQG2mA7LkKW/9GgZU8oKaMLC27ot/HV2B9\n",
       "/v7iuHygdSkeRcw0Oul/ZZyfEERwpZ7wr9FIh1LIHcBXKu2kDjoef9wBMWIVErT7YFBbWf8W+6sW\n",
       "EitsnijNaRSnUB4bWzlnT8u2/E6zDvAyYZScPqVWJNXBxceX4ZhT/3K6Ga5hPZeF8Hhcxeiw7BEr\n",
       "ztb7csWJqzMOI3xUxhhVP9Ra8GT1DSO5TNF8y4ksKINSeGSvrm9npL0HFw3cwbSS4kJkpTQRrUU3\n",
       "IGsND/742P2AeF4EnrDBNJKvBgfVAn70Ij9LLjDFr1N79YqCVG0EnqCBuV7ngaYt1ydL+bbYSRQt\n",
       "rnBy+TqhPCqr2I7OV4iYZUjzeKVpegiVPfwKSl4DXxEpWHRTlhZbNktut111X4mWqUcl8UayFXch\n",
       "P/OLG77P65IyOHiRGMC5XaGC/0Kr5If3zdo91e/fkXHqPyB7cIgcn5/BBR0iUi9lmzbIAVPPRJkj\n",
       "S4C2TO84263qZzQzPxRw1CSh4Hiufp7SmNR+BSLS8LBKd1S34P/cxnldWRl42npKCBHnO6CiqRcW\n",
       "bwnXQQpVvpofxTbIvTu5ntk8eml5GejZYADfbKi4HJcmxIcDYxZXliOJQ3QET4s2HGmkRthfBqml\n",
       "EWw+fNYpSNsva1VhgqzH0KOMpx5BaAcehCCFi7994W4C1nvWNI60S79n09BfZoncMTp5jkNXRQon\n",
       "LPGYZA6yYagraG19j8D7alp62yMqEKB0sm+AmZ51YO7SbV//1WaQ9adAzmgLTw3iPF+sXtZwuvXA\n",
       "U5wgld+J83Rtd6swT4q84W/f8WMI+JBZNT8HB0a65qsPcVHWxxy9E+sqosfjji5J2DBu/Bp2aBj3\n",
       "nVyQDeBKR0J/uGTPB3ZbyIRumct6xtVdqRWGZL1G+Ar4GTRwvi9R5dTsI+rvaSkslTPK+m28KliT\n",
       "nqy/Bzvdyj1t2/T9hxEAgcUKzatxC4E1NieAUqQyr/20KXBCS7BrPZDl39v2mC5CeKlfa34LBxWG\n",
       "TVEsvYngf5sNArfqOdI/tVXEwCQZ+zvgQ/56Mo4WqfJi3p2ZZqu0nEZ64apvbxzx76nr9OzJa6Wg\n",
       "c1cLgmfYApjCt1xE6zqiMxNaN3BgJQ6tY9I7Q3yUkdbnTnirBpuWnjE3JjQ/jke3/h4E/JhioKGO\n",
       "jMg3tWaKpULXuZZAbu33ezTKxEpjjQzPb5H13x3S2NpkF8gNOeyf5ee86joH+SSRPAHYlqSjwFAx\n",
       "7FvEVcKLWBZSnuftLLKz9Mh3JsOZ+RHvcVz2SOKKGsVmruacc5SGYMW9Z8sexTflaKm+ANzalXtD\n",
       "7hQ8/s9bi+uCOH/i8nK0z5CR7Y+11+aibT80mxDwZ4pOTkFof+Vu/W4w9PZBZ8LFs4UeMoWz4BdJ\n",
       "OoPLV2Zw9N05BNfAn/RC7hYozO3CT5jKW4aWtT22U7bEUC88G8kUtAt+5xLc/2V1bj+8DFJ18GX8\n",
       "L9LXHXqauEWul0FekaoDoODy3mWZu9HrZAMha6DpUTNVnj7NvmE0KP7eGg4jpYRG/EtpXz6No2Ch\n",
       "QSBq2uaNpKjs5YVHQnyFVH308hNAcz12rxftTUZwVM9vuq4AAUXEVVfCzc/zWU4LIvpf0LAF56Zn\n",
       "Cq+j+a7meb6reFFPycDwGWQqHy6tuS2M+4R8h8aEte2cLzptS0hIgIDtg5YAAEbBAAABoEGaJGxB\n",
       "H/61KoAD6/YKyQru4pKx0a9Mv/iE2KKZGpF28m/cWS1C4Oij4CwsszeEYXu9/SmrVYS08lAAAVhc\n",
       "CuFI2Fn8d+kwUnOZhIS7dqmc3o8gECkgIJqdO4DvHOvBNmuDvzRr5UCFaEgyTqNC7YR8Yrmh/lAQ\n",
       "0k5JzbOugz64bEddnLIewyHmD3xUtZ20ibklnf6DR+UTni2qNChWxwROMXf51O3uSoKEQg5+rZXf\n",
       "XqjCCSHEkMpB2rctMEghfbnu3RYXx2hp07eAYhH5KI409Ci9QGU+1pJtCcTXTzJE1gJogseNRP7U\n",
       "omi2o31wGsQIB9ELVM3JLBb1UzNVAC73rj4Bu92ZI/qNMv8u6HQmXlYNHOmJOxYZMz8/BctUXt2/\n",
       "FOFV1/BJ8+mTqp0vuZ0MVo/8WOhg5EfBY0LYbBA6JMt5i98AkF+ED4V02ZSNSzI/yEYRl7vEOt3q\n",
       "Z79tcRC8bL3GXF7SZdMH3jEQw9xSqAEOeKjNWfmvXbl4CcfMLX5ruu4BETS8iQCYk2kVrrR5SUcj\n",
       "rYqA1o2w1dw2PpDAAAAA8kGeQniHfwAPRoCgf7gBWwheGcRs61UU+2CQiD2qN2Q68ezJ6FKYp0by\n",
       "e7hqoLzklCTt9WbTw5jn7IzvbqKYVsrlBEi5dvM7Pftf/Ju8Z0okn0D/HhSQPpgXzqdhpd+WkGeM\n",
       "vohCgeZYd7bQZclf1Dm1jgcuL/S8+9VROB9mWLxSr/fneq/seBm4bDut4PVSKanv3zJuo2MNWdvB\n",
       "+I1rFNpwX7zFI4IiJ4fRq90ifeoVKsGIdUa6XOoAAAMAEBYyE2BDSshYuDehiBY/NzlkHapQrz/D\n",
       "46YvEwYS7KXysCVTvuZXpHHap+6AL5FZ5BZUj+SZAAAArwGeYXRDfwAWI7xSoAIyrLJr/XCDmVju\n",
       "bG+aTjo+/X+rntj1ASCEg0Iv6r+WkZpOW59SNroqg2Pjy/KC1n3MreYNt3oDs+/tNkXOe71oLoUm\n",
       "iZqN8Ra7bZM//tdf9Tp3+7jeObCoXWwkOdjfoenVD4OoE5vWw9UOP/nuQCVeijSbaye2ZmmkfMzb\n",
       "pbsCZlm5kZbJ3geqD+KnheS76ewDlZHsESRrytuUEjaEnKYDiGgAAAByAZ5jakN/ABWZNVIAIxsD\n",
       "QZ9U046cz7+ztBq2U7kW2ExnEmEI2ncxTYOISSnRDMdK3wXuOIQMssBZxMFAOmMu8pMs5gf0m+vq\n",
       "MkS5aSZC/D8gp4HfiOt0uZTbp4cUk48pdAAAAwKs4BfHJy6nhGQG+IeBAAAA40GaZkmoQWiZTBTw\n",
       "R//+tSqAA9UnYGC4BQbIXnEf9TGHWeZ/BdoESm858U+hZ5jrtlPlKCMUQLmNClLAh4Tyy6aLnNrg\n",
       "cHdsFMVaMSw8mB7HmWD8FbMsDf0AKQe+hJWeXkOYLB3Rr/FwVdMzXbtMHw9GOJEru4zPAiRPhsJl\n",
       "C5fPxFAFBAWv28W/uArhyG6CR4DO5WgtM4GkyfWWzyS6KXs6vYqNDPQzgBqIWuMoRhgnoSHIZ2NB\n",
       "Y4aHfAuFKU6c4F4O+xiJjPc26qiIy02zvOLYFhrzFV3/9BpXCHHWQE0d/3t5AAAAYQGehWpDfwAV\n",
       "lNvPzASAEsmKTXzM5rJLYOSW46RdzTqqbOpWJ39hSEwNp+BfZGeNtFUJfLfaurhGW9KodRxAgUFp\n",
       "Z4rJY7qC7mz63/70CP9mP5Y/UJubmkyguhFO66oFEHEAAAC/QZqKSeEKUmUwII///rUqgAPTLIuI\n",
       "AoDk702ki58wSgp0GkdG/fcZSTsZOGYSoc7eTESDLpvsucL9m0P/NVe0FpzGufvH7WpgV9J+4wQ9\n",
       "k7kLW00NAov+mLih6t69rWkdAO3wyxbuOUnQdMhJB41Mz3Sd/Q6iY8F3l2+c4MwIraT+qHVVBWt2\n",
       "vFUIyB1okCn53f3uIafalJRX1h+QFdRKW8cd7+INZ748M3gGPxLgaNTWT3Q9rG3wmi4AKeTkpZ8A\n",
       "AABbQZ6oRTRMO/8ADu/yzt8Q4AN0QRi+fd6Hlwt7gZVg/vNpO5LLGpm+6INb3NyL1OQ/kgaX/WYN\n",
       "B6MIDTP5Icrm4Xv754uvSPeY30g/lDtMnM8iqJQRQPdUXaSxiwAAAFcBnsd0Q38AFMI2XcJAC3rk\n",
       "usT0PleVF3ANkpXenN+fL0VWT2Ms3M7Ziv3cl5IAtSMwTCONK4NIEUtZMBI/jY+dTLoV96FU340w\n",
       "5vWs8JVcBUcCMZ1ADegAAABMAZ7JakN/ABWXnWCuqQAto5e6oTTJ/Z8cKKzpBsrHVLul/Y8w9yk/\n",
       "Hp3hl/p2SK7j9B0qLLNs45e/x59fsvzZ+ZWFrkJUqxM/dQBTQQAAAFxBms5JqEFomUwII//+tSqA\n",
       "A7r+hoAI8POFwSlXEaXvhqLkKNHR0VnhrXeP1sAvHcobFC61jnNp9BjvCizW33zVRx1t6IJbCcxQ\n",
       "t+CgkqqpOhAAPWVqMX2u/nLxXAAAAF1BnuxFESw7/wAOkEF4L9ABOZ2WB8v/IghADTehM5rYClYN\n",
       "Xfh+cJTYqtKb00Q2MxPR0hfivY2UiwyxCicmrcXkFQ0r4F7szKK7et2X0GYxr5oPsvZMW8nvqbXU\n",
       "j5gAAABcAZ8LdEN/ABTGOoUgBK8wn/WxamZGX5P9pVYvYK54vhUAiyH8Pr33JXjwfpmFj0k5uwKy\n",
       "fQoSViDozIzLRwLv6pa5eULRPsvEKYF3xh/YydRbfxGVlN8uAZwe/tkAAABUAZ8NakN/ABUU8SAF\n",
       "t5AVib3sXRcqC5kuckUVA8WJRdB4Uk81l3Qm5xew7wMD5cizYdXmEyV/2w2mwXY1a4WifZeIUwLv\n",
       "jD+xk6hN/iMrIxMMAFlBAAAAc0GbEkmoQWyZTAgj//61KoAD0PqSAGsRrFxYE5kGOPaUh/Pk4Y5d\n",
       "0xlB2eoabI1ySROe3O/9MSdXTg1SeHfwA5GAUPnh8Yx7FZnibu67D55isFYlyMw6kH7GBmIChLqX\n",
       "mSsB7qZov4QxUcrmKy0DGZAACRkAAABbQZ8wRRUsO/8ADu5/D7/DgA3QWhfDsQ7W8qIbOd4AaHSi\n",
       "mDY2zzQFSb+IhDQm3eEmrs1hnJDBrjtuT80hIFQBOM7FVHg2jzmfFP4f9bq8/lYGkvWPLnQn16Ci\n",
       "gAAAAFABn090Q38AFZO5yONtAAudhQb1HsogvPmnO5QNJgrmUqlL58eBR12Q/NiineQaVMCOmf08\n",
       "gkUW0v64SZ9ZA2pyvF3ihAaxNfGCvR35Jv2I+AAAAGEBn1FqQ38AFP0UoM4AC5mM5HBew9wt9Oor\n",
       "jcEk5fy8onjxJV0/aK390hkhlSQgrGNCl1C5k41JCgj2fn72NBoXzcqdwB8/N8hxj0OsUxw9O9Tr\n",
       "bBxv4WarHAAICsSyQYHhAAAAw0GbVkmoQWyZTAgj//61KoAD01f3CJAEKvNiCySFi4Z17+2AQGrX\n",
       "iEU+xh/FiDOQMH+RpEPQZRfKTZdurfieDvJEqDS6i/YBgA04e9dm/jOHt6556hlc4DGR8DYCriKl\n",
       "4GCIXKbvDZleAI7uQQwvrN4J/5Hh6NGB7Oazd/rnL9owmgHDkUkM3N9VnoH+SVk0G2emXyw57Rrl\n",
       "LFgYMoaTXg2pXocRVQIXSjtdblQLWqQjWO212PErpqnWNhy6vAHrGAADegAAAFZBn3RFFSw7/wAO\n",
       "7n8dyIcAG5KolekiBBuABYOKf3Znvi6uMWXU/g0eZtkI4KWmxn3iLoKBBucftS8RHJ0KerVnPMLg\n",
       "2lugnfXvpsM1ucVS1HrI/2QZUAAAAD8Bn5N0Q38AFZiUDmgAXSfLmeinHQaH0ys7WjKOBPUd/ek6\n",
       "2fCAJgz5r0PFJ9HXm3jjtKDoOa4W1ZKaZ2IABA0AAABKAZ+VakN/ABT5uEsgBbo4TOVpDwSqrkQv\n",
       "sfvOb0SVSM1OCjnO35RHnZv3xOrmLsMXTG0y1B+evsecmAoD58mF4otivBb+8xUAAXcAAAC0QZua\n",
       "SahBbJlMCCP//rUqgAPTTrDiAGsRrFxbHFGeROg9kzib2jEav9phPYScE3dDXkQn1ecmZJpxsMuH\n",
       "9smpfIXloAB5QNQPUklosazJue5SC5ItZaMJQRrhEEWxv+4OqC9w1FzKwBea4yEPEYStta8w9P4B\n",
       "riqPCKHM2OTHgFy63KkxK5RcludYfIi/Uwci1AnzJR77l8RGbPuz+19tKxTn6T4pDyueq8oijPIm\n",
       "jIcQAAUlAAAAVEGfuEUVLDv/AA7v95+xaAEsglFbif4MfCO3ZUf/P95/99I+sTV+h6SXd9Z+Oz8P\n",
       "g52UyXZ2DcmYRpBJITEpbBq1VVe08IZ8mh2s9NaXwREW1uoi4QAAAEwBn9d0Q38AFRREABdRwu28\n",
       "L1jgXMdVifx5vfGGqzQPSKYb0gN6ipIPyUoaHNWACuFuRHk2jTwMn3DtZBggqqn0Eka6E0IZtidk\n",
       "KJeAAAAARgGf2WpDfwAVlO0apAC3LOXjcC24/w6r7C6llBrSyFuIOesYSsebbTWOLBzqnFPAt3/2\n",
       "F0ek71EpDOnAXU8424zhKFaoW0EAAACzQZveSahBbJlMCCP//rUqgAPU+fBLgKTemTPuKHrwKkfv\n",
       "KbB3CBPgfKkEMNkMc5vjPi615LIbGFA5kZuSvEt/qRGH4mEtyy9DNhA2L8v1qgGWvkS8wQezQDCr\n",
       "KPF96JZQLqNKuEkDt9jHX6YT9VMH+N76FA66anwX0R5zIbpU/zHx8M8TLrPf20lwZ/VpU11cOazn\n",
       "0zX6vWRM1e6o6blQ+T0RJFjKkDOKLYCRSu6J1jAABvQAAABXQZ/8RRUsO/8ADu/01zdY4AJpQqxY\n",
       "6IQm92rToOtNdjokI1I8uY76Kl7ZS8wTSRAMQJccYH2Ub490pmGqlOQ3drczVTxCbup4Vv6ZC5bd\n",
       "9vCYaFCykHpBAAAATgGeG3RDfwAVFPEgBbplFftUDWA1Onny0HoV8RkgeUUcAIaZ+SVbYD7GUXu0\n",
       "oy6zkxfiqMVMtg/es9OXsZ2aFtjwzYheNh7eVSDYlQABdwAAADwBnh1qQ38AFZmAeE1UgBbdB88a\n",
       "5G8FVB/bOnUyPzJ1V0Q9k4+sld1Kmo0uceBtm0WoJnUb8gAshdiAAQMAAABOQZoCSahBbJlMCCP/\n",
       "/rUqgAO6/oaABxj52ZYPP0Dbi7kgip4m9Ly6oQvBCA/8Vw2qDNMrIDVMKSirexKDu7t/B92S8fFq\n",
       "FY7i3n/AABJwAAAAVkGeIEUVLDv/AA6Qs0C50AD979tBc1Nh948M5xaEuN71kjE3lb+FTrjaZsBN\n",
       "+XFaLhbqwoCOlI+BLeEiGorP+vILok8JVBW8D/BM6vhGZ5ly0m6teoZVAAAAYQGeX3RDfwAUxjqF\n",
       "IASvt4FOLfIYIkxRorodSDIvlMWfphUCejXr5igFEYYTFjY+M9b2YBDxNCVMbI2t/uX3iIu52qle\n",
       "IfkuvP5sAAGJHvuiwOjItvqK1fR73fKnLN/0R8AAAABWAZ5BakN/ABUU8SAFvHC7b12HsFBnilLZ\n",
       "f70TSPnk0SYCu4NlXUH1HhyBu2L2wVfunMY4U/NPXpgFh8fCOu19hXGZnItYGsan+/1Fauf97vlS\n",
       "+X40PCEAAAC8QZpGSahBbJlMCCP//rUqgAPSz0x0AUO8+m+/v3ZZRGvG+cfGfn6rqin/RWLk8PMk\n",
       "IIF5Gc3ROU3qGaILIcWgmYdNICei6cWvA1EfmxDDLfdUYEfdMwuF3+K7LGpKnlgnJnK+uUJQ84JK\n",
       "u/wZMsDCaDw+d647xSf88IYavcg3CUaUoPkDSVR6uNJPJ9JoOiUMeGN+lek32aXA5Rl41LnsVMUr\n",
       "GA2f71lBsESnvk4lxpMrDEIR12SKxgAA3oAAAABkQZ5kRRUsO/8ADu56d9legBGKESV1IIm1tsaE\n",
       "++hQgjS8vMlhFXt29s6rKxPatxhFdAVr7I9UuSVoV5ZyE7o+hBc7ppE6TmUUJ8CWJa5ZtNuaPZ/6\n",
       "QfyzWmP9c4aVCniZP70GpQAAADsBnoN0Q38AFZO8jVIAW6e5Re4vgb73x5AbG9higdIHFKvWHgxJ\n",
       "BGbr6lZ5l1IwU26jbCwtz+rTgAAKCQAAAEsBnoVqQ38AFRTxIAW6ZUjoqX2BbyNx6zu5MmshIb82\n",
       "0ruqWjsjVfXCQyvSGLcX4s71HLlencYUXmrT7kxyKR0Vt1XqaLetY+AAPWEAAADKQZqKSahBbJlM\n",
       "CCP//rUqgAPTWGo7gPZGq1MOP7OV7jFUk3RJ5UI8nZEIHrUX7JDG8xAy3vVLLVyyOQfOovVaBF1/\n",
       "rgblLYlefgglqBcw0cLsxr22ASVkCK6dS9uz6Dlbm+W+5592NDmvtxRZ/qpAW/+AeGBhsEK2lH9w\n",
       "ZOA5SWzypybsieevzk5IeLl7XvZI4S2uRVM8+FD8xleBPl0qkb4SeF0vTdlA8cGc9qubDPnf0AOJ\n",
       "GnWXLQu3qprvBwnQOj4W0j4cQAAUkQAAAFZBnqhFFSw7/wAO7n8ed+2gBbB/KV+3vZ7sdP0LnvD3\n",
       "dCaU/yxaV27UZ5b0AOJp6MTB2kpARje9duYuGfAQhBt8Va0C4x9Lp36LVf7+fGtJ+lTWZ1YZUAAA\n",
       "AEgBnsd0Q38AFZiUDmgAXRQqcWtYmtCFrg1FfEyq5SouB9Ei/vS3ArjLluv+cwyAn83iSJg1j0C6\n",
       "jsURV139FoP//WICpek9geEAAABkAZ7JakN/ABT5uEsgBbjze6FL/vabp1x10Ja7ya7QWZs7jWjN\n",
       "N5sNM33FpXUygy9kffJMCOp+cJ7j2XC5t2OJp+3SRovCnmtD5XfJ8Yjz+ze1hVYLeGeALNSVeAvh\n",
       "yBXMqT6HhQAAAJJBms5JqEFsmUwII//+tSqAA9D6kgD+lzU923OGMTsV9OTiF/2riqpx32aP4r3+\n",
       "SSxfWEneSKvxTg8yRM8hbm3pUliXf3fxwimqWVTJnfPu9QlZgxRbtEwxLNYMEZgzFNVMHp+MXDQX\n",
       "9BuCnLUHb3MLCGLCVAhmOrR/rGM/lqTJ4v0/b/7NPjVfZLsrtvSsYAAN6AAAAFZBnuxFFSw7/wAO\n",
       "mSGegAtgzhg6VkWCj8dMRyDELMmctwE9r4WvQkVhssbPNkZMyhDAtsK1Pbma6yJ71geYeKYtHhLp\n",
       "67AS6iNvHA1NNGlPfYM1DZBbQAAAAEwBnwt0Q38AFMF5r8AJXck5fnTSyjDMKIJsAByd2wsfVHz9\n",
       "pEMSCTw7esiujfyIHjEWYe7v2Bqr8Is+PO+afAogRHLs9sI/PplQABdxAAAAPwGfDWpDfwAVFPEg\n",
       "Bbp8wMG/g6uePj5iuVBK0yhJFHvb+60w2+ycbPIQ3WysOEprWNSpfSq3vE8CEDS8zgACgwAAARdB\n",
       "mxJJqEFsmUwII//+tSqAA9A/mSFUgCh3lAluJz/WnPctkTGGQ8ZmihWjDzX7UWAFAhDxHBNXCx7n\n",
       "ouGU+SAeT8BqcJ9n04ZvkNigez/Q3WQj9ES9h1CEbnb/C0CgjoYj1F1FBggpadNZFfAcS2xnWen3\n",
       "mMYUkUC90PCZwZo7KfpVMvUuho8oAq3Pv5DTAREddOP/rc+GkpGSrS6F3GbiTiM3dAA0eilaBmev\n",
       "j2DlHpCkaniMSteOufPGDnUTusjwABZX6gdA14Y8hZIEMFl7RV+3hwjqOMW98sCI4VRpepc9e0/q\n",
       "1jCo6kf8wfGsm0x/ybs5AgSXJl4n2gzCpxRrYkENFtkiQocxwOyeQNrVzPUQ4gAApIEAAABbQZ8w\n",
       "RRUsO/8ADu/0263segAuZ1g4lAJOyIe1pW9Kc8nC0a0sGkpdMZCezlaf+gduyYz5yx1iUhBs2vZ/\n",
       "OSIjTlzV4QyNy+4KJCZhP5l55DGlp7a0wEjYuMNRGwAAAF4Bn090Q38AFMGt886ABc4rtmo2SVt7\n",
       "GJAF0kz5vxA70oRCVX5Njim9o0Ae21svBja/Fdihfq++VgfVMeBTT/FGlOseDt3nxcZQMCaE68pg\n",
       "Xc2iolpDcZ0IZuf7zKJeAAAAVwGfUWpDfwAVl6AHNAAuk6gpM6rDjSR93mFqDNbndOmrwCZ0ybtJ\n",
       "Pcp3bpnl1sYrJEmoLeRC3VXI50ZQHeB9el+WS0fSsljcYoPOy05EtlSrASzuUGkh4QAAAFBBm1ZJ\n",
       "qEFsmUwII//+tSqAA7r6kgAiUuJcXB4ZwnkH9Ujg6ymdHpJfgI+6Q1LSy+ks41hlm/nuUf1TudP5\n",
       "U5sSc7s9io2lGsJbeON0/AABqQAAAFVBn3RFFSw7/wAOlpVoALpPbriL1DAq4+o6INpFarLTF3Zw\n",
       "zSy3cYdKkgaDkUNtzuiQ8Qqxz8e7BjKUa9yVEGVMj0rC2ZVvA/wSCr4Tmesxt6jLig+YAAAAZgGf\n",
       "k3RDfwAVCK5IASvuIX/tpf6vdiMe6z/yQvRZiT1piDKogIxQU0v1F9XcomGbm88GitNVnaitUbSj\n",
       "jpP95HIRDOBElwKCiG72BCkFBdnxtyHQG0eynakpuOkBfw7Vdr70GACygQAAAFoBn5VqQ38AFMWS\n",
       "HIASxQcAwdLktZaL4mImn4PgDDGKUBf+xWTNA0JLytJ6R4M8EGF81no3T+COUItjRpFhlm+6gnvm\n",
       "1OoD5xjzRPfbZSyN9dr9UVuGPegwAWUAAADFQZuaSahBbJlMCCP//rUqgAO9Ux4bYAjFJYSvLyIq\n",
       "gaD1+vX9A74ImDf+aCqTE/KR59Xe9lK6QwAkyVt6ERpDC2hRwms+8jlhsnCC9oe5VjAgqWeSELHl\n",
       "ncZpnZrTYag7XeJF7He+qxnzKq1C9/Ux7uiRRkf9OCdleY2tm5jjI3zSla54dtX7IoAhKRJS2I3n\n",
       "K0DX/p8lowAXugcBfTz8IMKxNVQ4R3oCLsW3RIRo+kla0XN4X6lk6vndCvKYZs38yMAAFbEAAABd\n",
       "QZ+4RRUsO/8ADmxgRABxkIlcgy17EkAF5tPqWK0myukQ8ENTLJOoovo4rSOojqjno8wY+c/5Tl1f\n",
       "ANEYhQzQn8ugUTOVqlJCykpZz/KPl+3w8AJmTt2M/5ZSlwMrAAAAQwGf13RDfwAUweRSAFuIqpCI\n",
       "KpMI8kSC+fS/A4iR7KZTjXqXEqt/zQVITkPfLeZ6lohCOnmb/0Chfb+hQkiqFIdoVMAAAABfAZ/Z\n",
       "akN/ABT9QbT0gBbpafZBKrGEe143QWpZA71fxRyP1yATUFAk1r+OjdxRRZU5lpU7zi0hheDeLbOT\n",
       "Xqhu5NdJxfK+3J7vV2E1dOEcDOY6ao10PP7MDwlqE/tSQ8EAAAC+QZveSahBbJlMCCP//rUqgAO8\n",
       "YK1boARhpoXM4l0t2h5GMOD+AqLdUFnwxJBiw0gaZOXcKNm+TRyLVNxFM/I2cXuLIweGnaUFE2yN\n",
       "Auu/jfvGD/IgC8DzGTTLc/8IXKE0bwBhbQrh19i5HzxHL0+NzTcDtnXWD+pehNOjlHci0wAYCrSL\n",
       "oe+U6242VOMk5Og/8imnjQLLD9QWEMLG/W2a6NOfK6fK9ejGiZBPKNEEH4XPPP4NwWkOXHo2sAAH\n",
       "3AAAAFNBn/xFFSw7/wAObex2gBbA0ksr2PCnr8QX3cm1s5ENBWN4URJbsWysdfL7UC5gC4KuMShY\n",
       "4ZQjwUkt7kNVP3okRO+UfMB1h4EDMnbxKWWT78CHgQAAAD0Bnht0Q38AFPohikALZnomBjzBShiG\n",
       "cZcpKqDCWZutvJQu2K0qPUfiXXnr23qhM0TKK5Ll/bXB+ts8AAKDAAAASgGeHWpDfwAVB60kAJX3\n",
       "EL/20wBqN6RvJbO+CGcwylAekjPxmJ+sp/34PmXiUF9XNOPl73Uv3HbQ8Vuf0fE+Tqn//YNXfC/4\n",
       "AAFBAAAAiEGaAkmoQWyZTAgj//61KoADvSqOgAR4eBPrqquRDsgp/pZL+Ussq/Ul2HgBIW+fkgJb\n",
       "2zBXoq1XZ47gDJ2HKd+i0CRDbklG1yj+IH7lrKl9bAXWA5fwB+Dru/3qSQpQg6rqFTDHWkQ47hm6\n",
       "GiHrMGItV82S9ShMfw0i3V6O3oxvb/ZS5AAAi4AAAABKQZ4gRRUsO/8ADpkdNQAcWBgIhFYyhQB5\n",
       "0zqp3oTxztHkyJgVeAo91bb7RAB60NCgtWN/3UCzPqDWvdMQFstF+/+npFOKJlOdBRUAAABTAZ5f\n",
       "dEN/ABTydXofIAW4QFrTNPZzk0xO4CzHkKvbGaxq63PZ3C3vr8cKdPgvKHh1uh8o8u5kzaXCKzn0\n",
       "0JKBvY4ycn9LRP/jBhfAsuEtuUHDccsAAABSAZ5BakN/ABTB5FIAW6+Gic/C9pO3UzgnN19H0vtL\n",
       "NPsf/BMBPhRcSghbFLEoks+pBakDLny7eS1DlUwnocyX8LjkEv4OeKLqfh2VFifvTMBbQQAAAMlB\n",
       "mkZJqEFsmUwII//+tSqAA71FTvasAWH6Vli598X/eP8JGhmiNJXWsUqQJ/2CAm9pn09jOlB5wi+f\n",
       "UjC1PJzEX4bfCFd9JaVg4A+WQe6deISX1gpi/q/B+ac+KTxWJA5m0/GREvRpqnoo6GZ2DoWNrmMd\n",
       "RqbkFYTMxZMh2zYGr02BV1e0H/M0OE6be6KQwOGx8HTEzPDGFvzG3EItYi3puighJrJDXxkgw23N\n",
       "7fP+XfZavylgUNHZbsrTgiqYvtFYuz/X81gAA+4AAABTQZ5kRRUsO/8ADpBHjqADhTNYRBxe+fOj\n",
       "3B8dfXpFk5OxiQQ4QZNdZZOP2N7CXIUeYkTPEU2xRzMGA2V7J7xjZBtL/D9mV9n8H5hxHKtj2BtZ\n",
       "AosAAABEAZ6DdEN/ABT6Hdp6QAty/ddXXbfHf3T9v11Cvo9RfnmmzeKi2bN6IcTM9iNjZpmxsn/0\n",
       "kTusmXGbhRdLX5fWJCAAGzEAAAA7AZ6FakN/ABTz/1ysgBbg7tzj+pZZXTuKORUoe7iT7kY9RU5P\n",
       "sn9me+yH62/axzmWnzr9DFPlCXAACgkAAABSQZqKSahBbJlMCCP//rUqgAO6+pIAIlSWGcceFofj\n",
       "m3c26xAuQs9/91wTpa6N6cYVm/MEzwSxYnF39D4tXZEsiFC2s4IgeqCfFu8t9sWhAACpgQAAAFJB\n",
       "nqhFFSw7/wAOahkpx0tACWMIeyXekFk5rQYTPCfjUHiWC9WzjeYyIZuY2bCD6ymjHLqytN5kFLpq\n",
       "CFdbSGIY++dNu4Wit+8omk1A/Ns9bg9IAAAAagGex3RDfwAVCK5IASvuIX/tpf6uA8JtaczqPgW8\n",
       "YHJ0ZBx/DGQxCymI+nVjEVNGRfF9jamRpIX1OxZwRNROA0Eriu6tlk7L5/e8K0geKj2bKwR5e9OT\n",
       "8KCCIX9rtP8nIKnnqrHhBu+ILyAAAABiAZ7JakN/ABTFkhyAEqvRUKc8/KkJzEOXqsVeCPH7IAaO\n",
       "rZK+l6ZONjVJ5bv8/CKUEwTp/R/kqtA6LPqcivrB6D3/DtxbcYKf2Kle4QCsWSGoD/bJgX6gIKhn\n",
       "zpVLdZmILyEAAADQQZrOSahBbJlMCCP//rUqgAO6eArQAjE+ejc5lQimMRJft8ZeO72TUJ2Kx05m\n",
       "R4eh6fdJP5q3OAqoPKom3bXWQEaiD1qUcGpjGfFrnzJUkpBs0+dvyPhFrC9X/0fqj8zlypdi6bRQ\n",
       "U8O6yrFvlLEw+T6nsQ4UdGNcDuANVjdXujCUuaK6VabcKH0t+kRFCqzBsxCIp7cabCg23ioPRJBy\n",
       "/JcGkiGxtiCqReVFD+IYUyLcaZhc6LBzjjkSKlm509ORdkZwU8u2lQDX65jEeAABnwAAAFlBnuxF\n",
       "FSw7/wAObGBEAHGQiVyDLXFoH5HMnclMR025D6QGgnvfTg7Y3vpGbgNYfoIQGiMrlTDzEFD1mAXs\n",
       "Y3aThBpzIOYqtnwwrx3v8fHxsuVtzw8akHDmVAAAADoBnwt0Q38AFMHkUgBbo6GcTvFTT1o54o7d\n",
       "RXhJxp4w7dvwS7p8ClXgz+rsptalGf2pCJiWOxgBAAGDAAAAUwGfDWpDfwAU/TCz0gBbpfKnvVZg\n",
       "61dcgUWD/gAUlkE6v5tijdVL7rJJoxqFmB5vek23gGUyz5qkrQHMi3FSzvB4RugVwOdgliwNKU1U\n",
       "Z6XAACghAAAAu0GbEkmoQWyZTAgj//61KoADvHue1YAjE+mjtQc2DtiSYii1smOtRP47tVOOSDeT\n",
       "+RNsNo5jwSVTAkVvw/XKKjwb8kVo0GomJvXmno/p7xCFI4LeAQ2WsM+Xe43jCDMA+OojAbFkkG6t\n",
       "jGatlZbcJChlB9pDELuG+M3STL3UA0O0ZujmCRZVAnRBji+CkTAj+H6mkMJ9g+AF/jvx4olbTSg3\n",
       "ZGN4PwIbyjNsrZHEr9/+ji+ttwUc1gAA+4EAAABPQZ8wRRUsO/8ADm3sdoAWwNJLLg6QGd4ZBgmS\n",
       "bANHCsfGCJ8R9PNYcIHIO2zSh1wy54KuW2eZzTEcnoYUHhet6hb/kz+PnprSfl0QgFkDKgAAADwB\n",
       "n090Q38AFPohikALZ4p1phlmxpYvPowdPJJQu6p698DVX2BDzWGPQKJwx5uanKeDhUbtSB8dGkvO\n",
       "AtoAAABLAZ9RakN/ABUHrSQAlfcQv/qAwBqN6RvJbPSnjrG2Td6RVqAyg/tqNGf3Wn/olCFfEhe/\n",
       "T0jUdueQeg1UrqHJ4UmH3eHx0Z/XiiXhAAAAlEGbVkmoQWyZTAgj//61KoADu53sQAI6xrLFlr2S\n",
       "D9v0hRAKwyRG2iK5YSDje/abLXb53Hwi+lzNxkpMPF/NJ+zC9zKb3ObF/5pOzRfqV2OiXZZOO8mn\n",
       "6m/gXU7LITI8Lb3fI++Aho1HcvW8FnA/hXiYU1/Ks9M1q4RE0QbL7ktaBTJ9F3rBVGUbNo+DO4cY\n",
       "XAAARcAAAABKQZ90RRUsO/8ADpkdNQAcQSaQi61Fk6T9WVU6MhJ39PeBGqN0NaWZb7RBcSmuc4Xf\n",
       "EKmjKPKmFj4pmzRf+d12fJkxPzuIbjPgrYAAAAA6AZ+TdEN/ABT6EE0gBbmBBJg30Rw8srR9h532\n",
       "v209TRIvOedf+6FceU61SDsvT2Z1IZavcn1lUAAXcQAAADwBn5VqQ38AFMHkUgBbbh7saKwmeVX+\n",
       "cBoIh9gnQ+9m8ayPiLXwtWXKUmzFvYMU+QI9kF/ixC3SMdgADFgAAADGQZuaSahBbJlMCCP//rUq\n",
       "gAO7muKcACtVBNme3RcNxf1tcOR4zK2PW6QtCCGchKu9/CG94fqNWFC3xq+yJ+O8TY95FXiqQctT\n",
       "c/usqTiIe0kJD3JX3CR2Sa6GawLFVb1AbDO3eh6aGUtToHOQTQcqTGpHkGOqrBC4EFbkn+gZFvdO\n",
       "QsJk2hH8vlTGs3wVavr4uCDfgVoLwyqnm8ZBe3/XZ+v7wGOugooOINEHk2TWW59HrKANzBeuLguZ\n",
       "yzqorQfIlFsAAGzBAAAAXUGfuEUVLDv/AA6QR46gA4tFfw9V7jddqhJeHX0roBVYzqHxjZBwMeUH\n",
       "qgJ/1Ux96qQcyZZwdpMY/TuuRke6aJFY6ujLgWIKngd8Zg762UI/g4HzGMHrwT8KKEwZUQAAAFkB\n",
       "n9d0Q38AFPyv89IAW6fKVfmak8h3TV0yDbs+LTyml/ujFxbDpmc4wQE7JXsYHfk7WmHoF3E6iFAS\n",
       "AnoS02S7PwawfYvezT6EWZPwUMKGkas0IZuLr/NH+AAAAD0Bn9lqQ38AFPLYS2QAtpc1LUa+QNDY\n",
       "s2ujG5Jz8Zuf+yxmklZpm4CxedX0AX2j5ywhfg7UYUBFumaMiSHhAAAAUUGb3kmoQWyZTAgj//61\n",
       "KoADuvqSACJS4jOOO//gmNDaPXfb/Qe/+64L8oz1fwDciUoRFjnEh/NnC+ti0TrupACO4jGZfPFq\n",
       "hbvf/gC5AAAi4AAAAFRBn/xFFSw7/wAOb+8FqAC6UB8Muhw+l44xWs875myOXhkh1r83d7uGMKbl\n",
       "fK1wY1gh2YauVA9TN6TMHhhEnLEr/MWiE8cEH3fAgvoaUKDRq/WQKKEAAABcAZ4bdEN/ABUIrkgB\n",
       "K+4hf+2l/qr4LcUI2wz2OLbpjU16rgemXCnlyEhDNg4Y+NrmOX7AACdf/4ET3UmSOhb9UCjZTmEB\n",
       "ErzE5j0R9CjinOwa/v+pbV3/u+4AJOEAAABTAZ4dakN/ABT/ulhIAFzSqx1yv9wsv0JO9m2gRznI\n",
       "YXAMJod0v+orSTJeGydYXRx429ICuBnYbivhx5ky3uORXWrHqZCo/2f2mYvvfIKnVhuAEHAAAADA\n",
       "QZoCSahBbJlMCCP//rUqgAO9VsLsAON7mRI4yMh/z3yzCKAblhGbHtin6xlJRBsuEUy58iol23uS\n",
       "Kah0BkTq5sJjPIp0CWK1fsGChc5YpP0FyCHc68h+nacuEsqYDEZxvh0bfJTv4jH8CQFDGtk5kNZl\n",
       "grD7OV0wWszwvhgq12v9BzcSH72ISrufviptQ7cKzzBYJ0LKlfY6Ac3HAnB9I4EeNd9IkvWUsjn1\n",
       "5BjLOAGWIeWIb0KfiLpN7SYAACLgAAAAWUGeIEUVLDv/AA5sYEQAcZCJXIMtexI/I5mnpxcVlc0O\n",
       "1khkZuRkEVK4wCYGv0Pedzm7PvWtlJ8Qkr6WU0qzDeU3Kgp9rFdifkGt//aQ3DynMTRkmQimrDKh\n",
       "AAAAPwGeX3RDfwAUweRSAFt0K7E8ilZvp40LQj8/h9ZEFkYXXwJdjth/BQQ3Wvb6GVNJ5DY9AmJp\n",
       "71DARbfM7kkh4AAAAFgBnkFqQ38AFPoVWekALdPijy3JtdTfOSf6uGbOJqGh1Bhz8Ztuar/JgqPc\n",
       "VoxdwfUBpCDM4osVMirNmZivtPuAiodJTsR74JCrlkWUIoY/qihDOLgbUaP9AAAAuEGaRkmoQWyZ\n",
       "TAgj//61KoAD0O/lQBmzI9xc8Y0qqeLpVYDZELszz7AF/VlTe7nJhf2aNxZEtem3M7ezmcmKAXUH\n",
       "rFPvbtRCI7wAMDG5Q+xYDfwDFfcxe26Bz7+ZDxXFa7KaYQbfo8twJOieoigP1I9RRE/JwCMTEJEk\n",
       "M4kr0XnCnjN67z7xvkkOzn8RPTeizhNmG2Ci1pPAnYud/KlTF1PKPOBOLmdJbvi99Lc6A2Gh9J16\n",
       "6xgAA3oAAABRQZ5kRRUsO/8ADu53KkXABbPknmEHGknxwxNyJBf+i4JQz5xKRJCSOijF89fHVAs6\n",
       "LgyN7FJ2X9H+zBwKxzfaaL67uEdLUikSh1l6y5xQbIG/AAAANQGeg3RDfwAVmI6beXAC3bsg0voD\n",
       "62Kmg1otkPbTEmLf/Z5Tlf9PJBQkGfDdWYE7+xFIAAPXAAAATQGehWpDfwAVEfIAF0P6OI6OVOgu\n",
       "UOrm2NKpJpekxXc9TS9nUbGagrpSRVaX7BdhYhjJFO4mF25HbOcfnq1AL4J1RTDavEOuexYcAAKD\n",
       "AAAAk0GaikmoQWyZTAgj//61KoADumheABEZn6NZ87K595gus9o2HIs7v3xgtrdMpXCxXZhxmLIv\n",
       "AxJ3ZzggxM3M0haVVl/80wEw/BwC1dVJF9t//8SrPOSdWOTOiXDSINgvBPSgIkOcBSWlDYxzazQN\n",
       "wj2RHhGuQLZrwm8CDVk8mBeWLTW9bRY7N53t0wR4zKpzIAASsQAAAExBnqhFFSw7/wAOmR01ABwu\n",
       "KH6rr9H+0/VlVOjHQS+q+JctVE0gTzxHd69lGNkYefyDX82caJOEz4BQ/+iJ4JvpDmUp3t2uJ+Fr\n",
       "iYMqAAAASAGex3RDfwAU/JqyQALoqGTNUT/d17cyD8pqHJeAnZH/hgRd3CD43b1BNv5Vusd6sXkQ\n",
       "u9wkQkvWOjh+u7nqDwhOhplmN9sNqAAAAD8BnslqQ38AFMHkUgBbdCuxO8VMqa+x9onJKrwOaUk9\n",
       "3ea3xo1wwBGgls0Rt570UFf1+eYQ7vUMBFunekPQtoEAAADMQZrOSahBbJlMCCP//rUqgAO7ILU2\n",
       "ALBbjb03NOqw0SDAsVK0BRo9fOS5neaqO7aOqVb5bPfY6F376cFMUdhr0ZFrR0HwpTx+ZzA1JcXC\n",
       "UutOMQjqAR16jdQ26YS4HZ/+uNUbHIV46uefVyBFpJHb9SLAEuhRQcfh1pSCr0W82P7IzOYAgLvw\n",
       "tmeY2F59X008Bl/tdb0csd50v7kUmEvHfFxFSPuoigEQGm0Uzdy9ldH3lojv0YavJ1W7Ay0eTrh+\n",
       "r4HkXUNOf9YwAAccAAAAWUGe7EUVLDv/AA6QR46gA4pYV6OTA6ziEnaT3n8Z2/7g7GJBBmpkbs1y\n",
       "mtNTe+UMSq74wfNgErzj5r26LymjMQuH0htDbUnJL/RE77X0hpuU728XPNoYRAZUAAAAQwGfC3RD\n",
       "fwAU+h3aekALdLT7IJVYwj+hMwwC30etNAcfE3n1lxUt5ZKrMCEwKn0QxMDGVi7w/LshEU3mMp/s\n",
       "YHAACgkAAAA6AZ8NakN/ABTz/1ysgBblAFtki32gmxAvDG0A4zE/4DLFZLu1M2bnmUMdCb9E4KCP\n",
       "RITb1/TEOAAFBQAAAFRBmxJJqEFsmUwII//+tSqAA77AT+4Ar7Qdvu/Gcv610PnjiASSv1pam3kl\n",
       "gweEyOQIFsOHdfdaPD1aeqA7pnsucsSoKKyVG25Rzf+7zZ8vvwAAEXEAAABWQZ8wRRUsO/8ADpH+\n",
       "57WgA/hBpW3MyVqgYp4TctmjjmYIdPGjcN+UxVg8FtGzljIg6IYyjTWUZcqPz1Vrcf6vNoWjmV7X\n",
       "+XApH7tyaX0NJ6XYcjXoiPgAAABmAZ9PdEN/ABUIrkgBK+4hf/TDn6q+MwkYivu5sa7+U+QxHC3M\n",
       "NAT4Ejw/YEILKh5/zZMZDxYQ24X+FaulU+aikQQRoO33sYgtojF6sE8Tcpp+E46sn6g0aMO/+Ys3\n",
       "+HZUWIPZeQFtAAAAVwGfUWpDfwAU/SaaQAtyuW5eI1pwHoELJPV0d5ZGzWZXQW1n4J+6CiEH5pVL\n",
       "tK9EgHZVuhUceHDt6HeNU4e2lBtZzESkLx3UHZbfrkt3f83EIZwNma4C2wAAAG5Bm1ZJqEFsmUwI\n",
       "I//+tSqAA7zEF2AIxSNk3ZUXNCyWTOSjlAIttcFeGwlGaqQqU2xhRYl1htm9cWv65V0DT3U/OiII\n",
       "um+zbJOPXNYDVoF0KDfh62S0VkVCZpPu52QX0Ahg+dqIRnf1/OF/wAAScAAAAFhBn3RFFSw7/wAO\n",
       "altmgBbCDM0YpQhaLrz8ziGpedggzM+L0bzGD9nCu2d2KX1UzsuZC5abydMHPl2hZxbgAHaTmlOd\n",
       "nXbl+mvGTu54WxDYFuvG3qmHdMqAAAAAUgGfk3RDfwAUweRSAFvOlbco6swDTwYGD/0iBK9rIXLA\n",
       "yJzzGs3SmitPO69XF70oiDl9rVxevToUeKJj+iOu3BJ6fu6fUbtYZAiLdRz1RQgABs0AAABWAZ+V\n",
       "akN/ABT9QbT0gBbl+66uu2+O/un7frqU8iIoYOhXVQzYeUgIm3FVIpccbKUa2praquHXWSk3cP3H\n",
       "AhE3m7idO//H5PhQBTo/tKoxi0f6ooQAA2YAAADHQZuaSahBbJlMCCP//rUqgAO6827VgBdKKfg+\n",
       "wj4mRwLpUgbw9Zpu2nOTJdMr0sbo0rNAyl78dpymXNiQdUMWkMGS3iIRtUiwuIhfme5PDCSndY9X\n",
       "ZtueBWseKIf0YCIp22hB7mmB0takr1nmoFBNoXqGsYVCc8NZzXtTYIDz3MQWqSgCi/XxiYPbJp9F\n",
       "949Pq1UEc6f5fWGjhWvEW/fvq5xUSsTZL+rxwZ9+vJiTOrFvwx/lgH4hfLj0WH+GGBTvai4BGAAC\n",
       "twAAAE1Bn7hFFSw7/wAObex2gBLTtoxFbcsFOIw4WM/zozHbp5ecb4YfXSISH/BOr0W9BDpAeNdv\n",
       "ElK8JSA36fh+zOiz+GSw4jkWkooWdrCigQAAADkBn9d0Q38AFPohikALZhHZETJXnuJz4MKjxveR\n",
       "z+zuOB/TCWnNktz/pR+U3dPzAE3xXKiw8qPzR/gAAABIAZ/ZakN/ABUHrSQAlfcQv+ZkwsIws7gs\n",
       "bPMkOf+3xmEMv3TQci9syMa7e3UGXNFrywALSQb2aCu5e2P7oGrn+K5UWJifNgLbAAAAvUGb3kmo\n",
       "QWyZTAgj//61KoADu5jUrAAcY+jM9irpDAMxhRTAO1EVtp5kJ3SjaeJMpDMzkFSa2MQJao/5ftZS\n",
       "1hTud2qPafM77aGaVQJN5W+PuHxtoPZDRiZmkmzGraTd5dAnOSz0T8QxOtKEu7o2JyDpL+Z8qiZb\n",
       "ZXz+mBaQhjk5Uka4LVeg67o1bvjy9dzRM09xlLfRLOfJkqH+jOREZqK/LJ//xsGMgRAvG+TCbVTD\n",
       "wMWJ5HW/+X9YwAAccAAAAElBn/xFFSw7/wAOmR01ABxNgMtefvDyVdh23QCPEOSibKNQJtFXWn9e\n",
       "lg7mvCpYUHMbRZCpeHrhD/ORm2fn8bphxHKWUUNdZAopAAAARAGeG3RDfwAU+hytuAFtoiYuuniJ\n",
       "7YYNsUUmPjKcNuWSmrYfi17wx+X9L6YdkU5VujPaGeWrGI5LQDi2HIdWeTZcAAKDAAAAOwGeHWpD\n",
       "fwAUweRSAFuJHnE4Wixe3mPtEw+jIyAcYXHV7ouRIfh9Z5HKYSqiWDkmvz0gaZmf1DAQABgwAAAA\n",
       "wkGaAkmoQWyZTAgj//61KoADvI4s6AEYn0GIxirwCdmvflygS4GuJlGSYWP9mro5DsT1TNKIz4q6\n",
       "DSWqwuVeaONJ89HKfAdYTcUW4fA6tYeSys17ReUzjSIOkCdu2EQpRMDgunjMQnFNmuIwDVENscaw\n",
       "NDIDZesANhETLK4C71TcJcpKq6Af4lVeZY0TWFjewUCB068LIx3uqrkTEjfOBEcZAA8wAuADd7DO\n",
       "VwV3G/6axTYmQ43JCvEqrESK/zIwAAVsAAAAV0GeIEUVLDv/AA6QR46gAujEiZM7MkIvTtKiUHSr\n",
       "JRoO32vm9PL4OQbHZ+Qm7ODzraY8gliOlcu0KryW1FsO7hsQASIRmVn0ty+3tV/I58a0l3+WTdrD\n",
       "KwAAAEcBnl90Q38AFPod2npAC3KO+F++2T2NMY70sOYe1z6irFTyKDn2SO8srLZys91RGiYL3Gwy\n",
       "oCo8dd3KWbyjf7InYufHMPcS8AAAAD4BnkFqQ38AFPLd/QcALcoQrvkms+j8uBGEhHCtI56aPcd7\n",
       "qHstSNYyGc5yHWN0RXPOkKbOYvtMPCWuADMlBQAAAEdBmkZJqEFsmUwII//+tSqAA7r6kgAW6LVp\n",
       "mHwfunfc8eQzPA28bQwYXtNW+jsUIDXRAWgrunnFxZ/3mXi7uSQO2PnGaAAD1gAAAFRBnmRFFSw7\n",
       "/wAOb3TjZQATqV8EIvGrt1ZHTeLD5NSfNhloY/T4/Cv1dAJ9atwPff6abXNSjJL8P5hVeYH27Zyi\n",
       "6RB3+H949973BMPX71TF1lL0GLEAAABjAZ6DdEN/ABUIrkgBK+4hf/TDn6q+MwkO7wjaxrAdcocN\n",
       "YQ3w0JAyIJTdtGEKtP8217PNdcgpK7BAJ45Pe7WkZHbnkHoNVK7fanh7S4T3TNQpx2zXsh8jIkic\n",
       "2pr+vNcAAKmBAAAATQGehWpDfwAU/SaaQAtzOLYvb6xxPymAkWOOer6yMUPjfLrRnwTipNWkkgkN\n",
       "L4GrnzTpnqi5bdYfHR/KV0/ASc4eF6sq8zui+MR2AAMXAAAAxkGaikmoQWyZTAgj//61KoADus9u\n",
       "wA4s4O33WTPkIGBK8Vg9M3qye4YYOFxenz+XRUsuKKsxR/RJuUqG6/83SII+SrFJWWDQckppDQzd\n",
       "ihdwBiIqYstYmGHmIA6C0vAuoYGjpkJsW+0liSw4ibxaZzMVDtOn3XeMP+FVu1UUJbEa6fj3iWey\n",
       "/B+AMmTfUxV485CLJaZqz9/GtgFRhUQwVKXpiq5GsVvJ8k2FxQBxwuwfioPegQxyqFNKj9NLSAup\n",
       "gGezIAASsQAAAF9BnqhFFSw7/wAOaltmgBxcj94dLHhKFWyNJNt63cNZ1Py5ub4E2vYrcGTF3r7V\n",
       "qNmTxN8JfE/Arm0+kuv+k3A+L9zzCyiiVd1fmfkAweN8iXj0PDCDiJeax7TBh3hxNwAAAD8Bnsd0\n",
       "Q38AFMHkUgBbQT1PY9ilylqE3YfvQV8tMtDZc9F/iCu3Tig+TfNnQWad9Lp+o644ayv5+lRYaTac\n",
       "BbQAAABIAZ7JakN/ABT9YUKQALpL8/fszvZcOoXtg3GKW6snWv7YgGZOpXNWOqPJyonuo4/J2tMP\n",
       "Q3u51BaAkCG6Rwx/WJCGboxC7R/hAAAAw0GazkmoQWyZTAgj//61KoADut1bVgBxU4y/e2hX1K3G\n",
       "Iak/iHbL+IIrq9iB0nlSLr54zCSblwdn6d+LK500ILYQZSiE6KQm/wCy1BRLQf8Lx6D7PetYMX/u\n",
       "gmdnBiek8bd6FxCObWAx9HBtnMhuJtdRAX9zkpk4V8IeLrbEJlMRHR+qTSaoF0wsc1TwmNbix/Bx\n",
       "4bJq7RBQ1ne8BB0BzMRImLb0EhLOaI5MaQmn4hWDO/e5i5I4f8cYn3PaK/IcQAAVMAAAAE9BnuxF\n",
       "FSw7/wAObex2gBLTtpWmekSWCm8WSbAUiyIqxr+MxvMX5CUMb14UroypOip1EuKB0vgP3Jp9dcwe\n",
       "N8iXj0PDCDiJebAw9MGRTE3AAAAAOgGfC3RDfwAU+iGKQAt50rrLY+0ZPFXo/ByDrkEG9Piumev1\n",
       "yMVI1TR6AY5UOha1/pE3fn+O7gAAsoEAAABMAZ8NakN/ABUHrSQAlfcQv/ZmXdi8Td6kSgpSAv+l\n",
       "qvMHjub0+1Er4nfJqrG1fmjX9Hx/vOnOUA3wbL5v8D0d+w2SNdS9bO3Y8AAKCQAAAJRBmxJJqEFs\n",
       "mUwII//+tSqACc1/DQEJvlmrkpi9sLvAbi8R6lYyS+0ni0h07dftlpWkqiXFD2nG+YJDxo2+W+L4\n",
       "P5AOWEasGSlfyK900pugCzQ93HSPh4ZkbqRkd7aBm0hUOVjddymqwK6iqJJnv1I5HfUu5nD0gCNH\n",
       "E3Q8o1Ab6/GoGNBTshOZLYBy/J9sYimAACthAAAATUGfMEUVLDv/AA6ZHTUAFy2mKB3Dke7/OL9c\n",
       "9r8Y4a+cw5NepSnIgCZ7mqM5IINWZHB2lUXuc99rWvODf8P+WF6FiGR2oWOKl7I8OmVAAAAARgGf\n",
       "T3RDfwAU/JqyQALpLw939zuq1fR+g4j1USZO+6TIlbd/FYKYrNnZkYGv8rIPr5A3U6zpm3lS2tbE\n",
       "fWnk2XCW2IbLJQQAAAA+AZ9RakN/ABTB5FIAW0LPCR5z5mvsfeOFLtoY7pmwRjsZItGOIjSYoFJH\n",
       "wWw4VkJ4mJPi5n9QwEW6KhkMlBEAAADsQZtWSahBbJlMCCP//rUqgAPQ+pIA/70yZ90/U+d0jXQ8\n",
       "mqQcEWmInp7Zkoz0jLbu6Y7ofsawohOzAWYFUpbNyaRJukN3ZYJc2bLFexdVV5MkN4514rGXywH7\n",
       "dy1FEqjVMfMLy8CaFkrOpaRklsD/lX58sPeKZivsrl6n/8H7evyt1mEb6mkVx/yTYjZZ8+7y0hMx\n",
       "sHJ8kmJu6gRcAKk5Fs75SN+mk1Q68C9tXDCdCEkITq5HEYqeu+OH1RQi+f+/8/gFQFHPiTYAVEag\n",
       "QS29M12ls+kWtn+rZ7A/fCzmY3V7d/kl4n/qLgAAIeAAAABaQZ90RRUsO/8ADu/2eEHygAujAs8V\n",
       "ibNSk8Z556JC8/SRMm56SAaRJ6n5F7vqPm1zjMdeOdZOZ0xeLoxWhxR0XBL4TmnXSSG6hf+cyDO/\n",
       "xHxbOOwKrdTWV4FFAAAAUwGfk3RDfwAU+hVZ6QAt0+KPLcm11N84xBUJNUQUlj4WSkx+eH7sTknL\n",
       "KC5UYdtj5+z/mSuNcNLnY/9rrICqSjk56vxvc71DZIXPpV7ddkmAAMGBAAAANwGflWpDfwAVl5zE\n",
       "G0VwAtnNkAno2k4Cf+vBQn3X1rqeD0ZHU3KsY86tYH98w+hh4h/5OBgAAsoAAABWQZuaSahBbJlM\n",
       "CCP//rUqgAO6+pIAG6HnTPsbjGfjz79JR2pT5uhwb2tLjzQPmcTW8d9Ui3qePj9ABbtzMNAshkL+\n",
       "rQUukAJ1wDWnV4zb3V+ALkAACLkAAABTQZ+4RRUsO/8ADm9042UAFzxFzO8U2HrXCWqjHNRZeTKW\n",
       "BjTGqUEF2hctPHrbBAQLn3P8HlA+G5K93OZE9PpuOQd/h/ePfe9wTD1+5J7EawLgYsEAAABVAZ/X\n",
       "dEN/ABT0IWrcALb3EzryvlfyjbP4GFKsYfnP6QCO6CLklL3WpBvHJ5RAQK7xzxwPlO+ktjNCUDtu\n",
       "aD0UDKUBWzFYY7rnvCqq6r+rYFSNCnA8IAAAAEsBn9lqQ38AFMWSHIASwA0DB/SlWWi+Ji+VYjw7\n",
       "23ejWaMEZ4b2ps9STKoaelHiDRH2DcNwXvCvG3YolSy5xfdFuB/6bfKqXxDQ8IEAAADHQZveSahB\n",
       "bJlMCCP//rUqgAO7Rf8NsAOJOxr78OnvD9ExOPB9bm8SLQ3h/SVkINiI1xw+aC/6EYh8LkmXtDRA\n",
       "3EfBKGwuAIwEk+e394av6WwvZNyzKE/Y5f/NnALhxwYwRexzaSTUoWjPNxPYRu+UbO62bFvKzjq4\n",
       "b/g3YLpi5FSeDrRFEtwsbUID5GdR+laFmn/jxdDzBxx0VePRgZLePfFgVbeW1e1sw79V3joLAoEr\n",
       "ZzTKvv1NPfx/8vGkovlSCq3NYAAPuAAAAFpBn/xFFSw7/wAObGBEAHGPaMU+DY788NivSx34NVSb\n",
       "eE+w6cXGv4sAhgiw/qcDX33O3TYqzEwg/VSCP3KErh0cUhJkL7yBXTm1AfFI7/FjXLJkxQhUUKAa\n",
       "QVsAAAA6AZ4bdEN/ABTB5FIAW6AnASmxAWwyPJBfi9kYbBKhBm9dwbIBJ2v+GeJiR5XSLLI79Fl8\n",
       "E6MRVgABZQAAAE4Bnh1qQ38AFP1BtPSAFtbx8uVzp/HXmiFcqkP8QcMRv731yrxdzAw1WCKmHixW\n",
       "fl+dat/jdqtAaM7Ec0sPxk6yQdixu93oftwrdXAACpgAAAC7QZoCSahBbJlMCCP//rUqgAO8z9Gm\n",
       "AA3Q86XN7f/9Erxp3lGYKLUeqjLjEaAK9qh1oxC0/phNExLC2Ilwfd1G4e3l6DJ+Z1+Kv4NeMOGJ\n",
       "39BNdmq0QPNIHoEwjFZ/lMBEjthmLehRhnhR33e2/m5BMdmGKKxUh/kCoGucsOIP0lJPx/CX/TTF\n",
       "wJC7o3iZac9TRbJT6dD5pma1pGHTU8hGX+vrokTW/9ldRUq3WD9XwYL4Wmnm8tbmZAACVgAAAE5B\n",
       "niBFFSw7/wAObex2gBLIJJEknEC4c9UGkJst6qe3SB9QEqeg5o0g5tk8cnRuxAeUMzhnPa0Pdq1U\n",
       "f6FhMiiX0/BwZGMYPY0lZlUXAysAAAA8AZ5fdEN/ABT6IYpAC23NuU3VA3NfyC9MOvA6ReOf036G\n",
       "rgKXRw8Sq8fpE6U5tux+gonFU+SYtp/ICSHgAAAATAGeQWpDfwAVEfIAF0P6exzl6T0KKOZVrToU\n",
       "G6Vs0kpJgn/49N8yqzO5D29I2T7AW/g3qRQqRBgvTDgpvGCAqPhyfjIkyosRVmfAW0EAAACCQZpG\n",
       "SahBbJlMCCP//rUqgAO9Ko6AA4ySxcJxkKaLcuoQ0HJCb4ciaL/G5A1UhJT9KNLuYBCwlW4R6xIA\n",
       "Q3ajxsCoLHeP3Od1A5HL1TbixVPvRG4Wj+RlrX8195ufuiU5cxAN+BGFjRSXyWJV+ICsXjMnOylX\n",
       "SLsUYSd8t9lLkAACLgAAAElBnmRFFSw7/wAOmR01ABxBXSxQRR8wfljevXd6x6Cw5+H0XAcUZx3H\n",
       "h8Ad4gTHHUgis5ZmNPbCtHrdv/gkFXwnM9ZjtvxjWibhAAAAXQGeg3RDfwAU+hBNIAW5Gq48L58a\n",
       "FgmGgi3b3ZjX9y41edQT1eoq9LLStefHiTTE9KLwzunOFJFAZPtgdkHMJpMhXz5yWLmcdSK+L7u3\n",
       "MEbv523A+vpzv9RlQABdwQAAAFMBnoVqQ38AFMHkUgBbzb4B6uXqd25Q6jh/l9HlOn4p7QNwIkgL\n",
       "5e5cj3eXQnmi3+myKSLtdKj97aBcBQqJ2B3A1fObO71107srS0DUNvEKgAC7gQAAAMZBmopJqEFs\n",
       "mUwII//+tSqAA7v3DSWAAthHTz8IEEpf8Ci0vVXWFqdIHrMoCXvcPLCFmw/50B7Fgyw2hv3U1ps4\n",
       "OU/jWl8GbwhkGB4CTDesDx5QJz/mkGwU+sle4c/09BXJcy3DwISDrJAdHhs0nEpqjuOVG1u5RUNy\n",
       "OYnd5oK+UddOhxE1toLR7auEuuXydVq4+0XCTqydxwjHWuxyusYWLa0HQJ0dJrjHwb+S1Iv2pJ18\n",
       "Ck4Ula0JbWwuzR7FT6sAzWAAD7kAAABMQZ6oRRUsO/8ADpNFYLQAlajeZIWUX1sDM8D3wwlBO9un\n",
       "VUUlzAQsFDcIt1UkmyxT6TaApWPO8eM4OV5pKX/+LHkyu8vYAkMwnLIFFAAAAEYBnsd0Q38AFPod\n",
       "2npAC3MeR5b23vB4QlZXiNO3uLfbQd62ON+iPnth/r8yo3MS1sNNsOy16REdA0NFJG848edDSrGW\n",
       "tBbQAAAAPgGeyWpDfwAU+tpFIAW4b35p19gWzxcu9uVxA289b3Ht3a9273imgNUshzRDVBpMcZ2l\n",
       "b5rJvc7F0KMZsNqBAAAASEGazkmoQWyZTAgj//61KoADuvqSABCXHlu7AOMJa4A51Y+yX+SiUpB3\n",
       "51r8S1djszogORON9NloToIqzJHyBg6VQ00//AABJwAAAFFBnuxFFSw7/wAOb3TjZQAXRk+sl8dd\n",
       "5XMEz5kX4h/fCxRHhmTB97CCMEhjRE1YMyr/7V2VkDmcjK8y5wPhLHwSshKDfM63jWtuFyIPMYL4\n",
       "NGAAAABSAZ8LdEN/ABUIrkgBK+4NS7W6NEaqrYn1NoY5xzSv6GzwpXiJaUnLlm0LmMFm6YvtquRN\n",
       "FeRZc3w1nvf0g6rEkhzyZO2FOKJFpfwTW4X86SAB8wAAAEkBnw1qQ38AFP+3aaQALna4Pst5GiC+\n",
       "8N20NIrWfcxJFYmTBr/mNlKgTYr1XL8Dyol7ADRsUb/v8I//pr6EOizv4Jrb5e7DgAk5AAAA0UGb\n",
       "EkmoQWyZTAgj//61KoADvUnahAAWwedM48dl5JGR+tEvYTvGV4fjQ0BOHKxZeOJYy1KBUuiISyf/\n",
       "cJ20yDXZMu3t5V1TZBYy77MNGcwpaIaLRC8Ro7wF8hABbFoso/iOgxlCxD5ZeimVMvwBNcaQdXxR\n",
       "Te7CMmBG9+lWRdt0qllKlK1LoYMrgldZaoCiIixdT3up5d3Ytlpwr8VMVfdXjTBYrl94bnBPdbfO\n",
       "BVB61vv02P+EK2kS8YYvLCBVT1PTKtsZxmbTY1pvwZkAAJWBAAAAWkGfMEUVLDv/AA5sYEQAcZCK\n",
       "FyfjMTOJ5s5MaQJJm+/UxjVoIkwxMB7JhY0LpqgxXsLWQR7b0rJPoVnnyTVPCfVzNJ2EUlip4dVw\n",
       "BePtXgEy0KtrQdwa26SfMAAAAEEBn090Q38AFMHkUgBbiRbSpsQRb2jnq0tc958NbiXhoCq94rCH\n",
       "wqZSJeHOsH6xVuzBpT/z9iCDC/qGAi2+efbJQQAAAFABn1FqQ38AFP1BtPSAFuZscpp23Nhe5Kwr\n",
       "4jhPd/Md17gkghmXWSNP9pl3/EfnGpbclFQ1lIEHHPOTD29Sm4B0aGNfEV76+ro8Ja7GEmSggQAA\n",
       "ALdBm1ZJqEFsmUwII//+tSqAA7yN2VboAJ1qt1+an2CsM+V3OM3vfJkbSlqtkZR4PXZ8LUo0siS4\n",
       "D6ApFBVtuLze9vw9oB11PeB0WsUa8IqRF2Tf/4C93mOpPLTcZOEnNKSYY3hG/IXIgz47zn61306q\n",
       "b5SUgCjJO106B8zNhlFOgo33o+ZanrlNUK+cO1IIVA33rAK4vRrPkZf4XZ1oH8Dq9L6wGiJTa7o9\n",
       "yp6Y4hpwBukAawAAfcAAAABRQZ90RRUsO/8ADm3sdoASyCSRJJxAWq3KEHcpy8VJENCqHNmUiVmX\n",
       "7C83zF7cOlnuZCC4eJ9oaR50ko/EMhOh/yDW//sHCOIxg+LN+ye/gOOAAAAAOwGfk3RDfwAU+iGK\n",
       "QAttYdEBBFsErdHijHxO0b2vmP/n/GBV39oepU/bqB59w759nwtTonJ/2MDgABQRAAAARgGflWpD\n",
       "fwAVB60kAJX3EL/20wBlqSKn1bPSoZWmHqZlchIORo8IbLGWP2laKgwS0i70aZI6Fv3qAPSJHExW\n",
       "NB+xgcAAKCAAAACaQZuaSahBbJlMCCP//rUqgAO/HUdAAWvD0nbsepdqncDJBw/t3CElmr+BDXlT\n",
       "22J4YarhG9BaaVxJaMIWFa9cU0Cv7bOti2aYfIRuWt6qbmJr/ScUJcw9K5kDIvMTWjtOmf/NqmUX\n",
       "6iIIDqQcZwor1D1f9j08PBulmj6qAoWH1/eCK9aRSZV3Wur7yOsfAlU4Xm81jyGFwAAEXQAAAE5B\n",
       "n7hFFSw7/wAOmR01ABw/hbG246t7ch7UNgKB+eYIj6uMyr+6JAMMBosT4/MvLXmOKAwMXT4KtnIq\n",
       "eTs/yj5i79WDOZk7d23+WjGrDKkAAABDAZ/XdEN/ABT6EE0gBbl2pE7xgjJAl5rz0+Whdn1rH+Zh\n",
       "3Wc8XjryLJN23UwwiTG8li1KHE3Cdg42GzjnZi2/kpehbQAAAEABn9lqQ38AFMHkUgBbOIsTMd8d\n",
       "0ASR7RNwWTG131qeEbI5iVrMvEQL6lcyPt/eTtny+lIB/IXN+qwcJbZefslBAAAAq0Gb3kmoQWyZ\n",
       "TAgj//61KoADu5XgcABuiSmRGjl5tKuftSCJmCQy0kZAxpn0i0TKXs0v/khwERYcB564U1990Ito\n",
       "gkhI7h+ABcm84JL7iAgPFJ8yJSASvmMbPPIivyOsY/XbWAI1JRkrS4uWkKWhwmrDK5MjDu542+9W\n",
       "sw7Ipgr9djdOBm52KHKxTtkYaKfz6FzjuqHR4JJHJNsSmrWak68A7INaLpJkYAAK2AAAAFdBn/xF\n",
       "FSw7/wAOkEp6NACWMmrfTMms5//4rOMS29weIkhHD6nZbDEH/PGWpbGIGC+eFRWOwyeBydS+bVeN\n",
       "BpBUN8mjLsFScAXjdl4AjbqoW8GLqUPOPmEAAABPAZ4bdEN/ABT6FVnpAC3L+YDFViUhXEE3VRsg\n",
       "IE4X5FTxcvvAglEZOvlLqGkzT6FyPUjfG9EQS6Lsy+bac8rI5u3dKv0dntaUf/YGuAAFTQAAADwB\n",
       "nh1qQ38AFPraRSAFvNvfnZ46giSPMmBLrRFfcwGRn4YI3Z5Mi9U1mK6/vSyPPPyiB/O9Gv709sAA\n",
       "LKAAAABJQZoCSahBbJlMCCH//qpVAAd0/CAAOJw/tSJ2lt5XLjootDWs4s0AN86Tsci1nSVkYSxs\n",
       "E685GONOVdu3qjz337Bs0+CgAACDgAAAAFVBniBFFSw7/wAOkegc4QASyhBe9AfisBBU2L0YeAf1\n",
       "ZAngRpLXG9tb7cWiP1B0n+YlW1naXUVaUezKdE6u9Py5L/xJ7Borbn62SgAjNJoj82xN0GLBAAAA\n",
       "VQGeX3RDfwAVCK5IASvuJnfLt6WrhQjgX5VjD857TEJ3S3CZnqi1r01pfB4cyNl9wRpjUdXF6c+j\n",
       "g1MhtB0HmYwCtzm9xP04meU0VMvXrfDThRwAXEAAAABNAZ5BakN/ABTFkhyAEsl4e7+53Tay0XxP\n",
       "faiO8cJBEAifleZzzjIrny0rOx1yHeidQEouiXhI3NSiitNy5XfSYGr4hKm7/1vhp3qQAXEAAACa\n",
       "QZpGSahBbJlMCH///qmWAB0mryYALetlDzLkpne79tCqhIpGQ0WsbzdoK3Y3+8us72PuEkyLGMJx\n",
       "hMCEbJ7s/fqwapGskbM5VrHL9by1nLeLWabReNEGNUhFNlt2CIrjSeGdfcXtRqKKduJ/kPD+PeOG\n",
       "0S3Kd5++cdTjd6765r4sm0IQJ/nBrwcBmWydFZsvNziqwLUwwAAM+AAAAF1BnmRFFSw7/wAObGBE\n",
       "AHGQhmKRTppuOBK4n+/N7lezYghzRvvEiH6WJ8P/sO1/B/Xtos/Np/JZP9zwRkEaGbgm0sES5mgB\n",
       "vvB9nAkOYXqFn+TPl+emtRxFBxNkGVEAAAA6AZ6DdEN/ABTB5FIAW0Kbv5sdRScXbeRspSn8L8z5\n",
       "SsUVfOJs3ncv97mfcP2bZdqyEpaqOzjJYAA+YQAAAEoBnoVqQ38AFP1BtPSAFum511YsqXTrY1nG\n",
       "BHvTVp5BH9Ot/dzEcHfxfKFG9/4EK7aEIzqn3SJ4e7pV4UoU/Qd0uzFnJ15uAABQQQAAAIxBmohJ\n",
       "qEFsmUwUTDf//qeEADtBTsFIALD42Hv4iE+fd9eRZ18Bo90hAt/CUSEHuuEdsbda5aTb1awGII3S\n",
       "Mq99BK3H9HUs6pwoxjAkP/6FIq61v/sKy+Xh4ky7107jbXhtQUList/vzLXbTortfUlIXh2kz9jv\n",
       "LHNExUIQeSf1ToisCJxbpKUT8AADPwAAAD8BnqdqQ38AFZedYJJcALdrT+aj0Pum+wAtFqYs3d2w\n",
       "AB1hbcHW6nRVTrOr7rp4TVCqvXrrERwUxjetdZTsgQcAAAybbW9vdgAAAGxtdmhkAAAAAAAAAAAA\n",
       "AAAAAAAD6AAAToQAAQAAAQAAAAAAAAAAAAAAAAEAAAAAAAAAAAAAAAAAAAABAAAAAAAAAAAAAAAA\n",
       "AABAAAAAAAAAAAAAAAAAAAAAAAAAAAAAAAAAAAAAAAAAAgAAC8V0cmFrAAAAXHRraGQAAAADAAAA\n",
       "AAAAAAAAAAABAAAAAAAAToQAAAAAAAAAAAAAAAAAAAAAAAEAAAAAAAAAAAAAAAAAAAABAAAAAAAA\n",
       "AAAAAAAAAABAAAAAAkAAAAFoAAAAAAAkZWR0cwAAABxlbHN0AAAAAAAAAAEAAE6EAAAIAAABAAAA\n",
       "AAs9bWRpYQAAACBtZGhkAAAAAAAAAAAAAAAAAAAoAAADJABVxAAAAAAALWhkbHIAAAAAAAAAAHZp\n",
       "ZGUAAAAAAAAAAAAAAABWaWRlb0hhbmRsZXIAAAAK6G1pbmYAAAAUdm1oZAAAAAEAAAAAAAAAAAAA\n",
       "ACRkaW5mAAAAHGRyZWYAAAAAAAAAAQAAAAx1cmwgAAAAAQAACqhzdGJsAAAAtHN0c2QAAAAAAAAA\n",
       "AQAAAKRhdmMxAAAAAAAAAAEAAAAAAAAAAAAAAAAAAAAAAkABaABIAAAASAAAAAAAAAABAAAAAAAA\n",
       "AAAAAAAAAAAAAAAAAAAAAAAAAAAAAAAAAAAAGP//AAAAMmF2Y0MBZAAW/+EAGWdkABas2UCQL/lh\n",
       "AAADAAEAAAMAFA8WLZYBAAZo6+PLIsAAAAAcdXVpZGtoQPJfJE/FujmlG88DI/MAAAAAAAAAGHN0\n",
       "dHMAAAAAAAAAAQAAAMkAAAQAAAAAFHN0c3MAAAAAAAAAAQAAAAEAAAZYY3R0cwAAAAAAAADJAAAA\n",
       "AQAACAAAAAABAAAUAAAAAAEAAAgAAAAAAQAAAAAAAAABAAAEAAAAAAEAAAwAAAAAAQAABAAAAAAB\n",
       "AAAUAAAAAAEAAAgAAAAAAQAAAAAAAAABAAAEAAAAAAEAABQAAAAAAQAACAAAAAABAAAAAAAAAAEA\n",
       "AAQAAAAAAQAAFAAAAAABAAAIAAAAAAEAAAAAAAAAAQAABAAAAAABAAAUAAAAAAEAAAgAAAAAAQAA\n",
       "AAAAAAABAAAEAAAAAAEAABQAAAAAAQAACAAAAAABAAAAAAAAAAEAAAQAAAAAAQAAFAAAAAABAAAI\n",
       "AAAAAAEAAAAAAAAAAQAABAAAAAABAAAUAAAAAAEAAAgAAAAAAQAAAAAAAAABAAAEAAAAAAEAABQA\n",
       "AAAAAQAACAAAAAABAAAAAAAAAAEAAAQAAAAAAQAAFAAAAAABAAAIAAAAAAEAAAAAAAAAAQAABAAA\n",
       "AAABAAAUAAAAAAEAAAgAAAAAAQAAAAAAAAABAAAEAAAAAAEAABQAAAAAAQAACAAAAAABAAAAAAAA\n",
       "AAEAAAQAAAAAAQAAFAAAAAABAAAIAAAAAAEAAAAAAAAAAQAABAAAAAABAAAUAAAAAAEAAAgAAAAA\n",
       "AQAAAAAAAAABAAAEAAAAAAEAABQAAAAAAQAACAAAAAABAAAAAAAAAAEAAAQAAAAAAQAAFAAAAAAB\n",
       "AAAIAAAAAAEAAAAAAAAAAQAABAAAAAABAAAUAAAAAAEAAAgAAAAAAQAAAAAAAAABAAAEAAAAAAEA\n",
       "ABQAAAAAAQAACAAAAAABAAAAAAAAAAEAAAQAAAAAAQAAFAAAAAABAAAIAAAAAAEAAAAAAAAAAQAA\n",
       "BAAAAAABAAAUAAAAAAEAAAgAAAAAAQAAAAAAAAABAAAEAAAAAAEAABQAAAAAAQAACAAAAAABAAAA\n",
       "AAAAAAEAAAQAAAAAAQAAFAAAAAABAAAIAAAAAAEAAAAAAAAAAQAABAAAAAABAAAUAAAAAAEAAAgA\n",
       "AAAAAQAAAAAAAAABAAAEAAAAAAEAABQAAAAAAQAACAAAAAABAAAAAAAAAAEAAAQAAAAAAQAAFAAA\n",
       "AAABAAAIAAAAAAEAAAAAAAAAAQAABAAAAAABAAAUAAAAAAEAAAgAAAAAAQAAAAAAAAABAAAEAAAA\n",
       "AAEAABQAAAAAAQAACAAAAAABAAAAAAAAAAEAAAQAAAAAAQAAFAAAAAABAAAIAAAAAAEAAAAAAAAA\n",
       "AQAABAAAAAABAAAUAAAAAAEAAAgAAAAAAQAAAAAAAAABAAAEAAAAAAEAABQAAAAAAQAACAAAAAAB\n",
       "AAAAAAAAAAEAAAQAAAAAAQAAFAAAAAABAAAIAAAAAAEAAAAAAAAAAQAABAAAAAABAAAUAAAAAAEA\n",
       "AAgAAAAAAQAAAAAAAAABAAAEAAAAAAEAABQAAAAAAQAACAAAAAABAAAAAAAAAAEAAAQAAAAAAQAA\n",
       "FAAAAAABAAAIAAAAAAEAAAAAAAAAAQAABAAAAAABAAAUAAAAAAEAAAgAAAAAAQAAAAAAAAABAAAE\n",
       "AAAAAAEAABQAAAAAAQAACAAAAAABAAAAAAAAAAEAAAQAAAAAAQAAFAAAAAABAAAIAAAAAAEAAAAA\n",
       "AAAAAQAABAAAAAABAAAUAAAAAAEAAAgAAAAAAQAAAAAAAAABAAAEAAAAAAEAABQAAAAAAQAACAAA\n",
       "AAABAAAAAAAAAAEAAAQAAAAAAQAAFAAAAAABAAAIAAAAAAEAAAAAAAAAAQAABAAAAAABAAAUAAAA\n",
       "AAEAAAgAAAAAAQAAAAAAAAABAAAEAAAAAAEAABQAAAAAAQAACAAAAAABAAAAAAAAAAEAAAQAAAAA\n",
       "AQAAFAAAAAABAAAIAAAAAAEAAAAAAAAAAQAABAAAAAABAAAUAAAAAAEAAAgAAAAAAQAAAAAAAAAB\n",
       "AAAEAAAAAAEAABQAAAAAAQAACAAAAAABAAAAAAAAAAEAAAQAAAAAAQAAFAAAAAABAAAIAAAAAAEA\n",
       "AAAAAAAAAQAABAAAAAABAAAUAAAAAAEAAAgAAAAAAQAAAAAAAAABAAAEAAAAAAEAABQAAAAAAQAA\n",
       "CAAAAAABAAAAAAAAAAEAAAQAAAAAAQAAFAAAAAABAAAIAAAAAAEAAAAAAAAAAQAABAAAAAABAAAM\n",
       "AAAAAAEAAAQAAAAAHHN0c2MAAAAAAAAAAQAAAAEAAADJAAAAAQAAAzhzdHN6AAAAAAAAAAAAAADJ\n",
       "AAAWugAAAaQAAAD2AAAAswAAAHYAAADnAAAAZQAAAMMAAABfAAAAWwAAAFAAAABgAAAAYQAAAGAA\n",
       "AABYAAAAdwAAAF8AAABUAAAAZQAAAMcAAABaAAAAQwAAAE4AAAC4AAAAWAAAAFAAAABKAAAAtwAA\n",
       "AFsAAABSAAAAQAAAAFIAAABaAAAAZQAAAFoAAADAAAAAaAAAAD8AAABPAAAAzgAAAFoAAABMAAAA\n",
       "aAAAAJYAAABaAAAAUAAAAEMAAAEbAAAAXwAAAGIAAABbAAAAVAAAAFkAAABqAAAAXgAAAMkAAABh\n",
       "AAAARwAAAGMAAADCAAAAVwAAAEEAAABOAAAAjAAAAE4AAABXAAAAVgAAAM0AAABXAAAASAAAAD8A\n",
       "AABWAAAAVgAAAG4AAABmAAAA1AAAAF0AAAA+AAAAVwAAAL8AAABTAAAAQAAAAE8AAACYAAAATgAA\n",
       "AD4AAABAAAAAygAAAGEAAABdAAAAQQAAAFUAAABYAAAAYAAAAFcAAADEAAAAXQAAAEMAAABcAAAA\n",
       "vAAAAFUAAAA5AAAAUQAAAJcAAABQAAAATAAAAEMAAADQAAAAXQAAAEcAAAA+AAAAWAAAAFoAAABq\n",
       "AAAAWwAAAHIAAABcAAAAVgAAAFoAAADLAAAAUQAAAD0AAABMAAAAwQAAAE0AAABIAAAAPwAAAMYA\n",
       "AABbAAAASwAAAEIAAABLAAAAWAAAAGcAAABRAAAAygAAAGMAAABDAAAATAAAAMcAAABTAAAAPgAA\n",
       "AFAAAACYAAAAUQAAAEoAAABCAAAA8AAAAF4AAABXAAAAOwAAAFoAAABXAAAAWQAAAE8AAADLAAAA\n",
       "XgAAAD4AAABSAAAAvwAAAFIAAABAAAAAUAAAAIYAAABNAAAAYQAAAFcAAADKAAAAUAAAAEoAAABC\n",
       "AAAATAAAAFUAAABWAAAATQAAANUAAABeAAAARQAAAFQAAAC7AAAAVQAAAD8AAABKAAAAngAAAFIA\n",
       "AABHAAAARAAAAK8AAABbAAAAUwAAAEAAAABNAAAAWQAAAFkAAABRAAAAngAAAGEAAAA+AAAATgAA\n",
       "AJAAAABDAAAAFHN0Y28AAAAAAAAAAQAAACwAAABidWR0YQAAAFptZXRhAAAAAAAAACFoZGxyAAAA\n",
       "AAAAAABtZGlyYXBwbAAAAAAAAAAAAAAAAC1pbHN0AAAAJal0b28AAAAdZGF0YQAAAAEAAAAATGF2\n",
       "ZjU3LjgzLjEwMA==\n",
       "\">\n",
       "  Your browser does not support the video tag.\n",
       "</video>"
      ],
      "text/plain": [
       "<matplotlib.animation.FuncAnimation at 0x7f77bf027eb8>"
      ]
     },
     "execution_count": 62,
     "metadata": {},
     "output_type": "execute_result"
    }
   ],
   "source": [
    "fig, ax = plt.subplots(figsize=(8,3))\n",
    "line, = ax.plot([], [])\n",
    "line2, = ax.plot([], [])\n",
    "time_text = ax.text(0.75, 0.9, '', transform=ax.transAxes)\n",
    "\n",
    "u = init(U, T, x)\n",
    "animation.FuncAnimation(fig, animate, frames=len(T[:10]), \n",
    "                        interval=1000, blit=True, fargs=(u, rod.c, T[:10]))"
   ]
  },
  {
   "cell_type": "markdown",
   "metadata": {},
   "source": [
    "# Soliton as initial value"
   ]
  },
  {
   "cell_type": "code",
   "execution_count": 8,
   "metadata": {},
   "outputs": [
    {
     "name": "stdout",
     "output_type": "stream",
     "text": [
      "Overwriting simulation_samples/FullEqn_table_top_mat2_A-0.2/data.py\n"
     ]
    }
   ],
   "source": [
    "%%writefile simulation_samples/FullEqn_table_top_mat2_A-0.2/data.py\n",
    "\n",
    "# rod parameters\n",
    "moduli = get_constants('landau', 'mat2')\n",
    "moduli = np.asarray(moduli)\n",
    "rod = CircularRod(600, 3, 'landau', moduli)\n",
    "\n",
    "# mesh parameters\n",
    "mesh_x = Multidomain(Legendre(30), np.linspace(0, rod.L, 31), periodic=True)\n",
    "mesh_r = Legendre(5, (rod.R, 0), 'Radau')\n",
    "mesh_phi = Constant()\n",
    "mesh = mesh_x*mesh_r*mesh_phi\n",
    "x_field, r_field, phi_field = TensorField(mesh, np.meshgrid(*mesh.grid(), indexing='ij'))"
   ]
  },
  {
   "cell_type": "code",
   "execution_count": 9,
   "metadata": {
    "scrolled": true
   },
   "outputs": [
    {
     "data": {
      "text/plain": [
       "<Figure size 432x288 with 0 Axes>"
      ]
     },
     "metadata": {},
     "output_type": "display_data"
    }
   ],
   "source": [
    "%run -i 'simulation_samples/FullEqn_table_top_mat2_A-0.2/data.py'"
   ]
  },
  {
   "cell_type": "code",
   "execution_count": 10,
   "metadata": {},
   "outputs": [],
   "source": [
    "def f(U0):\n",
    "    nu = rod.nu\n",
    "    return nu*(1 - 2*nu)*(3 - 2*nu**2)*U0.diff(0).diff(0).diff(0)/8/(1 - nu)\n",
    "\n",
    "def g(U0):\n",
    "    return -rod.beta2*U0.diff(0)**2/4/rod.young\n",
    "\n",
    "def U2(U0):\n",
    "    return (rod.young - rod.lam - 2*rod.mu \n",
    "            + 2*rod.nu*(rod.lam + rod.mu))*U0.diff(0).diff(0)/4/rod.mu\n",
    "\n",
    "def V3(U0, U2):\n",
    "    return (-rod.nu*(rod.young - rod.mu)*U0.diff(0).diff(0).diff(0) \n",
    "            - 2*(rod.lam + rod.mu)*U2.diff(0))/8/(rod.lam + 2*rod.mu)"
   ]
  },
  {
   "cell_type": "code",
   "execution_count": 11,
   "metadata": {},
   "outputs": [
    {
     "data": {
      "image/png": "[encoded data removed]",
      "text/plain": [
       "<Figure size 432x108 with 1 Axes>"
      ]
     },
     "metadata": {
      "needs_background": "light"
     },
     "output_type": "display_data"
    }
   ],
   "source": [
    "def indef_integral(u, x):\n",
    "    u_int = np.zeros_like(u.func)\n",
    "    for i in range(1, u_int.shape[0]):\n",
    "        x0 = x_field.func[i - 1, 0, 0]\n",
    "        x1 = x_field.func[i, 0, 0]\n",
    "        x = np.linspace(x0, x1, num=100)\n",
    "        u_int[i, 0, 0] = u_int[i - 1, 0, 0] + np.trapz(u(x, 0, 0), dx=(x1 - x0)/100)\n",
    "        for j in range(1, u_int.shape[1]):\n",
    "            u_int[i, j, 0] = u_int[i, 0, 0]\n",
    "    return u_int\n",
    "\n",
    "def damp(t):\n",
    "    data = 0.4*np.cos(np.pi*(x_field.func - rod.c*t)/rod.L)**40\n",
    "    return TensorField(mesh, data)\n",
    "\n",
    "t = 10\n",
    "x = x_field(None,0,0).func + rod.c*t\n",
    "plt.figure(figsize=(6,1.5))\n",
    "plt.plot(x, damp(t)(x,0,0))\n",
    "plt.title(\"Damp ('sponge' layer)\")\n",
    "plt.show()"
   ]
  },
  {
   "cell_type": "code",
   "execution_count": 12,
   "metadata": {},
   "outputs": [],
   "source": [
    "t0 = 0\n",
    "t_max = 1000.0\n",
    "dt = 50.0\n",
    "A0 = -0.2\n",
    "\n",
    "T = np.arange(t0, t_max + dt/2, dt)"
   ]
  },
  {
   "cell_type": "code",
   "execution_count": 13,
   "metadata": {},
   "outputs": [],
   "source": [
    "xi = x_field - rod.L/2\n",
    "v = rod.sol_gardner_params(A0)[2]\n",
    "u_data = np.zeros((3,) + mesh.shape)\n",
    "u_data[0] += rod.sol_gardner_displ(A0, xi.func, 0)\n",
    "u_data_strain = rod.sol_gardner_strain(A0, xi.func, 0)\n",
    "u0_strain = TensorField(mesh, u_data_strain)\n",
    "\n",
    "u1 = rod.R**2*rod.a1*u0_strain.diff(0).diff(0)\n",
    "u2 = rod.a2*(xi*v/rod.c*u0_strain.diff(0))\n",
    "u3 = rod.a3*TensorField(mesh, u0_strain.diff(0).func*\n",
    "                        rod.sol_gardner_displ(A0, xi.func, 0))\n",
    "u0 = TensorField(mesh, u_data)\n",
    "u0[0] -= TensorField(mesh, indef_integral(u1 + u2 + u3, xi))\n",
    "#u0_plain = TensorField(mesh, u_data)\n",
    "u0[1] -= r_field*rod.nu*u0[0].diff(0)\n",
    "#u0[0] += r_field**2*U2(u0_plain[0])\n",
    "#u0[1] += (r_field*(g(u0_plain[0]) + rod.R**2*f(u0_plain[0]))\n",
    "#          + r_field**3*V3(u0_plain[0], U2(u0_plain[0])))\n",
    "v0 = -(rod.c + v)*u0.diff(0)"
   ]
  },
  {
   "cell_type": "code",
   "execution_count": 14,
   "metadata": {},
   "outputs": [
    {
     "data": {
      "image/png": "[encoded data removed]",
      "text/plain": [
       "<Figure size 864x144 with 2 Axes>"
      ]
     },
     "metadata": {
      "needs_background": "light"
     },
     "output_type": "display_data"
    }
   ],
   "source": [
    "# plot initial value\n",
    "x = np.linspace(0, rod.L, 201)\n",
    "r = np.linspace(0, rod.R, 101)\n",
    "fig, ax = plt.subplots(1, 2, figsize=(12,2))\n",
    "ax[0].plot(x, u0[0](x, 0, 0), x, 30*u0[0].diff(0)(x, 0, 0), x, 30*u0[0].diff(0)(x, 5, 0))\n",
    "ax[0].set_title('Longitudinal displacement and strain')\n",
    "ax[0].legend(['displacement', 'strain at r=0', 'strain at r=R'], loc=3)\n",
    "ax[1].plot(r, u0[1](rod.L/2, r, 0), r, u0[1].diff(1)(rod.L/2, r, 0))\n",
    "ax[1].set_title('Radial displacement and strain')\n",
    "ax[1].legend(['displacement', 'strain'], loc=2)\n",
    "plt.show()"
   ]
  },
  {
   "cell_type": "code",
   "execution_count": 15,
   "metadata": {
    "scrolled": false
   },
   "outputs": [
    {
     "data": {
      "application/vnd.jupyter.widget-view+json": {
       "model_id": "0c6b5707cd7d4ca1af12c44095044248",
       "version_major": 2,
       "version_minor": 0
      },
      "text/plain": [
       "Output()"
      ]
     },
     "metadata": {},
     "output_type": "display_data"
    },
    {
     "data": {
      "application/vnd.jupyter.widget-view+json": {
       "model_id": "",
       "version_major": 2,
       "version_minor": 0
      },
      "text/plain": [
       "HTML(value='')"
      ]
     },
     "metadata": {},
     "output_type": "display_data"
    },
    {
     "name": "stdout",
     "output_type": "stream",
     "text": [
      "CPU times: user 1h 27min 58s, sys: 4min 43s, total: 1h 32min 42s\n",
      "Wall time: 23min 11s\n"
     ]
    }
   ],
   "source": [
    "%%time\n",
    "U, V, E = simulation(u0, v0, T, x, rod.c)"
   ]
  },
  {
   "cell_type": "code",
   "execution_count": 17,
   "metadata": {},
   "outputs": [
    {
     "data": {
      "application/vnd.jupyter.widget-view+json": {
       "model_id": "140b61acc6104bbe9c3d7b9f9fdb036a",
       "version_major": 2,
       "version_minor": 0
      },
      "text/plain": [
       "Output()"
      ]
     },
     "metadata": {},
     "output_type": "display_data"
    },
    {
     "data": {
      "application/vnd.jupyter.widget-view+json": {
       "model_id": "",
       "version_major": 2,
       "version_minor": 0
      },
      "text/plain": [
       "HTML(value='')"
      ]
     },
     "metadata": {},
     "output_type": "display_data"
    },
    {
     "name": "stdout",
     "output_type": "stream",
     "text": [
      "CPU times: user 1h 19min 30s, sys: 3min 46s, total: 1h 23min 17s\n",
      "Wall time: 20min 49s\n"
     ]
    }
   ],
   "source": [
    "%%time\n",
    "U2, V2, E2 = simulation(U[-1], V[-1], T, x, rod.c)"
   ]
  },
  {
   "cell_type": "code",
   "execution_count": 29,
   "metadata": {},
   "outputs": [],
   "source": [
    "U_full = TensorField(mesh, np.append(U.func, U2.func[1:], axis=0))"
   ]
  },
  {
   "cell_type": "code",
   "execution_count": 39,
   "metadata": {},
   "outputs": [],
   "source": [
    "T_full = [*T,] + [*(T[1:] + T[-1]),]\n",
    "T_full = np.asarray(T_full)"
   ]
  },
  {
   "cell_type": "code",
   "execution_count": 41,
   "metadata": {},
   "outputs": [],
   "source": [
    "U = U_full\n",
    "T = T_full"
   ]
  },
  {
   "cell_type": "code",
   "execution_count": 42,
   "metadata": {},
   "outputs": [
    {
     "data": {
      "text/html": [
       "<video width=\"576\" height=\"288\" controls autoplay loop>\n",
       "  <source type=\"video/mp4\" src=\"data:video/mp4;base64,AAAAHGZ0eXBNNFYgAAACAGlzb21pc28yYXZjMQAAAAhmcmVlAABDp21kYXQAAAKuBgX//6rcRem9\n",
       "5tlIt5Ys2CDZI+7veDI2NCAtIGNvcmUgMTQ4IHIyNjQzIDVjNjU3MDQgLSBILjI2NC9NUEVHLTQg\n",
       "QVZDIGNvZGVjIC0gQ29weWxlZnQgMjAwMy0yMDE1IC0gaHR0cDovL3d3dy52aWRlb2xhbi5vcmcv\n",
       "eDI2NC5odG1sIC0gb3B0aW9uczogY2FiYWM9MSByZWY9MyBkZWJsb2NrPTE6MDowIGFuYWx5c2U9\n",
       "MHgzOjB4MTEzIG1lPWhleCBzdWJtZT03IHBzeT0xIHBzeV9yZD0xLjAwOjAuMDAgbWl4ZWRfcmVm\n",
       "PTEgbWVfcmFuZ2U9MTYgY2hyb21hX21lPTEgdHJlbGxpcz0xIDh4OGRjdD0xIGNxbT0wIGRlYWR6\n",
       "b25lPTIxLDExIGZhc3RfcHNraXA9MSBjaHJvbWFfcXBfb2Zmc2V0PS0yIHRocmVhZHM9OSBsb29r\n",
       "YWhlYWRfdGhyZWFkcz0xIHNsaWNlZF90aHJlYWRzPTAgbnI9MCBkZWNpbWF0ZT0xIGludGVybGFj\n",
       "ZWQ9MCBibHVyYXlfY29tcGF0PTAgY29uc3RyYWluZWRfaW50cmE9MCBiZnJhbWVzPTMgYl9weXJh\n",
       "bWlkPTIgYl9hZGFwdD0xIGJfYmlhcz0wIGRpcmVjdD0xIHdlaWdodGI9MSBvcGVuX2dvcD0wIHdl\n",
       "aWdodHA9MiBrZXlpbnQ9MjUwIGtleWludF9taW49MTAgc2NlbmVjdXQ9NDAgaW50cmFfcmVmcmVz\n",
       "aD0wIHJjX2xvb2thaGVhZD00MCByYz1jcmYgbWJ0cmVlPTEgY3JmPTIzLjAgcWNvbXA9MC42MCBx\n",
       "cG1pbj0wIHFwbWF4PTY5IHFwc3RlcD00IGlwX3JhdGlvPTEuNDAgYXE9MToxLjAwAIAAABG/ZYiE\n",
       "ABH//veIHzLLafk613IR560urR9Q7kZxXqS9/iAAAAMAAAMADhIIszNu7bARC4AAAghcttsF4D/M\n",
       "AvDw0M3A5YbcrLPpEcsVQ5N/Bv5oeTpfQ6968EFJmGsG1lNj7eTppn74FzK5xqxDKdNrtMVHRS6K\n",
       "nOrjAoBoachI9R2dmR5y2xsYcEPd3svzBh9v79Y6VkX0bnEl5DTNOrm5wst/5feIP0CwCHvJ5Hm0\n",
       "PhTbIBVAhn5uF2w8Fn57dFAUoDik2rG5YVfxQ9hqPy+uTl5f6I+FW21jIwZkKt6c3Yn0wBQ3chk3\n",
       "ZIQb1TJKvW6JF2MocOY/1zqliddY1hEicNw9w/6UlRSZeD3weS5H7wXsXCG9jf+Jxw1Y1vNxW+KL\n",
       "gd+Tt36fwY3bnOHV6LktVSSBn11QIBtPXBDah2nY7shgc8CM0UZ/uyMikZpCvOzEgY8QaZE46mgo\n",
       "3CL9IEP38vd6ygOWH+RPGRZvpEkSPSYBAHDny6311USXmdDXPyvcy0sFH+zcI8DR6NbiPNo3wfg8\n",
       "fRr08r1rLpZZ++PjvnMo3n0I7SdCaPT7Wl8rXsxtTvpOzxZWptE/M6Wk3HOF1D3Sp5LFj2rIdK1u\n",
       "q4IxTX0ApppKqcADF30mWHBe7sQdOEy6IsYLPbEBYDytusN6VEpjWTG45cDQXXcyfEF6eqq5+7Mn\n",
       "+JdVzvY582lJdvQl8IJcVKhj4JrLX9EpTnPZXfpniJ1J8dzjjvnqkPL/3XTedqrw/+NeS8oJE38g\n",
       "Rb8o3Af+lzm/ziTykGA6ughr1NCAdtG4inxO3ii8JNi/izsq3RBWXYqKXp7pJBirxHHrCuCWeyoS\n",
       "mVghtFQvlUfqNDao76aVYTfRRmcnummK/2y0y1etLmz6xCHuEwVxCvdrLT5ZPVzXqwMCQH4nilPG\n",
       "/8j0sZ6oeVdRrb2hCRfKtoxtPz/+r/+YLuvc7FkeuiNDpl02B9VWuHM74Vj8kYQM+Q4Nx/r1yU/l\n",
       "DeTZRc2DESSMv6gYWg3dEXvGBwZIK3Ncg3zD4NnSW7+YZ0Sg4Juv8DE2JAdvJfMf8ReNw/ufwS1e\n",
       "bJjNqiModg4pX87kxcgXPC8sD9q073JXXx4Gyws7XI/+dWD+djhdeid/ZZozVM5PGZgxFcMWQ66v\n",
       "IpVjx+KjrPpNDBbYC1+hbQPJiQdosBHUwhR8iE6FoUqHoBUDNeKZ9QU56pdDHltVHFwq4obkgl1j\n",
       "J9k0JSvmLgybaH3+hi0QXbCFY+dakzXFoU65YUoAV4vZ+4Po6YIZO0PO47S8ueqPIdIbOemweSp5\n",
       "TgU1zVan8TjX45oy6raTte8PsErUqnalOiCegs21bE2PvByWHhYMsy4AYS1h7R90Zk95JayHv3K1\n",
       "jL9AsGw2hN6GJIIs/NCHxmKTvD32nqR0RP5Wn6qBQfN5w0yZWhHNUb19/b8SWzphilAtwKCiEZzq\n",
       "WgTU65PD1FTBg+7bub5gGuFucLZwK43M9LWD86xoJqLjHHZUoiXRGg9mvw/kC3bQ6mwcnYz7sNwr\n",
       "nAyaEPtClIiTfuBLxRPQDzs3ialm7Vl+0kBt9eLxZ0tbeLuoEJR8+5aPCWx6LhvMX2uUyS4zErnL\n",
       "ScXWoWkyvHgwjErXcqhJFX5OskLQ5wZ4RbDaTeJsZqj3N+K5eqo9hixi9NsPtyKXsiIEv7ViLxsZ\n",
       "cee/JgSzTd1MZyxq1TqXLAvbM0fAlhuDXjAXh4BZgX0qIuVTdsf/3qiFz2IqC9nR7iEV+c08dd0v\n",
       "u5vqRfBg/a1A+NsWl/Y4+TtoH1eO7huDRwF+SHYCD1W/uMbNtoR3xUHilxhavM58wCFnjZMFUVay\n",
       "PmLS+QJRfBqTlZFCR39scN/PhvXQx9fkbcoRcAxcGvamyXZ3+Af6q3NmIxKaLuJATP4A+m7OBAnv\n",
       "dHX6kRJS9Lnn/kXrO1cSohlpQI0+quXODfICh6JgxUGSu98YKXNK4vKOwjjkdLhuK4Z2yiDclm4A\n",
       "wXI6LbpSnOmsXhK0/3eR7RtWyZC6BIwT1S6MwdUd99M17nG2vc+GpUIq8yh1TeXeEciDqu7bDY06\n",
       "Zg4GCGVAc9KKLF6aGuobXF79Mz1nz9ihfCnjEr+h9cU2AaRHEwymyPd8UABZUh+yP7Y7fmC39EVr\n",
       "wcWCeCaqxiAzaAHHa0AO/i9nSfodrI/0Sg2UV5OcDtEE3PZDZ8veNMUOBe2VWPp0CdvLOlO4LO3O\n",
       "LrIYHSCjooq5x+35nDtLPF4L2iSvxui8Oi3FzB+N1Wd7XAcjtumzVuzf+b0VjxHIj9f7nKR03B6W\n",
       "XdtYlC7HRHw8i1z8WvC+NXgel7XO+3s7sbkKWYmK89SC8vZKT7pC9CmbHSGFFxftXIre3t4H47U5\n",
       "859+ErV/n26a0VsjrRI0OUSVD2T4WX/defAsy6oBefD197qEoutWHB+6Z67Vg4gy1faWGJG47M+T\n",
       "UUAj//7ofBz7iHsTkMl03v6SK8JsDR6+K2pmWJhlskmZR2QPQyvZTKnXKM1Ak6d9T5igwVkv+Wzy\n",
       "4+XWN6xvlTTGiimrqkrq3Vfk7YzXAlzjfTPYKbtSbL0AQC0bv+Oq6QD2wKlxByY/zrBHOXPrnW/P\n",
       "ef75gWOv4QESxPdOd+WacNLSh12HSK6XeIGkwB+i0uALF17Q5BQZTHuTm6yToWGpmu1mXD0XT0YJ\n",
       "iJ+JUHiVfIClBZuHrR0zJqwK3OFFQkfqwetWX4KX57jER2XOG/X5+YclsRbRlRZLww71bA6Bv40M\n",
       "KlkLbKUfzB/EDkUMergKu00W5yNLeS1wdcAXbFfMAdnuTCmb4GotMmF7ZT8qsYzjON4ihW6BOqKz\n",
       "EEvTWY6lxHBlDrEJWfK8hNju2lnpbAQv6wY+08VSf2ikwuI0D8VVQrz0H6cxXB5zuXANWlYn+VRx\n",
       "qrf1u13yXQ4Ac1Ky6XiuEEy02JuAGVdIkt/jBg3qb+HzVgFMmKk1Ivs6uW4SfIAmK9BREbOuYCJr\n",
       "ceis/mmjB/Xjx1+n4VgW4InvxFi7GV7RpFadDTPPZCdrdR0zQr9p1FnQWhiq/BYwitSW9wnETZSV\n",
       "o7x4iGeGI6RPwIamfsuKlImvdLzIwPrG4fLwiOMMW/e+hRHpSeLY1S4mZ13rQ0WhA8ma1g2sb5ZD\n",
       "b3I2IP73+bxuegKtuDhwucZMmEuGEr2b6ITXeyLfXAelKooAg5Sx6DQuVwE5h8S7YhqRO8TIfNdN\n",
       "BcHmZ19KJIzmNjbo+8uFOR9IULP7KxV0m/Ie1eFg3We3yyueCqF4X6wNA90FjfwwvvGT38cPQMZY\n",
       "mEFoG0PkqCxs96GbE8L7t/53RBY4QMEvVDNsUep8dhlHPBFr6kyFwNzY3xQJhx9gYU4vKEGbxm9J\n",
       "Bc5iYz4UCskxBOzQpaTu2vVoCNDr+A0ix68PcMua8awiloE8HrMlnen6eDZE2Ohi9GeZYrm1bQeM\n",
       "lkfbBFuZanj3/Djp6thpvCbFqW8OydoaLje2tub9ALf09fwG7g1RQpNr/5wLipTkW9rG99FB74ph\n",
       "LHHOWThqmq7qfuVRP+zXbFJf7xKP+n6XVTItKgGGhJ2sewsLxAsVRHYlBEgIISTDlAlk2HOw/0sW\n",
       "QncS3B/SkRtAFE/L9H2PxscpvXoyWPJZhmkMOpzNNk2PNrwZ3kZ6fDySykE8MVqrzv0rJW68J2sb\n",
       "R+8ymQcFDkhs7nbxKxIC6XbZpT8mkT+MsU/4uXQKKm4AMDxrBPby+GLykH6CMU4jSrU2iqqISiLY\n",
       "Bm+KEBozdgaHvp0+zwNATb7Pe9B6ISQr+78DXQh3UNrUbJVTnruv8yuK8Clz1bGk9BvTbM3qHhGK\n",
       "XFeLtgZRSYKct+4ivASGqRAHiUNMhNnMdrSVRGs4lqvRJ+w38peWGujnTZCUcHLUwqfd8lrX7ueS\n",
       "iN9p0v1Er4QNUQp+ExKAK/4q9wifh5zyDSop2OXWWctRRU/V04uYa6cyFpeL5sOF5HFmEBEViKM2\n",
       "9nB8oGEryEeHIZtIZHPCv2VoXHDN+1zoq+PkqSDbZFNUOOdFLTqwrcQqYCLzK2SC+pSzFk/f9vkM\n",
       "3eulQNoQcDgjrqGrfLCP+Z2mdI1pdB48Hxr61yUm2JqP4qR8w0eLLkKNnghsFoXpO2W3/l2DGGE6\n",
       "2RliH2qu5i/3p99CH9IAmmv2OnymZnG1gRr0n3Y85diMDruBr5EEnMSREGc+EusaUxjBymOZh8Jh\n",
       "k3/tiNvj1Kbqqb6a47NJGRIqjexRYl+o3NjIWiG1ouWiXfone846n4zJLP0DmZyroffE5vwB+QfS\n",
       "UsXLHm4T+xzLitxCfHbNLDLu1EBQ1RS0qzwa+3U/EzVPzen3+9IZ3CEwqmHHTUUZTx7jDl6X25GL\n",
       "/IhuGsNtKSP8tK77XaHvMjLMaNbPvZY4hosf51R8oE86VOmkd1RkQGYkbcWbM4kDeRgUenB1ZXUq\n",
       "eNknbFmnva6DYRc4TCTIawP+Z1469BkABtEwB1bJi02EW8bKPZ0FC7jtYxmjH/CIoN8ShJy2xe1h\n",
       "wonNBoFHx1b+hrRfCCek/CHz7jQhLtDkM1yZghrHbqhNX9mS70zsH36hyik6YX+4wJhLP2O6nYq0\n",
       "m5NdipuyENNrx0vOEC+2b0l5R9x4Mbp14wIz5n7ZKV4IqUH+FCO9JdEY6BQ0bExXK5rF60Ul3wYm\n",
       "WDxZNwR57NE0Y22CQWeFiWInI3LJ6WDj2F8pcKXzUPQ/MPz2j0EgeCcKvZJswHP3kJwLlnTP1PNu\n",
       "YE8cq5ZIK9LoOp1ju+DB82XB6OFfEn6Apm7zGxZwvs0Nn4UegIcWl7JML6mqqL1eF0T7CnsIMXzB\n",
       "Md05oqhTfSBdENecvbG3SMRi2lIYrpSfVaGpwZAlshdL9ZtTCR0vvOqxK7HS4RIN0TlGTEZF0DzK\n",
       "CT8ka7FmWeahvm0ag8qKNB7ujUtO20qwRoNHFdBB1fTHD7bwXJl9EWOj1++hxGSodA3l4eJd8TN9\n",
       "mvN+zJLCcNFeo8VmXXopO9cA/UPUfGfBkc2wj3uxf5LZcraLkW0PB5MdiFW/8crbRjvoYJh88RFU\n",
       "IQLUNMf/MNala6coMX7NNbzyV4v/R1vzguH8X7eR/Yzrd7lw9mUA5yuvaeZs6b0Yt3aMlKgMsXBF\n",
       "5lBiupnbC+4fABIub4hW2vkPqdh/q1vRD7IfaQA61cTZg3hZpOF7GX/DNkBG2sylZWtBf+V129Jv\n",
       "P64SU2zBqRgfEv+wYqS75JjzP1a0LBJKzqfWWLY9e1ptSfXErLHmhpZ+Ry0pSw1kxDrQwDHwG0x1\n",
       "JEDknbZF2fenEZDhgh5ailaF1EFy42IWSh5spFPZgPLbBe0jFN4oNqlRTjFT+fDZmuROuvZFoPu8\n",
       "0jfR9EZ2eFK/7p8SOXkzvvY7LsnT+nWqIcHTU8G8vLPaqmvIo1NT/hr/elTCrjCN7qfmjsKiYKNm\n",
       "g6bkmRzB0Btd0wUjH2/yFZ4buz9TggO0Oqd/kHNaRs65v7LT1qazDi8Dd3jULIWwmmkPc6SeVV0U\n",
       "GrUj8U6XO8RBGipaPCHanzbeFX7wyY6Lq1fQCibsbbvYpoBiiab7JdhxeYxqjjHOTOc2Dm4Sm/PO\n",
       "OEZYMc/iFi6Kqcz+7+aH+gF5Xn+YfPnY6lxhBOan6ghZoCU9woYx66XDQBHh42j34uRW5mtr2fKV\n",
       "F62iKSwvD3zC0ST2PZ38lgCckB8zqI8C11w6cXrGx8CXmfcimbjMadui/kWAcuJdl/yxWwzX83bN\n",
       "qKVLteD29AmzqVuFDsG5a3iq7/4U+VoXRxMwmTE6OxIsBeuPFcX2pG9qARgX7VNdX1lie6AkngV0\n",
       "yRXuiBgi6RKz6kIb/BfLn7+7G+Nk4wohlNBM9TNGzR876lu+yDe0kHCYe8+4Gb8+hcmlZbmkxAto\n",
       "jXnaSDdfIFG7oMc9Klsz/4bPg/YK+ANhNhHYie+Fdb0XA2GPT32H/ttT2nrfg3CsX3eKmDBYRDUS\n",
       "RnFcli9bwIUdEfPwNHYdAAAJHq0eIa6dOTFR7AU8aNpg2wK5co+s2Zi9xmIuMcPPOLHnn/Xz3/nV\n",
       "g/0yheSJFz4Ibadl2a82GPVWNr08TwlmzED8EczDfp4uV24RUQAABLJBmiRsQR/+tSqABvMwwYAo\n",
       "N4GaqKbu03K9zIB9kyfyQX3azXQTa/c5jHNSgqBwedr8zTHxjb3Ko2LpjmEeeaa7UshHbzYRPDax\n",
       "WzjLA1oaKmGwQQvWmVbL64/s1s00UAVwv3/kXY5devWT+QT2dSRwlJz/g9OSU5u2D2pkNeC+EY3k\n",
       "GuwTTJpYzzAhMQADWWz7NtfjxCqVWNAPwxUv3Imy1MTcctcD29tis0GXMIWBRfho7rB21CkmPVq5\n",
       "Uhe1UPIwhTxx9Xmo//a06nMncFqAw5nuZX7ae2+imWKbg31CnrGmiyQvxC/3jXRQxUWZVqswX/Bm\n",
       "9H2WifujsX0RV/voD2ihb64hcv752M+J3mMOTM0Kv5zkSZEpT1lf6+sGUUt/bXRBVjHlAy5spoa8\n",
       "2V9ewE/uoarqk8G4iteMl0F/wusBRPa182//Zp5fxQvB3q5DoC9dBce41OTyJe1AhNEVSy76d3uc\n",
       "hR47TUifqX65ZuVCxbvd0Il7ZHAwg1V1+2Wv7fXsQ2Suv6+mWN6dtnqDGYxe9BSLk0nhQ8SIIwh/\n",
       "VkokBHBAi31xVAbx6mfySU+Vgr743mF4NoAjfKLLMYDbGCFhtfT59S8pSEBPOz3H8zNJ6gyq/35y\n",
       "H6G7QrcEM170P6y2mP+AWBOON6DSa4+Q1i5QkvzATbyFlxuLko3mhRZxTFwyoaTb6OYYO1s77GUT\n",
       "SdWuoVnrNeDhNzMh5knmjoz4pI4NEEosA197tcRQ4YEgFamLCyVk4BRBoqI4TUUXs5kOv0kfu83Q\n",
       "2AjADSmoghZCSwosHpULLj4uPXgl+SeDEKvew/Z5nDTcnjhB1Hi9fP5kwJWHq4AYTwtcP6MZcNav\n",
       "XZ2/L54sHhFTscNoBhSZymgLLV7HTIAtjm66yi8BUPTMWYLVMuJLP1L83N6gxx/V7Y7O+1kUYdZ+\n",
       "gT1yqSbGHNi2XRHHV6w3Acuf0gyQgzwAdkrrYa7qPbHR02uQaQg9D9UdbzsHMZjm0592QjT4Gsl/\n",
       "0dnl3ewlzVQnpFhzrbRGkCSjhBrPJqojBDHMVB6jOpLk0gOg11MmDIOgw3Dgp+FEEJ8Sq4f6LGyW\n",
       "T+vE+WPzQPfC1bwdsRArGexjJSSf4film7Hm2llLKCHIyXZSDEvrn0Na7ghH528xhKxYnR4uYQgq\n",
       "KsLnM9Y14vlsdl3NYeUx2GOs+TJQaRnrcRCSeonj8IyXeolVkchtiwRIvB81Iht+cy9dRszc4aXA\n",
       "7k4/bIIYk33Flw6BeeoUDlomx6iNh5/yiFSQLNobzcl8VsmddVq4V+mYz6e1xJkaj284c3SPF9aT\n",
       "6yZCeSM2Lq5zX6ZjyZTZkimeyyiZ+WVWF5lqaC1h+gvQL7U+p3iLzxaPY3WEeTUxgJL+ta+rzsU6\n",
       "00YPgXQjOn2jcKIwI49738dhbdhygInJ1fBLwCfhkE96Oh5M4+kL3ab41zczppZgHhB3IvJ5xiM1\n",
       "TClEgGy/KtJYJ6uyNWM03jTLFnRgcaYZvFjJwUMziUyTK/x+JRZ1KECC+WqODFXHXIbk/F8LTvfr\n",
       "flG+y57AF7zdVgpXcgrzjbHP51zMAVwOlBuI8CaZ7+28F6zloiUltT/hNikKWAAAAtRBnkJ4h38A\n",
       "Gy2tgE7UwaAEqkAVPnG3YX5vS90h1JyetF1u1l/NoZQzb/qp+ytJzUrtLaq35ypEJrWIaUxGdBOx\n",
       "tvYJhaP89gXCDUy0t3vyosn1LBXxFUJEOQFwOMB/2/cWUpXrlWvJ7LAS4WMzU95WNYXCeml+WNlG\n",
       "2yjZjL4oIGi1Vceh5fP2ouGGx9BtF1oRuoQGg2j9sSyWp45p7255cVemv6XTBGNfzZVqWwkO1stx\n",
       "YlPF0II/Shi9Kw9wcDnfT1FRBSIFctabmLFa/InOaA8VSp6Jzb9bIM7jcZIFBmtZdLJb6fwpBDRR\n",
       "eTeA++Un+nJJhu+jvoaql/IAxCXEVPzUwcNUO218njaYCfQ6Nu4G8jna1IvMxIt0vNbalfib1fCF\n",
       "Ob9r5EBUSc6Nf6AnW7eVQTgSXXy2DGvjKC0j3JHtDZAIVUW6yU67zoI9T+3+yU34t+rHQhpFahh1\n",
       "h2MKsSfnFnmI/OxFYVZwE2aGciFgg0J/Isu9MCF7lUUvt+0auSksIbC2GyfAn49uiiG1pz2D2sLV\n",
       "X/0kRBjRMlneEXYGK4k1dCItYJdLqNqiLqlzwbqJKhNOVescgs6qRzyzuwvQYv1iLLOOn+QEnDOo\n",
       "jhtTJfHKQxiHGpPdkQqFyJI6hzCWB4/Dw37FGlrtoOUd5yjLwgGxEosBZnGonh1odZ8EJy6iGG8N\n",
       "hT+iN6+6pHyLZfFRVdMlcKEDkpLz1IU8QpxJw6NasxbbzQQY1z4NkRu+oj/wa99vVPC6G4S4JYZE\n",
       "RYaE66EXl9UQMh270ZHHPgBZycp6S0VSmtjZhlFYfCfaetbPd9OgZpwdoziUv32Rr2LWsHN2GxSY\n",
       "UYiL4W4XKAcsPux/NNlpERfa3S8PRF6tYRKjUbqHW/FimXIWKltvPnQVqES5FoyGS4FaA82yuNgO\n",
       "YAihwZ1Munq5GRdttXCEUJOJKTIrP9ht7N5cJiPetKtpAAACdwGeYXRDfwAmr7Mfjf4sEACckPos\n",
       "cWzy/+7rP0XZDw1D4ENJ8pxa2tB+HuGPMfuYBAVIfapHT8z03+HsktSTMGSt4IxinuY0MRySJm0R\n",
       "llWC/3LXQUEcZWOPyxpVCTAuV3UZzI8FNPoIl/ntZoLMoEQzNSE+mjC7w65GRGSS6yJ8AQOxr5Up\n",
       "QCMyazVbRUAE+VwYxqiE6ZZ0hWu++Pafvg82YNXbxHI3KJzmVoeI475FjVjGd1UDxY21beSb6WZ3\n",
       "QfoGKuUqoE4MRmAFVv5RFthkNxCdyZSPe/6Pz81QiAA9IWvOYak2vkr2qOtmRUV3xQsw45kOp6AO\n",
       "GqzNp6FR45eqo9td6b5IlF/7mvjIbd76yHNR2bkZtkXHtQw+5rehgY/WS2F7YaF2p9w7TmmsQh/o\n",
       "SkVe84tvDB6V1iJrxRd56XuzaHoeIS7LNvJVrBtNn2StEwnhmPHAjrRDtkzzgFHkcieNdqsK06W8\n",
       "YFa7WeB7HaiRTQAV9Hw2Gcbbh8M03ScjeR+Kmd59p4oFk13EMtOYjytaJCPxDFqGPw0NZtyrlljZ\n",
       "tGTml5Zz3Axf68P9WGuS292jTGsDVcNZdGwF236cCTH4IVlar8Hv+2CcX1nEV+700ke6OxPb4IAa\n",
       "yH1odcNrG9psLJ8p5fzGXWBZEPu6L5hsPbM5S9+KqgmR69nTA2GW0quEEMxF428k/5+CAxuxw41w\n",
       "uc7s/fazmKr2M2h8cPQkf1WJCBdBAyNwUiO/62O/Rhb8gnxkeASjJNhNDUd4JKzXuMCmcsbmKjJk\n",
       "srPrCqRTTCwM6NDkVMJY33Q54bhS35MNhbX8mDagANPpF5ep+LwxmrAAAAHvAZ5jakN/ABVR1AmJ\n",
       "7l1ABq2GGKyjsleBiMqjm9nB2usjW1fNPJev3U8pKsbdcpMTDrRrc5iD8CNX77IMUAS3qgg8iJNl\n",
       "gMdn9veDERJKBAv/7pN7G0pu1C429vUtvr0cQipTb9jkZ1htETLjmBDGLjEJ+zYUWrnKdMvWhnS8\n",
       "BEwh8ntCsMYB/flhhNyvlHPTVabYAEDVNCZ0uU/Vo5iOj2jLSAsqMebYrbQvh+6o4KMIdioVHKio\n",
       "u9hOmaa98a3R2zp3oStXoxxhigzN5z09fRNkB9Qv0ZiC0VTDTEMUojDSDD07PeEzOpBiAFNmbSkg\n",
       "BvAzsSSYv4LLaeq4PK0bVCK9N/QYh5mYOPKLDtVaNfJoQ6tcq5c5ESDTN5PdfUzZH09kDdL2AH5f\n",
       "vsjj/vID1OJJio+vzLwYgV3DZwEDj9tCP8ulUnNq2DB/v2Y2KGbUf60t8jj090PLKUbNyaAdToai\n",
       "1t4s84A6Oy2SgUPLmcHgR69k18oHhmbFB6kiZ1rf8Ovgftqo7LUgAUBKcoXfxQalrBWDjEjyI4/u\n",
       "REsWF2+eObqa00u6On9UxtRn63QvwMRC1BMAxlejFj4mZqczkZENYLMoySs9or6cC5S5nnMrcs9+\n",
       "baw1GS8QBS9XKTrCHHZm69A00rNpHjV9oBDBAAACP0GaaEmoQWiZTAgj//61KoAD0tBk75CABty7\n",
       "Pfd+2sbbMpty8v1wgEEWTGDH/QtWCiCZ+VmjSwo2SJLkv9R/qDZFPPC2z7oMXvHAWUubmYHu8l8c\n",
       "k0NmLZah6KNRqfB3V+2uSFgl7CG+Gv4155K54PCS9mIp4WQDvlIMY+4yajOPf/ZUwBXyB8u8mAik\n",
       "csW+V4J8oP7ejTLgcHlh6rlPpH4itv+t+lCmgPdifUDmThPRCnoqdvR3fOxPGfLQWOxg7hqEpz8P\n",
       "JV13isfrMuJy3KGeQSoOF37+EQNF1JPyC6sprLUAWc3kwzHWfpowvT3zSy5D0koLF6S7l/tmpP5X\n",
       "0k/+TFwGDJr/QlI8Kcli2wihaLilzTjk1cUQvZUkIVCEhj/4km2yZ7o2gbRaR/p9Zg+wD2zF3fTG\n",
       "7PcLdI8fJ25Aw5jv6O1Fm6JkDsWql68pyGLMvk3UsoeMd8/VS6BXuDFVocxMS18+sZUUVd/apr8K\n",
       "/ECYsZcKC4Z5a9tV3w63cgrEz82/z+SU4Sx/Qq/Yqr6UVV+Uwh/5/whNuN4jy76PNnIMNOepZPEy\n",
       "RLHDofl/dq+tFzsQ8I3P5qzkMidoGYdZWDmPXE4YmMeU8MODDFtKiUyY3G56D4HaRIKdTEQi236A\n",
       "rqlVlFLLmwhUiPamKPvchIDZd+rB6iVWaiIWRImJCF6rxvCJickoRSf1kFnVns01E0vV5QHniHZf\n",
       "6OXvXqY39JkLk1fpOOu4P7fZmXhDU3gX/jyrBYvoOucM6iFBAAABhkGehkURLDv/AA7e9JdY5oAL\n",
       "lC0Y8dA65gDAtygXY9PfhXi5hYt3Egx92a6ZK7MNlFuYcAMAq9MpH6v5+DVB/0Sam1d277OiTVz6\n",
       "7Fc3K7QfiDy/qdsuzCdG6Uv550M4/Q4nCC9reSqUUskRsE69ORsL+YQnPxr50kQWQP1APuZdtMgd\n",
       "ZaKkgreAvOlQBG242PAXW/PIlHpj9VKMR7GTwLuV1tCq74fSTok7dLmsHSTm89n9TXPu82NEfhtt\n",
       "05+p8+LnSTGe/Y5OSnrtYWbARXfTcSOCMCHEyk9jF2XiLEFwRw6d5a391vZSKEFmuvWAvBoTtPF7\n",
       "1E45hgNRC2fRksb3lay5JUll9xm0O35NY3bcjAbWpBmXW4/KyjBpGnC3VFVexCXicjAzG4skbqmA\n",
       "s0VOO93xuZ88pLnKE7ngh58qOZo9SPKaNZDYYFEL8onM0r4BXcoLfd+03x/dUfnof7QcQ6A11YjN\n",
       "y442LZG1SvX6byiMzclkq8/+VZu2aMQoZmQXPkD7aQAAAWEBnqV0Q38AFZh/iZhM5MABBJHzqKws\n",
       "7uTB+rI+0cjk2pWMG7oGv1BWOPBmPe/IphH9oagSY1lIHVLsRftpVv6y8nAQriHMT6ABqqjFuYs8\n",
       "qS/TW/qALREivL948sSep1rWK5O7c+P6mGHctAIkBRBGUfRDIEw44Lgw2Hm2E7fl0us1aPpJFCTs\n",
       "fCNoKlV6imCsMS6U2i/m3i8SzUJ8LpmPfeglGfkjAcQAnOcDapUFgcVL3zC6i6XLkCfElPjbN8lr\n",
       "8rJCX0oN3hQo7kpp2f5fh9VSqm4ZZN7ltZoQeu6/HvXx9SH1xJXdy8UthfCqIbtWkGLGD4DlvOVe\n",
       "cLssOTXWf5drSbcZWMl4dljrOqKakk5rBgo+AOFMdkC6p/l40LsktAia+YCt9NQW7csKdfLceDKp\n",
       "3ooY3xuORXiBBDmNdCOwjGib3IGdd6juyp7ih0I6vC+Fgz74s2CDKbGR4NIGhQAAAPcBnqdqQ38A\n",
       "FZedzRncsAGk6dVpU3KNt8thYUqCJD4XwM2pwi3a7gkZh6E0ToyEGeiwHS9swwtgeq59D2CMwNPz\n",
       "JkhWFht+l4OV03aSwaLvDtQDPIvd1QAsscB2M9wa6EoW2Z8/Vt0B0jpPbid3nHPeHWiSFimuzaiP\n",
       "yaJrSZfZNhVdvjgAGneZUSKYzzmdXxJMW5+s3Nk1CfuDc2OMfKfWujpY2xGXNsQXClj1Knye0dvo\n",
       "IuIHJTJzuUt0adSM+g0BMPxXeILfQj/4KCi+h/2NzlxycJsIrDQy2KBzKWFrt4I5AGoarSd2T9Ke\n",
       "P9/S1tyMLFI/6YxIAAABWEGarEmoQWyZTAgj//61KoAD0uaynDACLQZt7WeXdPmcE0OBrxPbU0AG\n",
       "F3qE+GmfgayuW4DtSaS6tLqwP4NqHq8FN94jM+RG8ern7sFv0U2ozT3/4KumA499+d0a5/3sgUc+\n",
       "UYGgIGYUuyQE7Acqw0mJnwceCyg6ZeixFZt7SOtUBqf7UepMJPX6+IKkGdqnZpXKOo+7XDjA8URt\n",
       "w8L1+4jSH0B/nX7GR8DlKQQiy+gYMscLUH8erwDspnzY/gWZLfJPET++WwZ5XeysfXsf0hDeYSKE\n",
       "4qzQB77NVCkNj7Z+2N38rAQ+cOuX92OnSyJ2GMPlDKclftnkRuuo1XA2fntWraO6tuQrXtwOs+oI\n",
       "fum5aJBme9jP5MprqwZEBqsh96hRx05c9vvMkiidyhwnpycjb1pLwj/EdJ2bVHNp3R5Kqm5aTQxW\n",
       "8ZeniE0HVIbCaACp4O03ZuiAAAAA0kGeykUVLDv/AA7xJR6ACVR/euCPVSb8HHns45CaYVdTeMcC\n",
       "q2s4DNGiQYy3zPcUUCss5+VCHssM9ymx6qINuI6Y24CN0BeKhVUdHhq7jsx82Mul0PFUWFQhI8Ws\n",
       "pcIfybpVLdI/Y8VH+AOCg+LUyP3rHc2HxwAI+zPUUGZ8QmnPFMAKJp/xoVDFAgwQj0F+OWOpSvSI\n",
       "4ymihoy7aZS1ZRY4U1QRFTyswCirbSvErCdNewjNg9XGbdh3nXVS9Q99jRE123KDusBRfG4NKPkC\n",
       "AgC0wQAAAOMBnul0Q38AFZiOgePLABpOtebf9jNO+ASPejSYXduIk5s4OeBHI/pRznRjwo+KQokU\n",
       "zvvPA1OUmj4Hr+34U97FyR5q+l+rVj6rtWw3OM3tnBclvffGnOlcpJ3tTlIlAQQdykWgx9tr3MAa\n",
       "K86SMNUMQBHlBmLWO9dmKy2lIWCzQipK0onR/+4wXXmh8fCkurNhI3GMVX6PNNRA0Bfi2E77BLOn\n",
       "wytgjJKaRzplpgDtx/n+A5/2sE7zej+7lf9Ikbh6+4xTaZ+0cwmFHoaMOObfNhk+OWGDeXObVuXN\n",
       "esXmQ0PNyAAAANgBnutqQ38AFZedh5xdQAasFwonqyipWB5VKsovQLpQTOkNnChcXxlEjUzEN7kr\n",
       "d9cDAzQ3c00Tf8ADwZJT0H4KKSqWyvVneibk5uqQj473lHmspkFqGlZ0QJ1NjQtDLEKvBo2yWfA9\n",
       "Dr8tSHmu4wzQrj79S8qU+EGgA/EpxBAYNSr8t85JnSGEo34tDk5AY0MlIRRiPuwA5h5zNjH3DvNM\n",
       "EZPVBJx9EkEt2D5bFcxG7nLoJjD9R9NibEj2VynEv2DH/Xwf1/KELfVeqsIEqvwU1Q0WGyu5vp4A\n",
       "AAE3QZrwSahBbJlMCCP//rUqgAPRAnCACrQtN9+V7WyKUoArCUbuqJjH1y1k0buUBYRZag0IMS9X\n",
       "u1iZCeGz0R3XaUrvnEn5pnFamG1phW+eoDlUTbXCRBsSujfErsdYK+WZ9R5YOqg6NAsyV2HPwzs5\n",
       "byWbOh94lH02wWCqab0ffQINN0CoS/aMz/U8Pi8X24hFgD5DBx/Gg8iJOUmNr6Lc1E22mgTAK5V1\n",
       "gDBOXdBtosMjsnRHvm5pER+QcKzJINaEGzby9VMHrz4G9MazuSOTmEDALxipjfVKcO7T/JQmK97O\n",
       "19r5DzLBKSw3KQJjASfqY75i4TiuHPH+v/sFHKeccPLZZVcH8rPyH3eLPHQqIgFPw9Aqjc4h1OMZ\n",
       "FZR44Gt8h4MJcGyQJ/+8SKBQUQPUEpmtzj4pNSkAAADmQZ8ORRUsO/8ADsGQ22PsWAFsg1xp9WHW\n",
       "MGBNg/Mrqayw0r1f05uvQqx5sDxJZQzsRp9x67WY9Irp86KIhqc9tdm+3FwSvyT7E4LImIwjZUjm\n",
       "CzF9XBCBstVcfJrZ7RmpwSwk1p+3e+I7CBsjmyxAFbkdhiBQ2/k1DWiLk4eOlXz1lPLNq9QN+j7d\n",
       "+ucWT++dtgdopYXLZLWVPcM3lYmrOLInDD9Gugf6JdN4qUyXMfTD9kHFGQ1pqgj8DVTnL26snyp0\n",
       "/E5+AZ7y7IHzdx+rbgPUqoqlVO8bYpRY+c6a9vmQPg2wL0UAAADqAZ8tdEN/ABWYj4TvOoANV/Qf\n",
       "vuYFA6s4DzGkfqGRaLK5heYmLqFdic9aAxrogvbCuF/i+6YZTck9z+qQ7O2flGf4HE0VivT6j2BI\n",
       "CH2fxNWvQdjITE7OghGB+SlT9+nzdAervTwrcyitmSkwCSKx2w0kOzTQeFv5SRXZA2dFwKjfPKfC\n",
       "VtzwKRtkrpmNvlMQXmsJR78rwQWdk5ZQlL20tMk7+xMUzsFYQLDoFgo1XrOzvlAwY+4g7tRqZa/s\n",
       "lvAdVFlD/FPbPA0jtlE/UTyrbuVEoCVYSHSRxoGAuCXFCI/XU44owm77JTjRAAAA7QGfL2pDfwAV\n",
       "l5XEybDpJABpNppzv3K+wofBS1+SxUucKWLhPyX21mrdlayNzfogi1oCp1HjniAf9Iev1cMnqrh2\n",
       "jdB46HMSvxr1VImZ2T1H5+JrPsPkuajrGb92t2dTg8Ufkp8STDnehsmHOBZbH7LKKej73z38U49U\n",
       "OiYbj/jYLmMqhUtS9HwJ6YWK9dETQeVJ7QNN9IUbaVsBNk7gAC0TDnSQC9Hwyhy/Qfp6ShNJIYpI\n",
       "m29cxeXEKJWJX1S1EvOPL2tVRTX0SB62ABPzp8T8m3dpjIHjvCj+occgbDrei/TcjBF2BZPQzXkM\n",
       "owAAAUxBmzRJqEFsmUwII//+tSqAA9QEty4Arq1ZZyzcdqrdEnsaQiOclz4tMSZLFEvG3nAG9dmt\n",
       "zzOFxnadnLgdy2DQx4vjroLncYQ+8tuilfsl5X879y0uLSreXmTogIOGGWuteKor+CmVaTznEH0f\n",
       "ot3/EUcF1jcf9eBFHRN/oiJrOcNKRl9IZgZBdfN9Xms+YVYIZANEcIVf1efG5FTtO3xUxKsIEmG3\n",
       "yHfFC6u8uV/3rZ4/R4QPsz674gsIFWBIiRo/yckeI1ah91H51JbA4WQ6QYvgPZPVuSR5pTR2SSxS\n",
       "N99DCRLWBz4EvSYWA9zIeFysOrBRIuEMADA1N/QTXi92se6/1sSGA1A2MOVdfOsEsSS73d45ZcYt\n",
       "AKo9S3lm8tGgooZ8JsJgeGWYvDA4s1hBUhvSPmST0RJcHP5TkJKikBmo8SrjpaEjerrAYAAAAOBB\n",
       "n1JFFSw7/wAO+jFgBbIXM0lLvP5WBG6IiA9W7pVkPrFcOqyWwK8TeGOu9N+BR7DwzbGFG9EkKZT/\n",
       "EX/2kvfmYbYXcrbsZSX70qneuO6q3d41BwLPQelgHcyDKtXNHRT03TrQssKIHWriLbP4UaFaFJ8i\n",
       "/yeyHslSZ24SOXMjyDQ4q776z/oAUlWELgDgFdv0iYJyn/PKb7OS01Nf4+N20/KrPPyCzS7ILi/x\n",
       "YGIJa3skWkmRyNL3qS0UOu78vBcPX0rTbLdRb+YtDDNFwOYF6BRIWBgtGZCvO7v609owIQAAAMsB\n",
       "n3F0Q38AFZiOgePLABpNon8+Z69KmWRlb7IS6A/Clq5OHtpbz/vcCl/OEKPikKJYNM1H+AsAnriz\n",
       "MNfvcUU+lXhXH5p6CPn+I/vcawIayJAXIx92aYBl63KIPmTgdHvj79GKWISSAApMpdsb+X98Mru8\n",
       "l0NyJmfRjWLOnvjKPvi0prCbUyOyR2AVpg9mg8MuwdatvQEe/uTf6M0kkLQShLTM7FlwigSAAWBt\n",
       "bDfbhiNjoGVowvdr/ghYRYcUp5zemSDu1gPR/td06AAAAPIBn3NqQ38AFZegV0wAEJTBjpXjpU7R\n",
       "PrtdVtI3QivYBATnGcteAFtvyHKKj9JqebNdlZ0+DRJ1ief9qgMd+B1Kdcn9NZZi+L9Ly4neqcHX\n",
       "qQXARGLyQubzzpuQLiUzYdyRtWoQeK95Gxh4AGWY3dDmPp93L9Lh00ZrS0Dj5hVGdIc1oT3bL+1+\n",
       "2UGztn8qwlqUJEEVNs6HyJxgJzvW/qXqjqjxvqQhH7WjH9+v+7CO/b7qTd/6WjJFfOYFCyMz5RWz\n",
       "FXY3O3gv6ZnH8QP4QNIXMtHtqCr0TtRN5RvRaIH0CJjHY9usBT3HN7jE7UbRUXLjAgAAAWxBm3hJ\n",
       "qEFsmUwII//+tSqAA7o5x0RyfEAHwcwAlrAZ1u/etBv4WAoBf5ByUC3VCpN8HT0/SOwp2+ZoTCtK\n",
       "zQntSnpdYZ2QBY0rHKWuojyaPR8T/O7af/VxH9kUFn3lLa40uGW0TCjOxI+I3axgf7kEVdE9DVjz\n",
       "PRcRf8e9Awif0hr8Z6fIU1yPSMwnusXvTu6Mup8X7Z388GK3bodzdfcQbtsth/kYMlVdQ8DjFGB9\n",
       "8HlfgCZOTfa6cvRLTQXVbELZMUYb51iI66vVXU8j0m26/6i7EyQYarPS/MEycBpaY5pkqAq0g7hG\n",
       "IMUnpQaRnxJwkbcF/ILVCOKiiIE++1MaEl47TxByrvhZn4GjpG55SlueItFnBFsaguGBpVdPOuPb\n",
       "9BNbyE1/DmqRLGD2yrLsAj9yX4DioAHcN79PuYFpxBrjxwYZQbTcbXVIqxSpxWZgHv2D3EYLgAsz\n",
       "4G7bb9f6ackW0V/62WELbDjhAAAAykGflkUVLDv/AA5n7JPG9mAEuGgp4JOfp84s/CDFbhwU0Thv\n",
       "wjFDfwoFrPnoOLM43d5c3viyNe7FnHNCeITXE1ynqMh/Rom3O/bnQDA0l9fK4bsGNg5RYVilrcVR\n",
       "Eh+xGkFhCMg/2+a9nKC6GfAFsQ7/WqZ6VUXS2uULATlmSKW+sMKQGBgvwI1MTJOjOVVL+JRCdwlv\n",
       "+7bS9LQ0P4dqkPSROW8DFmBR7BHbe5FVz91o0vFCSdPNeRuuNdd60AWalUa/3uz4ACVs6EAAAADQ\n",
       "AZ+1dEN/ABUI79IAQNQS/8uH10BiXGjvy9jlROWw8lFCmCyWu5oL9Ml6A7D4HVQWYdyPYzOj7nC3\n",
       "nIB5mTg6SbV246QQJeNTP61fT1C3I5VFjC12lTMRyAf/NIobkhj82+2XvHGcCkEyxuWkOKYbaOKq\n",
       "79fa5+jP60ySvgV8Or9u7YCA8MUb7R68wF4+5uUppa6jtH5ut1VxtKG4ab1wIQxPxZCqOvSIg5AJ\n",
       "ajhXS43N89xSpICL7QNDHqgazypUaEGzIK3T0VEHMMK4lp87owAAAMoBn7dqQ38AFQfOXAAH93N4\n",
       "8xqy3+IBnySHbF+QgHEnn077AvxfHb1OHTlG9Kj2QOd/ZB30hCsjIT9NTXlUOrEY6foUBS91mxJI\n",
       "hSWMNtFWL3fLqAWk8G7v8Iz8pGWH0hx3fn3gEmqKAPuEY9IYAQ+RHk4Ek6/eMZd9EpTwVvApBVyn\n",
       "DKkB+yrSfJV6mnaQLohiQK11//Ozxk9Z6Uyzdtpm8QT/ZJR8zMUjOB+HVKOvuXoMMdUs5E8Fw8p1\n",
       "/wF5tdk4aOEozawGD5lnAAAA70GbvEmoQWyZTAgj//61KoADvVNUktxoADZG352/L0zWv4fVW8r1\n",
       "KfRhj1hmcuZ1yKY0GQjRM6VM2IzPSZiorNFwGob3ERp7u2OrJFSS7eMbr/6h7MKJmFU49HqJDJdg\n",
       "hut+O8WkRaYSa5r7x0LhAuZgRIJ//6AB8eQ0/WQY8Dr0W4KAGQGfFn3rVz7EMKpm2hid5VW9Zqaa\n",
       "a/kVuXX6kjzBKY9TPuV4ak0/mw0dQxxkYLUuWublS8TgAGdiOvi2GkRlgwTUCQiHaDMFtUOV800b\n",
       "r8+GcZFi4jkFidZgEh2Pp9EfuAwFjsqokcTvhCRUAAAAt0Gf2kUVLDv/AA5nYbul2YATMlpXHchE\n",
       "56gpUjyS21211PL0Unyn+e+fjwwwWOE53K1zh2ailS2DybEFGW+h2Kan0AegO689sPAxxkKo8fv1\n",
       "S51sNkw1vd6/Xt5UuYhXPrmA712aQx6lXA5X5HjeazfcHWaDGRp0moCOcz1mT8XFJGEShOJRpsxE\n",
       "ajH6eamG2UJ1DCLawd82jAv5PRvGQCsTxKk71YetRtL+Ne0wNABlGBtoA+4JwQAAANUBn/l0Q38A\n",
       "FPoRiuAAQZeb48mDoCF7Ywx2dLbse6ML6UFehGQOjx5YPXS11xF/TJdwl8KRqnOY1GfSYY/LPY6n\n",
       "Mwezo40iNPaQ9XJoZIw+Qe2lGwukCtsJZ34QXBgrjwmcAeR7LsB4w6d1fo7uWDFrkf8Cl7Y4LbTi\n",
       "puEWD39r389R/B7ZPsivB8iSJ0k8uXxl7LcNlgVKKz3g2Ykvx1KoAp7MVwaQbFPshxnCjH8YhKC8\n",
       "5tpu2Ag5C41CqyD7JQol4njUjKledWn+N6BGn4ok3B6HVsAAAADpAZ/7akN/ABUHzekAIGoJYXyw\n",
       "nAuUJbkv67+U5SnYO3c/2zJkERPZG4Xe6c1BI+Fpc9UUxk5VUJH2ArjNfoCwSJJReN57Fv6cQqGo\n",
       "NtHooJeyH/AvjKxMds3g3EfIiFaHuspJeIBvfxD3978KPezGCQ1qK0LHovetcU4hrxlvXjSsxkUy\n",
       "kjRuhJFHj4HAIvL4d1rfwHf3h9sXUIqNwOwZPqeaelnMlUA3zP3/jqo4Ml62I4GNOOzYljdgAuiv\n",
       "X2YeXFO3FRF0H4fmXh5ZkvJUF0XF3LnwcMdVmNnxnOjGXAfbf2uXXsakbsEAAAC6QZvgSahBbJlM\n",
       "CCH//qpVAAd4wWmZgAl4uq35wJI2pjVjoAd6oOKjEd3+dwszHUwtjdlmuF9CNCMEwhsYvtcN8MHq\n",
       "RwSPI8ucfAk4K/f8hkEBmCjVn7YmxD7d44xGNi/mAG09SbWcF5RXyM0b9Azg9vewWUf9u2N7xIRC\n",
       "Dz33GvxKpTzpGAuzpNg59usKtBiVAf147VhnHqJeDLXTgiA6tepZSyu8rFlMwiFn6I3hoAi6ofQO\n",
       "oegFkPmBAAAAwUGeHkUVLDv/AA6ThsRswAlyxGFQJkm26Tta2SitBCa1brAqNkAZEImVAUT6tOx7\n",
       "LYSDfL6e4tIvPrAAbvRTJOOpuvxgT0Oq+zXcSffAXWy+JKxaF04/FdSSZNh/NSX6ZAUgNjDWgy2R\n",
       "3Y8u2W/qXk774PY1FMLXbRP/N54/dKDQQfq66zqWOVm8eDINNk19QH0UL9hP9qh5gLQl896BLRq/\n",
       "3tBl/lb0aotPGXbpPj9DHNptS/Xu1PRoW/sEEvasckAAAACgAZ49dEN/ABUI79IAQNQSwvlhOBco\n",
       "S3Jf138pylOwdu6CLiT0hkIhN3vjol/BI+FqV9HwTmSvcUU4LAlJzbJAB7FlV7qyXsgKirhyeWwv\n",
       "B8c5SVPMtd936ZpW+laPTMQQAMLYPsK7wDs7lxINZ1Jwg3qAujOvH58LvqYWpxoQctuVIz2wBcY1\n",
       "vg0qTUzmd/dCmvNwhL6b/Aq3egRP++ZHgAAAAM0Bnj9qQ38AFQfOXAAH93N48xqy3+IBnySHbF+Q\n",
       "gHEnn077AvxfHb1OHTlG9Kj2QOd/ZB30hCsjIT9NTXlUOrEY6foUBS91myDB7tUgfkCAvHracG05\n",
       "XVVijVNJVM1mP8SkvAPHlUrEyREfIz3NWFZFCjn1EC3CzR7l1t8UTgrLXUbEHTOJAcLwJtFpwQTf\n",
       "jOsJWAVFtYhTqcu0xaTvH3wNaS1l97YS1OEbPHqg7CLTTt8BLjzhn4jd8ykdociLyDGi9B7/IPI4\n",
       "B3ZX/zC3AAAA2UGaJEmoQWyZTAgh//6qVQAHftDx9QAZuiBsP3CnTNjNIatbfAU50IQxHgvglNej\n",
       "C9iOQZN1Hane47vjoe96f+oKRW0K48IvXhtURiUxjSND1EuBTsKHsDO3fG783Re4iZdFvbzGF5mt\n",
       "KXypmXOOEpmfg2TB4Le///W9cS3H391RTxY5Pm8UIeyM01DQTVP9kENdPZMPP3rA5t+dql/knWoX\n",
       "V99dRw4GpfzUYyCuP0Q0ONRedySozpKUAOj7t8XZaWx0u4pDDQ74LlCU3vKdJ/UFlgpa/mx3PSAA\n",
       "AADaQZ5CRRUsO/8ADmdU7P5tzPbMAJmQnWL3jN7WkZDLrMmdBuueruMGBIdqLqELbTO2EmEZsNQy\n",
       "a1SsFX9HIZ44kCuLNNPSBsybq+4ddcwlQdL5jEoQaWrhNPhFpdXLaHq+PJU5uu0bxpeQTGgiLcCI\n",
       "7yp8bIP1eSNI12uXMYe6zFFbh4tYq+VNTIUDf74zsE89oau1U8zmGX224OmDZEiuyx0/9r/hAvq4\n",
       "9OWBGEIszU1VXXPri+7U5eZcls+U6dtF7wiPvRqMmtmbAeryfU2bGD7iBDsHRUw3iNsAAADmAZ5h\n",
       "dEN/ABUI8LgAECw1ePMagLAMWfnak/r8vL5r597wLkR93CeiWoJEvzD8cx3jv7IO+3eehjAfToh2\n",
       "4OStNZF6V3WnqzjBgjFoALLC0PXOfelC+9UJnVuSsj6bBtVnNtSq7sUgoGO0H51K1m/RdKsT9n85\n",
       "1i+t3GtIbzlXp7dXEWBk5FYynBf/y1Ij7oRgOJ/GO35psvMCwWwxWjV/8UmSEPqv592Rj3fgxSm9\n",
       "B2b+KYy34UHjIUyUbKpdLdkPgJ7mbOoxXMLAhYpomCp8bLv7FlfqXNiJQQUp9igkIndLreNMVTwA\n",
       "AADDAZ5jakN/ABUHzlwAB/dzePMast/iAZ8kh2xfkIBxJ59O+wL8Xx29Th05RvSo9jzQEef2Qd9I\n",
       "QrIyE/TU1+4DEplBR1MIJBLbDc5Jk/S1OmDxdUhKo1PrvkY6PACTCYUor1mcZbro9EEknBp7R3xv\n",
       "DFVjFd8rfxNcM1+XEegXNDwFf5qPAad09vRlUCuOQnMbgQd18qaKhkWE5HIAcyAFNDQBqsEFfOie\n",
       "iv7R4+uBo4VOc8rv9FZSLEFEubZuLrgW/sVtAAAAsEGaaEmoQWyZTAhv//6nhAA7WQ9JAB+cjOU1\n",
       "8sPL4FHK+xcxM9EH0UkVss3QPuLm4jVJZL6M2yqCfjXlrClWgXKZCq/5RWqcTdhsZraP4MPr/JTu\n",
       "9Qzv1i8ma9VU1B+VVF27NCiml8pm92eNvA/Dn26LpG/TgcFUFAHd9Q407XzC1FP9gXlvhSPvPFtg\n",
       "mmRICE52jZ5vfF0O5ErC4Hj1zEd0SheUD6RMLdhjrZnmRmv9AAAA4EGehkUVLDv/AA7v9O1m4tgA\n",
       "99kwDXYKrnqWJOIqesq87ym4Ojcq45/YEOASJoVBy2P1vCWssxYgiDBRqxsT+5mjZKHoGftVVIBg\n",
       "CYeIjSUoqdkPUfnEiO8BLc8mlLfW1V+eVtjKU8bome4f+n503fIR2899NJtGY2qAdb0hGiCTNLEo\n",
       "sTy06RqmTxSmwT5B4VtoYLeAFitCIt47sS17kEinFD38b3pJC3i9/jbbZLsyC8Jr1JyycBA/WSCR\n",
       "FQjeH1cRCXi3M/yenRlh0infzvUAjF1mnoH21/f3ds5XZrGhAAAAyQGepXRDfwAU8kMdJABq5l9o\n",
       "E5d+U3raDRRs64POxsoLKLxsWQ+Q73GiYzLBToXqYqI9iAXRRIQALjzKUZc+xetusrl7wXMX8w6A\n",
       "UYnPVBIcdAjwlTXlS1OEUBheCVCQ3WSF7Fo8cKwHRDakyfoA/fO+aOEOfJaTUAuwSpLtYGq1fTe2\n",
       "nKwMXIXMsJlkuJx3BGjWuzPklU1XGe62TciVNtg/8MZGp+b6mPI9ol7bG8dXlUA0r+hmRmZekH4Q\n",
       "EMcuSXua+ZFuwfzFGQAAAO4BnqdqQ38AFZefM0nACBqDohh5E14zXwFD8rowyKAD1C0LapnJTBBE\n",
       "5GLeL30N03k7TAbbMSV3m7vjS+T0Lyl6hlJFB0PeRbjAWxZiS2Xx6DoyS6+iRDYmvEPDdte7BZ5a\n",
       "eykdP/FnnIfk2i0nzEHYlBZwC4gIg+grB/JqYF7/4XiqqStVf9FXgDJhu0KyAHDZ9kWzDTeNkRBT\n",
       "SEJmGNbvwLeM3FEm/lWp8h2AC9jk/pucTkt+8few0uGmNAKOlbeCsOkoMflBnV0C7XDy9c2v4Toq\n",
       "HjwoJldC0xmSSBNS/g/sAtARIl25UKpvxmaAAAAFGm1vb3YAAABsbXZoZAAAAAAAAAAAAAAAAAAA\n",
       "A+gAABAEAAEAAAEAAAAAAAAAAAAAAAABAAAAAAAAAAAAAAAAAAAAAQAAAAAAAAAAAAAAAAAAQAAA\n",
       "AAAAAAAAAAAAAAAAAAAAAAAAAAAAAAAAAAAAAAIAAAREdHJhawAAAFx0a2hkAAAAAwAAAAAAAAAA\n",
       "AAAAAQAAAAAAABAEAAAAAAAAAAAAAAAAAAAAAAABAAAAAAAAAAAAAAAAAAAAAQAAAAAAAAAAAAAA\n",
       "AAAAQAAAAAJAAAABIAAAAAAAJGVkdHMAAAAcZWxzdAAAAAAAAAABAAAQBAAACAAAAQAAAAADvG1k\n",
       "aWEAAAAgbWRoZAAAAAAAAAAAAAAAAAAAKAAAAKQAVcQAAAAAAC1oZGxyAAAAAAAAAAB2aWRlAAAA\n",
       "AAAAAAAAAAAAVmlkZW9IYW5kbGVyAAAAA2dtaW5mAAAAFHZtaGQAAAABAAAAAAAAAAAAAAAkZGlu\n",
       "ZgAAABxkcmVmAAAAAAAAAAEAAAAMdXJsIAAAAAEAAAMnc3RibAAAALNzdHNkAAAAAAAAAAEAAACj\n",
       "YXZjMQAAAAAAAAABAAAAAAAAAAAAAAAAAAAAAAJAASAASAAAAEgAAAAAAAAAAQAAAAAAAAAAAAAA\n",
       "AAAAAAAAAAAAAAAAAAAAAAAAAAAAABj//wAAADFhdmNDAWQAFf/hABhnZAAVrNlAkCWhAAADAAEA\n",
       "AAMAFA8WLZYBAAZo6+PLIsAAAAAcdXVpZGtoQPJfJE/FujmlG88DI/MAAAAAAAAAGHN0dHMAAAAA\n",
       "AAAAAQAAACkAAAQAAAAAFHN0c3MAAAAAAAAAAQAAAAEAAAFYY3R0cwAAAAAAAAApAAAAAQAACAAA\n",
       "AAABAAAUAAAAAAEAAAgAAAAAAQAAAAAAAAABAAAEAAAAAAEAABQAAAAAAQAACAAAAAABAAAAAAAA\n",
       "AAEAAAQAAAAAAQAAFAAAAAABAAAIAAAAAAEAAAAAAAAAAQAABAAAAAABAAAUAAAAAAEAAAgAAAAA\n",
       "AQAAAAAAAAABAAAEAAAAAAEAABQAAAAAAQAACAAAAAABAAAAAAAAAAEAAAQAAAAAAQAAFAAAAAAB\n",
       "AAAIAAAAAAEAAAAAAAAAAQAABAAAAAABAAAUAAAAAAEAAAgAAAAAAQAAAAAAAAABAAAEAAAAAAEA\n",
       "ABQAAAAAAQAACAAAAAABAAAAAAAAAAEAAAQAAAAAAQAAFAAAAAABAAAIAAAAAAEAAAAAAAAAAQAA\n",
       "BAAAAAABAAAUAAAAAAEAAAgAAAAAAQAAAAAAAAABAAAEAAAAABxzdHNjAAAAAAAAAAEAAAABAAAA\n",
       "KQAAAAEAAAC4c3RzegAAAAAAAAAAAAAAKQAAFHUAAAS2AAAC2AAAAnsAAAHzAAACQwAAAYoAAAFl\n",
       "AAAA+wAAAVwAAADWAAAA5wAAANwAAAE7AAAA6gAAAO4AAADxAAABUAAAAOQAAADPAAAA9gAAAXAA\n",
       "AADOAAAA1AAAAM4AAADzAAAAuwAAANkAAADtAAAAvgAAAMUAAACkAAAA0QAAAN0AAADeAAAA6gAA\n",
       "AMcAAAC0AAAA5AAAAM0AAADyAAAAFHN0Y28AAAAAAAAAAQAAACwAAABidWR0YQAAAFptZXRhAAAA\n",
       "AAAAACFoZGxyAAAAAAAAAABtZGlyYXBwbAAAAAAAAAAAAAAAAC1pbHN0AAAAJal0b28AAAAdZGF0\n",
       "YQAAAAEAAAAATGF2ZjU2LjQwLjEwMQ==\n",
       "\">\n",
       "  Your browser does not support the video tag.\n",
       "</video>"
      ],
      "text/plain": [
       "<matplotlib.animation.FuncAnimation at 0x7f0c39b9f710>"
      ]
     },
     "execution_count": 42,
     "metadata": {},
     "output_type": "execute_result"
    }
   ],
   "source": [
    "fig, ax = plt.subplots(figsize=(8,4))\n",
    "line, = ax.plot([], [])\n",
    "line2, = ax.plot([], [])\n",
    "time_text = ax.text(0.75, 0.9, '', transform=ax.transAxes)\n",
    "\n",
    "u = init(U, T, x)\n",
    "animation.FuncAnimation(fig, animate, frames=len(T), \n",
    "                        interval=100, blit=True, fargs=(u, rod.c, T))"
   ]
  },
  {
   "cell_type": "code",
   "execution_count": 43,
   "metadata": {},
   "outputs": [],
   "source": [
    "direct = 'simulation_samples/FullEqn_table_top_mat2_A-0.2/'"
   ]
  },
  {
   "cell_type": "code",
   "execution_count": 44,
   "metadata": {},
   "outputs": [],
   "source": [
    "np.save(direct + 'mesh_grid.npy', mesh.grid())\n",
    "np.save(direct + 'displacement.npy', U.func)\n",
    "np.save(direct + 'time.npy', T)\n",
    "#np.save(directory + 'energy.npy', E)"
   ]
  },
  {
   "cell_type": "markdown",
   "metadata": {},
   "source": [
    "# Analysis"
   ]
  },
  {
   "cell_type": "code",
   "execution_count": 71,
   "metadata": {},
   "outputs": [
    {
     "data": {
      "application/vnd.jupyter.widget-view+json": {
       "model_id": "a804c95f45cf4ebbbd73e925df58c07d",
       "version_major": 2,
       "version_minor": 0
      },
      "text/plain": [
       "HTML(value='')"
      ]
     },
     "metadata": {},
     "output_type": "display_data"
    },
    {
     "ename": "NameError",
     "evalue": "name 'c' is not defined",
     "output_type": "error",
     "traceback": [
      "\u001b[0;31m---------------------------------------------------------------------------\u001b[0m",
      "\u001b[0;31mNameError\u001b[0m                                 Traceback (most recent call last)",
      "\u001b[0;32m~/Documents/Spectral v. 1.04.0/simulation_samples/FullEqn_table_top_mat2_A-0.2/data.py\u001b[0m in \u001b[0;36m<module>\u001b[0;34m\u001b[0m\n\u001b[1;32m     15\u001b[0m     \u001b[0;32mreturn\u001b[0m \u001b[0mX\u001b[0m\u001b[0;34m,\u001b[0m \u001b[0mA\u001b[0m\u001b[0;34m,\u001b[0m \u001b[0mL\u001b[0m\u001b[0;34m\u001b[0m\u001b[0;34m\u001b[0m\u001b[0m\n\u001b[1;32m     16\u001b[0m \u001b[0;34m\u001b[0m\u001b[0m\n\u001b[0;32m---> 17\u001b[0;31m \u001b[0mXs\u001b[0m\u001b[0;34m,\u001b[0m \u001b[0mAs\u001b[0m\u001b[0;34m,\u001b[0m \u001b[0mLs\u001b[0m \u001b[0;34m=\u001b[0m \u001b[0mnp\u001b[0m\u001b[0;34m.\u001b[0m\u001b[0mtranspose\u001b[0m\u001b[0;34m(\u001b[0m\u001b[0;34m[\u001b[0m\u001b[0mfit\u001b[0m\u001b[0;34m(\u001b[0m\u001b[0mk\u001b[0m\u001b[0;34m)\u001b[0m \u001b[0;32mfor\u001b[0m \u001b[0mk\u001b[0m \u001b[0;32min\u001b[0m \u001b[0mProgress\u001b[0m\u001b[0;34m(\u001b[0m\u001b[0mlen\u001b[0m\u001b[0;34m(\u001b[0m\u001b[0mT\u001b[0m\u001b[0;34m)\u001b[0m\u001b[0;34m)\u001b[0m\u001b[0;34m]\u001b[0m\u001b[0;34m)\u001b[0m\u001b[0;34m\u001b[0m\u001b[0;34m\u001b[0m\u001b[0m\n\u001b[0m",
      "\u001b[0;32m~/Documents/Spectral v. 1.04.0/simulation_samples/FullEqn_table_top_mat2_A-0.2/data.py\u001b[0m in \u001b[0;36m<listcomp>\u001b[0;34m(.0)\u001b[0m\n\u001b[1;32m     15\u001b[0m     \u001b[0;32mreturn\u001b[0m \u001b[0mX\u001b[0m\u001b[0;34m,\u001b[0m \u001b[0mA\u001b[0m\u001b[0;34m,\u001b[0m \u001b[0mL\u001b[0m\u001b[0;34m\u001b[0m\u001b[0;34m\u001b[0m\u001b[0m\n\u001b[1;32m     16\u001b[0m \u001b[0;34m\u001b[0m\u001b[0m\n\u001b[0;32m---> 17\u001b[0;31m \u001b[0mXs\u001b[0m\u001b[0;34m,\u001b[0m \u001b[0mAs\u001b[0m\u001b[0;34m,\u001b[0m \u001b[0mLs\u001b[0m \u001b[0;34m=\u001b[0m \u001b[0mnp\u001b[0m\u001b[0;34m.\u001b[0m\u001b[0mtranspose\u001b[0m\u001b[0;34m(\u001b[0m\u001b[0;34m[\u001b[0m\u001b[0mfit\u001b[0m\u001b[0;34m(\u001b[0m\u001b[0mk\u001b[0m\u001b[0;34m)\u001b[0m \u001b[0;32mfor\u001b[0m \u001b[0mk\u001b[0m \u001b[0;32min\u001b[0m \u001b[0mProgress\u001b[0m\u001b[0;34m(\u001b[0m\u001b[0mlen\u001b[0m\u001b[0;34m(\u001b[0m\u001b[0mT\u001b[0m\u001b[0;34m)\u001b[0m\u001b[0;34m)\u001b[0m\u001b[0;34m]\u001b[0m\u001b[0;34m)\u001b[0m\u001b[0;34m\u001b[0m\u001b[0;34m\u001b[0m\u001b[0m\n\u001b[0m",
      "\u001b[0;32m~/Documents/Spectral v. 1.04.0/simulation_samples/FullEqn_table_top_mat2_A-0.2/data.py\u001b[0m in \u001b[0;36mfit\u001b[0;34m(k, thr, optimize)\u001b[0m\n\u001b[1;32m      5\u001b[0m \u001b[0;34m\u001b[0m\u001b[0m\n\u001b[1;32m      6\u001b[0m \u001b[0;32mdef\u001b[0m \u001b[0mfit\u001b[0m\u001b[0;34m(\u001b[0m\u001b[0mk\u001b[0m\u001b[0;34m,\u001b[0m \u001b[0mthr\u001b[0m\u001b[0;34m=\u001b[0m\u001b[0;36m0.7\u001b[0m\u001b[0;34m,\u001b[0m \u001b[0moptimize\u001b[0m\u001b[0;34m=\u001b[0m\u001b[0;32mTrue\u001b[0m\u001b[0;34m)\u001b[0m\u001b[0;34m:\u001b[0m\u001b[0;34m\u001b[0m\u001b[0;34m\u001b[0m\u001b[0m\n\u001b[0;32m----> 7\u001b[0;31m     \u001b[0mu\u001b[0m \u001b[0;34m=\u001b[0m \u001b[0;34m-\u001b[0m\u001b[0mU\u001b[0m\u001b[0;34m[\u001b[0m\u001b[0mk\u001b[0m\u001b[0;34m,\u001b[0m \u001b[0;36m0\u001b[0m\u001b[0;34m]\u001b[0m\u001b[0;34m(\u001b[0m\u001b[0;32mNone\u001b[0m\u001b[0;34m,\u001b[0m \u001b[0;36m0\u001b[0m\u001b[0;34m,\u001b[0m \u001b[0;36m0\u001b[0m\u001b[0;34m)\u001b[0m\u001b[0;34m.\u001b[0m\u001b[0mdiff\u001b[0m\u001b[0;34m(\u001b[0m\u001b[0;34m)\u001b[0m\u001b[0;34m(\u001b[0m\u001b[0mx\u001b[0m \u001b[0;34m+\u001b[0m \u001b[0mc\u001b[0m\u001b[0;34m*\u001b[0m\u001b[0mT\u001b[0m\u001b[0;34m[\u001b[0m\u001b[0mk\u001b[0m\u001b[0;34m]\u001b[0m\u001b[0;34m)\u001b[0m\u001b[0;34m\u001b[0m\u001b[0;34m\u001b[0m\u001b[0m\n\u001b[0m\u001b[1;32m      8\u001b[0m     \u001b[0mi\u001b[0m \u001b[0;34m=\u001b[0m \u001b[0mu\u001b[0m\u001b[0;34m.\u001b[0m\u001b[0margmax\u001b[0m\u001b[0;34m(\u001b[0m\u001b[0;34m)\u001b[0m\u001b[0;34m\u001b[0m\u001b[0;34m\u001b[0m\u001b[0m\n\u001b[1;32m      9\u001b[0m     \u001b[0mX\u001b[0m \u001b[0;34m=\u001b[0m \u001b[0mx\u001b[0m\u001b[0;34m[\u001b[0m\u001b[0mi\u001b[0m\u001b[0;34m]\u001b[0m\u001b[0;34m\u001b[0m\u001b[0;34m\u001b[0m\u001b[0m\n",
      "\u001b[0;31mNameError\u001b[0m: name 'c' is not defined"
     ]
    }
   ],
   "source": [
    "x = np.linspace(0, rod.L, 1000)\n",
    "\n",
    "def soliton(x, X, A, L, B=0):\n",
    "    return A/(B + np.cosh((x - X)/L)**2)\n",
    "\n",
    "def fit(k, thr=0.7, optimize=True):\n",
    "    u = -U[k, 0](None, 0, 0).diff()(x + c*T[k])\n",
    "    i = u.argmax()\n",
    "    X = x[i]\n",
    "    A = u[i]\n",
    "    L = np.trapz((u > thr*A).astype(float), x)/2/np.arccosh(1/np.sqrt(thr))\n",
    "    if optimize:\n",
    "        mask = (x > X - 2*L)*(x < X + 2*L)\n",
    "        X, A, L = sp.optimize.curve_fit(soliton, x[mask], u[mask], (X, A, L))[0]\n",
    "    return X, A, L\n",
    "    \n",
    "Xs, As, Ls = np.transpose([fit(k) for k in Progress(len(T))])"
   ]
  },
  {
   "cell_type": "code",
   "execution_count": null,
   "metadata": {},
   "outputs": [],
   "source": [
    "dv_num, X0 = np.polyfit(T[T > t_max/2], Xs[T > t_max/2], 1)\n",
    "plt.plot(T, Xs)\n",
    "plt.plot(T, X0 + dv_num*T)\n",
    "plt.xlabel('$t$')\n",
    "plt.ylabel('$X_s - ct$')\n",
    "dv_num"
   ]
  },
  {
   "cell_type": "code",
   "execution_count": 159,
   "metadata": {},
   "outputs": [
    {
     "data": {
      "text/plain": [
       "0.002336624964944028"
      ]
     },
     "execution_count": 159,
     "metadata": {},
     "output_type": "execute_result"
    }
   ],
   "source": [
    "beta1 = 3*young + 2*l*(1-2*nu)**3 + 4*m*(1+nu)**2*(1-2*nu) + 6*n*nu**2\n",
    "v = c + dv_num\n",
    "A_th = -3*rho*(v**2 - c**2)/beta1\n",
    "L_th = v*nu*R*np.sqrt(2/(v**2 - c**2))\n",
    "A_th"
   ]
  },
  {
   "cell_type": "code",
   "execution_count": 160,
   "metadata": {
    "scrolled": true
   },
   "outputs": [
    {
     "data": {
      "text/plain": [
       "0.0026014018622302075"
      ]
     },
     "execution_count": 160,
     "metadata": {},
     "output_type": "execute_result"
    },
    {
     "data": {
      "image/png": "[encoded data removed]",
      "text/plain": [
       "<Figure size 640x480 with 1 Axes>"
      ]
     },
     "metadata": {},
     "output_type": "display_data"
    }
   ],
   "source": [
    "A_num = np.mean(As[T > 0.9*t_max])\n",
    "plt.plot(T, As)\n",
    "plt.axhline(A_num, c='k')\n",
    "plt.axhline(A_th, c='r')\n",
    "plt.xlabel('$t$')\n",
    "plt.ylabel('$A_s$')\n",
    "A_num"
   ]
  },
  {
   "cell_type": "code",
   "execution_count": 161,
   "metadata": {},
   "outputs": [
    {
     "data": {
      "text/plain": [
       "57.33444212626433"
      ]
     },
     "execution_count": 161,
     "metadata": {},
     "output_type": "execute_result"
    },
    {
     "data": {
      "image/png": "[encoded data removed]",
      "text/plain": [
       "<Figure size 640x480 with 1 Axes>"
      ]
     },
     "metadata": {},
     "output_type": "display_data"
    }
   ],
   "source": [
    "L_num = np.mean(Ls[T > 0.9*t_max])\n",
    "plt.plot(T, Ls)\n",
    "plt.axhline(L_num, c='k')\n",
    "plt.axhline(L_th, c='r')\n",
    "plt.xlabel('$t$')\n",
    "plt.ylabel('$L_s$')\n",
    "L_num"
   ]
  },
  {
   "cell_type": "code",
   "execution_count": 148,
   "metadata": {},
   "outputs": [
    {
     "data": {
      "text/plain": [
       "[<matplotlib.lines.Line2D at 0x7f99edcb9278>]"
      ]
     },
     "execution_count": 148,
     "metadata": {},
     "output_type": "execute_result"
    },
    {
     "data": {
      "image/png": "[encoded data removed]",
      "text/plain": [
       "<Figure size 640x480 with 1 Axes>"
      ]
     },
     "metadata": {},
     "output_type": "display_data"
    }
   ],
   "source": [
    "k = -1\n",
    "x = np.linspace(X0 + (v - c)*T[k] - 3*L_th, X0 + (v - c)*T[k] + 3*L_th, 1000)\n",
    "u = -U[k, 0](None, 0, 0).diff()/A0\n",
    "plt.xlabel(r'$x - ct$')\n",
    "plt.ylabel(r'$u$')\n",
    "plt.plot(x, u(x + c*T[k]))\n",
    "plt.plot(x, soliton(x, X0 + (v - c)*T[k], A_th, L_th)/A0)\n",
    "\n",
    "XAL = sp.optimize.curve_fit(soliton, x, u(x + c*T[k]), (X0 + (v - c)*T[k], A_th, L_th))[0]\n",
    "XALB = sp.optimize.curve_fit(soliton, x, u(x + c*T[k]), (X0 + (v - c)*T[k], A_th, L_th, 0))[0]\n",
    "plt.plot(x, soliton(x, *XAL), '--')\n",
    "plt.plot(x, soliton(x, *XALB), ':')"
   ]
  },
  {
   "cell_type": "code",
   "execution_count": 149,
   "metadata": {},
   "outputs": [
    {
     "data": {
      "text/plain": [
       "array([725.12616928,   1.01577553, -22.76212278])"
      ]
     },
     "execution_count": 149,
     "metadata": {},
     "output_type": "execute_result"
    }
   ],
   "source": [
    "XAL"
   ]
  },
  {
   "cell_type": "code",
   "execution_count": 150,
   "metadata": {},
   "outputs": [
    {
     "data": {
      "text/plain": [
       "array([ 7.25126147e+02,  1.20041430e+00, -2.15238387e+01,  1.89277203e-01])"
      ]
     },
     "execution_count": 150,
     "metadata": {},
     "output_type": "execute_result"
    }
   ],
   "source": [
    "XALB"
   ]
  },
  {
   "cell_type": "code",
   "execution_count": 151,
   "metadata": {},
   "outputs": [
    {
     "data": {
      "application/vnd.jupyter.widget-view+json": {
       "model_id": "edf31ef6a1284c73bbd538c18ca1cc96",
       "version_major": 2,
       "version_minor": 0
      },
      "text/plain": [
       "HTML(value='')"
      ]
     },
     "metadata": {},
     "output_type": "display_data"
    }
   ],
   "source": [
    "fig, ax = plt.subplots(figsize=(8,6))\n",
    "plt.xlim(0, L)\n",
    "plt.ylim(-1, 2)\n",
    "line, = ax.plot([], [])\n",
    "line2, = ax.plot([], [])\n",
    "time_template = 'time = %.1f'\n",
    "time_text = ax.text(0.75, 0.9, '', transform=ax.transAxes)\n",
    "plt.xlabel(r'$x$')\n",
    "plt.ylabel(r'$u$')\n",
    "plt.close()\n",
    "p = Progress(len(T))\n",
    "def animate(k):\n",
    "    p.update()\n",
    "    u = -U[k, 0](None, 0, 0).diff()/A0\n",
    "    x = np.linspace(0, L, 1000)\n",
    "    line.set_data(x, u(x + c*T[k]))\n",
    "    line2.set_data(x, soliton(x, X0 + (v - c)*T[k], A_th, L_th)/A0)\n",
    "    time_text.set_text(time_template % T[k])\n",
    "    return line, line2, time_text\n",
    "\n",
    "anim = animation.FuncAnimation(fig, animate, \n",
    "                               frames=len(T), interval=20, blit=True)"
   ]
  },
  {
   "cell_type": "code",
   "execution_count": null,
   "metadata": {},
   "outputs": [],
   "source": []
  }
 ],
 "metadata": {
  "kernelspec": {
   "display_name": "Python 3",
   "language": "python",
   "name": "python3"
  },
  "language_info": {
   "codemirror_mode": {
    "name": "ipython",
    "version": 3
   },
   "file_extension": ".py",
   "mimetype": "text/x-python",
   "name": "python",
   "nbconvert_exporter": "python",
   "pygments_lexer": "ipython3",
   "version": "3.7.3"
  }
 },
 "nbformat": 4,
 "nbformat_minor": 2
}
