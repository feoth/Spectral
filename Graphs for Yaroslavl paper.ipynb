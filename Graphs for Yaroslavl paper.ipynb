{
 "cells": [
  {
   "cell_type": "code",
   "execution_count": 1,
   "metadata": {},
   "outputs": [],
   "source": [
    "%matplotlib inline\n",
    "import matplotlib.pyplot as plt\n",
    "from matplotlib import animation\n",
    "from IPython.display import HTML\n",
    "plt.rcParams['animation.html'] = 'html5'\n",
    "import matplotlib.patches\n",
    "\n",
    "import numpy as np\n",
    "import scipy as sp\n",
    "import scipy.integrate\n",
    "from scipy.interpolate import make_interp_spline, BSpline\n",
    "np.set_printoptions(linewidth=120)\n",
    "import copy\n",
    "\n",
    "import os\n",
    "import sys\n",
    "module_path = os.path.abspath(os.path.join('.'))\n",
    "if module_path not in sys.path:\n",
    "    sys.path.append(module_path)\n",
    "\n",
    "from spectral import *\n",
    "from elasticity import *"
   ]
  },
  {
   "cell_type": "code",
   "execution_count": 2,
   "metadata": {},
   "outputs": [
    {
     "data": {
      "text/plain": [
       "'/home/feodor/Documents/Spectral v1.04.1'"
      ]
     },
     "execution_count": 2,
     "metadata": {},
     "output_type": "execute_result"
    }
   ],
   "source": [
    "module_path"
   ]
  },
  {
   "cell_type": "code",
   "execution_count": 3,
   "metadata": {},
   "outputs": [],
   "source": [
    "%run -i 'simulation_samples/FullEqn_table_top_mat1_A-0.04/data.py'"
   ]
  },
  {
   "cell_type": "code",
   "execution_count": 4,
   "metadata": {},
   "outputs": [],
   "source": [
    "direct = 'simulation_samples/FullEqn_table_top_mat1_A-0.04/'\n",
    "\n",
    "mesh_grid = np.load(direct + 'mesh_grid.npy', allow_pickle=True)\n",
    "L = mesh_grid[0][-1]\n",
    "R = mesh_grid[1][0]\n",
    "T = np.load(direct + 'time.npy')\n",
    "U_func = np.load(direct + 'displacement.npy')\n",
    "\n",
    "x = np.linspace(0, L, 300)\n",
    "U = TensorField(mesh, U_func)\n",
    "A0 = -0.04"
   ]
  },
  {
   "cell_type": "code",
   "execution_count": 5,
   "metadata": {},
   "outputs": [],
   "source": [
    "def animate(k, u, c, T):\n",
    "    line.set_data(x, u[k, :](x + c*T[k]))\n",
    "    time_template = 'time = %.1f'\n",
    "    time_text.set_text(time_template % T[k])\n",
    "    return line, time_text\n",
    "\n",
    "def init(U, T, x):\n",
    "    u = U[:, 0](None, 0, 0).diff()\n",
    "    A0 = np.max(np.abs(u[0](x)))\n",
    "    A0 *= np.sign(np.max(u[0](x)) - A0*(1.0 - 1e-10))\n",
    "    ax.set_xlim(x[0], x[-1])\n",
    "    ax.set_ylim(-0.8, 1.8)\n",
    "    ax.set_xlabel(r'$x$')\n",
    "    ax.set_ylabel(r'$U_x(x, 0, 0)$')\n",
    "    plt.close()\n",
    "    return u/A0"
   ]
  },
  {
   "cell_type": "code",
   "execution_count": 185,
   "metadata": {},
   "outputs": [
    {
     "data": {
      "text/html": [
       "<video width=\"576\" height=\"288\" controls autoplay loop>\n",
       "  <source type=\"video/mp4\" src=\"data:video/mp4;base64,AAAAHGZ0eXBNNFYgAAACAGlzb21pc28yYXZjMQAAAAhmcmVlAABDrm1kYXQAAAKuBgX//6rcRem9\n",
       "5tlIt5Ys2CDZI+7veDI2NCAtIGNvcmUgMTUyIHIyODU0IGU5YTU5MDMgLSBILjI2NC9NUEVHLTQg\n",
       "QVZDIGNvZGVjIC0gQ29weWxlZnQgMjAwMy0yMDE3IC0gaHR0cDovL3d3dy52aWRlb2xhbi5vcmcv\n",
       "eDI2NC5odG1sIC0gb3B0aW9uczogY2FiYWM9MSByZWY9MyBkZWJsb2NrPTE6MDowIGFuYWx5c2U9\n",
       "MHgzOjB4MTEzIG1lPWhleCBzdWJtZT03IHBzeT0xIHBzeV9yZD0xLjAwOjAuMDAgbWl4ZWRfcmVm\n",
       "PTEgbWVfcmFuZ2U9MTYgY2hyb21hX21lPTEgdHJlbGxpcz0xIDh4OGRjdD0xIGNxbT0wIGRlYWR6\n",
       "b25lPTIxLDExIGZhc3RfcHNraXA9MSBjaHJvbWFfcXBfb2Zmc2V0PS0yIHRocmVhZHM9NiBsb29r\n",
       "YWhlYWRfdGhyZWFkcz0xIHNsaWNlZF90aHJlYWRzPTAgbnI9MCBkZWNpbWF0ZT0xIGludGVybGFj\n",
       "ZWQ9MCBibHVyYXlfY29tcGF0PTAgY29uc3RyYWluZWRfaW50cmE9MCBiZnJhbWVzPTMgYl9weXJh\n",
       "bWlkPTIgYl9hZGFwdD0xIGJfYmlhcz0wIGRpcmVjdD0xIHdlaWdodGI9MSBvcGVuX2dvcD0wIHdl\n",
       "aWdodHA9MiBrZXlpbnQ9MjUwIGtleWludF9taW49MTAgc2NlbmVjdXQ9NDAgaW50cmFfcmVmcmVz\n",
       "aD0wIHJjX2xvb2thaGVhZD00MCByYz1jcmYgbWJ0cmVlPTEgY3JmPTIzLjAgcWNvbXA9MC42MCBx\n",
       "cG1pbj0wIHFwbWF4PTY5IHFwc3RlcD00IGlwX3JhdGlvPTEuNDAgYXE9MToxLjAwAIAAAA9SZYiE\n",
       "ABH//veIHzLLafk613IR560urR9Q7kZxXqS9/iAAAAMAAAMADhIIszNu7bARC4AAAghcttsF4D/M\n",
       "AvDw0M3A5YbcrLPpEcsVQ5N/Bv5oeTpfQ6968EFJmGsG1lNj7eTppn74FzK5xqxDKdNrtMVHRS6K\n",
       "nOrjAoBoachI9R2dmR5y2xsYcEPd3svzBh9v79Y6VkX0bnEl5DTNOrm5wst/5feIP0CwCHvJ5Hm0\n",
       "PhTbIBVAhn5uF2w8Fn57dFAUoDik2rG5YVfxQ9hqPy+uTl5f6I+FW21jIwZkKt6c3YTnwBBLDD5B\n",
       "bzRm7tTqdbsr3DWiCTHT1zqliddY1hEicNw9w/6UlRSZeD3weS5H7wXsXCG9jf+Jxw1Y1vNxW+KL\n",
       "gd+Tt36fwY3bnOHV6LktVSSBn11QIBtPXBDah2nY7shgc8CM0UZ/uyMikZpCvOzEgY8QaZE46mgo\n",
       "3CL9IEP38vd6ygOWH+RPGRZvpEkSPSYBAHDny6311USXmdDXPyvcz8OiYcrcI8DR6NbiPNo3wfg8\n",
       "fRr08r1rLpZZ++PjvnMo3n0I7SdCaPT+0T+iNyFCzdSwvlHhQ/5sy3TfO5lkjjV6idDYZIRvK9Op\n",
       "odA42Z3JtHqikhoY15jSHRRLDMI6tfa9JYAVUgdhCCmRcDr2EUhejqtvFZiZgwa5kHniHBu2JAOc\n",
       "5SglPY3A4Nm5eG9Q2pfP6kAylzwb9DIoFZjvhaAigWcZ6UIE/+NbxjZES+lSL6xDSPx0UmrTfs8Y\n",
       "/2SM1mS71NCAduq/ulxO3ii8JNd4UpauT94J3UaK2JvdJIMWxfZDmBCx5b+3HCIt5vMHDWXTQpqB\n",
       "dGMTPlD4VDqAhgj7pLCLqeBFaa1rsnncvc9k5b3Dx6HfK2LcnEOKiSz5j2MJjVmzxSD2bRCG8Bd+\n",
       "mbPLUFQLi4MpDOIL4ZbiYFyYKzf3+XL6p8OZ4CFeSuIIb+3hASEdp8JqtF4sZ+E+zSIyB1Sg/lLz\n",
       "BWzqpoe08xgF6E8rLnfzTC375KAy5QTLqybh0mWS8F1SfzRNlFzKNbllXoJOujnpgBwg5AHBFRz3\n",
       "lsINKI6s5AKAVvD/EAFEabyP4mMoPfBv2T7Jcp9lMRI6NFKGYTxcoiuMGEJVEoMncXRN0FBsTHAQ\n",
       "wPIilkXmeHKg/fxzodCxR8blirDTys9l4m1kv5l4bntb6PgxoWsVJCAvsv+j0pYZf8AWiC2kPwXJ\n",
       "T9L1Si79zL/qb0BLI7kxKs1ujWkmrGBZnG4QU/U8gMhLdRze45urYuHVRgVkN8WwOGPJP2VpscvN\n",
       "UyrHj8VHWfSaGC2wFr9C2geTEg7RYCOphCjLkYi8JdlyQZZGJzPWIKc9Uuhjy2qji4VcUNyQS6xk\n",
       "+yaEpXr+uRaw4Go5fmKJ4FhbaZm4bkEcZpM3t+D71o7iQJTjQzCUkft5cKBDO4n5P4qMNnK32Odp\n",
       "psW+l781wwUYZpdSKHdmGvBJg26HmDSoOdpgv5Czu5hgLS4mYfbnLPKFPj7zXiI2OEW35l9d7vIQ\n",
       "/CrbdFdGSLDCqxnpXsZZyp1h6GFneMKqHbpAiDkv58UL855M+JS/2UQV5ru+ImQsJN3Y7wqTqUTS\n",
       "eSpc+A3AjSXJ20rBUqGA7i8NS5ZbSwODSPpAWAx/DetRGm2QByZvK1ZZjnHlz99q+OtKnFRvkg6l\n",
       "WEBfOSUFtbXOE5A+nbuKfaa2hBOwL2vJwFHBrNtWHEl1uXXKSKEZWolrNwAGEWmSU/rXuDJNKtL1\n",
       "3WbKWJeWc0IbC/JNBZy2ASRTRzERS9BeVFzy3nFDKElaoZX4S1yVJMfGLC72cRCQgrcdwEVDQOf8\n",
       "8OUC0De1XCKbG0AOGFHMcmr+pRJl0MQ3AQe/LQHvd8TavNrBMMDlfo7Sw2m4VzDPVH9sKpoybIKj\n",
       "vEcG9rqxY+OFGUojrxfRcEOzWm7gxKufy9kRAl/XLFMLmoT2kiTTU86JHmcsatU6lywL2zWVNnt7\n",
       "VN8OdSQO7Yy/dq6+LOLRtEdHn7nq7jnkA8Sf9PBnNdVm8oMvWA63AsJlHCbXTjlpnv+eVRQ8gJ/Q\n",
       "DCv0kGP7SZ7lDS8TCv1Xj6cfYdft5xpAGVp9q6LJc3o+OpviiUxeZehqcUORJ5vsJtlIlObF7mKC\n",
       "zd94LDM3JphmXj2t6qAlzMOHnTWQFZzJHcypPx4QSs7zARN8u3v3sV5tHHnBH2AUke/Sj9kvCKYF\n",
       "x4NyF66GPr8jblCK9UeGLmwsv3VZyw1xqF0SBqunflSyz7C71K2Gb4Owr6pYF+PSpm7rsCv0yRTk\n",
       "h5EKCw5Bnt1LJCwcOaMMXYgVxIbtlI8kpzWhTbO+lvwR6LYNqhNYHA12kCxaQtygQZVdTtaxzHi9\n",
       "Qvi0YBeCAXgXiSGi5yy7LbC0A1fRXcFffByqfA1Ss6H6Iyi0r7Dp2wYai/nkpSXo3h+FdxRaYOrn\n",
       "gt+jh6FmMyP6xluO2AStH6K2AtDNvvK0tvmL2VDwTFzdSf6qFni6JhOlNWg0wUg++IYbREOZRgp2\n",
       "DbyT8aRBJ0DuBUBORmGU2RjIHJGm2OBrCeq6TTBHUg3bmjgrQmu+zheaP8ZIeU0pjB61sR7yyt/Z\n",
       "gwvsqRQNDCC5i8ZkQARqwKG+OcdO7HAwBKKqfWolsWdZSggaoUUvye927OFOWY3TTBoDL3yH6tyN\n",
       "JurUNwOYHlVarHVfYByWCIQQXVvD1L3xdemA4lcgM8mOwNk8koWRCTvXd97jRnFp24RPJjo1q65f\n",
       "dpEYBUbxESVmqDfB/vrQQmpQAIMMEgcxzYzedGWKEMu693c1fHbz3yi+JOg/jGqBjZsUGlhDDg/8\n",
       "f1/Ey9f65YekQTh5lMI8cG+ruhqjU01aqb/rzzVhiR3ebL11bfo/OxvyVjnktzALKADyfKeOhdm8\n",
       "EKijjzfJSixwoVxpnyJP5dmUKdzcKMMdAPjtTrBO08WGeZExOCrX9FzgXYYnx451mAlgoqkmxLTG\n",
       "lPNfF/tTK/2HeXuc79dif9hmq+uu4ECXdRgnY/wPp4KNC98XBigVMEPOcbgbYAry78D17F+ZMoDI\n",
       "IY612ED+qdaVTrs0jDmk1V/iNp5ERh+UJrNmLZ5vSZZwNZdi4930EdAA/p6/rsf/xPQLUijc1kzZ\n",
       "uMKqsCD5b3NyNdHPz2tJlLj3/CTrJoZGEdG5CAwxgg8SQib6LsPK+I6Sps1AJ6lBGt/Mzw49R0vL\n",
       "8jfOAWIDOIAUrFq09bV3pJL5wxEDUnep4VVg12df3L7XXW9asv0bPy5AACxGnpvGmNkqrNKvOjsu\n",
       "aQNVWcpcivJApKdBBQZQ2mI/U3Sa2SECAseHidT5rpoLiCNT3zodGU5bAzzjMe38fKxRVfsrFXSb\n",
       "8hUheSIBATcwxX6IITCqBii12IG7sKBtG3aeolhC8Z2dJxgZo6L7rROrSbyRPC+7mmgG0y3fcGCX\n",
       "qhm2I4E+Os2/g/vzXd47IXYGR2AAkIIkecddZw2XWcTdtqbcV1aGSE8q9r/UYnnHABvipyP7GLP5\n",
       "uscP87RGTgKIjDHLs97OiMfJG/aYceXWFvars6IKYHSfEERwpZ7wr9Ew3g/Eot2KeQmWX4TDYiiG\n",
       "X6EFMhf+o7LMxRHSUjkb05g51N4s6975txg6UGHgkxTpQx6FUZZVqRFYdfvclyNP+WdcehjYBBHk\n",
       "JUnE5Am9jYUYNf15ITdUfEItg4Kw96Tmj/BTdhq5S2SHDjvoxinq5Lhf+EmwckYAgotAIz0vxo8q\n",
       "qILSWtcinXQCHiMHWhw/Gnmpgn6ht31rcHRtru2K+NhKIYTwMo9f/EFNPH/qXFasCirVzFdF5apQ\n",
       "myx86ZBX/hpzR7QM5CGVS61c6J4opY/nZ/XtiFLiq2ZufvkaeLhbtGuShCL9q4g1fUMZGFkahSRo\n",
       "up7lhLoxW3QAbvk9uZqhkxC8NHJdMiqk1NXPrDY7YlgnIHUcEyQ1z6L8uQLf6RwK/LEITigSsdrW\n",
       "j6CQ3Elw7vrEJWzjhlpXN7HfqLRBxMlgoSpQj7O1IuVAdM8n4FnXhkk5oWRBGz3RZtXaAQKcrfJc\n",
       "HDYT1rEdYgEshrVdintWnDWcVRIfcIX33VwLwEFDZQyZfKjipy/UL+n05nPuvSvINdDhXQ5I/JEj\n",
       "bI5I5Pj9THzI3PB/jXAGJO9eRnN+W2+y8bQOZ7XblPphPay3yyn4z4pTdgHlPB49qoY3gdQhGHLl\n",
       "I/LCTzWlXyUOBifTjHJb7VYzvliR6PsWeGvnuBzHqeqsiomMNr3TUU4x5PHu+0WoflVEdcibBCa8\n",
       "+9V/gy1qC24nru9kkWUyOhfwv4SdYfpwX6X/MtnfVrD/VreiH2Q/QNRoJaOC+p0E2RDqCoNAGnNX\n",
       "iumDD1oL/yuu3pN5/faMbHdj24zTqitAzvZTkmPM/VrQsEk0nIQSBbHr2tNqT6+ghxK4U07qnCNK\n",
       "s2j/PRiwrY+A2mOyqrfrzoG8R7QrCFk9fUfjm/09IVLTIpwQcwrNN2YDy2wYOpnFr9nFa3qsx0M1\n",
       "hZL7kTrr2RaD7vNSe2NfsMnhSv+6hl4hZI4pJKJ6ddyb24hFXayIYKIOfs+8gjGY05xjFoi+phVx\n",
       "kMvzGO64romCjZoOm5I9ktFYVuGfmdl++yibkoR8mDcAi8eVZx6JXWRpg12wL+fjC49N4ZvpIbvq\n",
       "AoxtVvBiSb4PvRNFi6Jz5LfhWKARCAJgr4Hr8S+e00Qmn7xfn6AQN5q5F/0La5yr+oVtz6DZXclJ\n",
       "X5tZWNNxrect0o7IqEeBT2ISBPRe7P7v5of6AXlef5gZxS0uXGEE5qfqFcWX87kYG5lSlw0AR4eN\n",
       "o9+J1jq4n4wi2lRetoir0gyVg32biex7OyiDRexm3C21K5iR0d6PB+Os+NeeRTNxmNO3RfyH1+pE\n",
       "uy/5YrYfCMJK2CpoD25s89GWt2m0l+eEaPodRmFJcnhiUcuqnvxhHK5XTCHFKL8XnZkU3xqN+FeM\n",
       "hGGMBycYNAQdeYdOgPbg6CNM+1tpm2qx2lhSTk6NauPpQ9e8vJidF0bO8YYvIhTvZHjwIeq58+hd\n",
       "KnmOwlf/ya1QUaSDdfIFG7oS8kELwA7k+tLttUvvPfIqoHvmMAnXIbvavvXNB9I0kBunhV5faMw2\n",
       "VJWpTYqT8zCsXNCngk9b5v8f3e1tUQ4AAX4qnru/DIhzbDYEvmyaCUw+DiOM9oig7/ns8ZUE1Xiu\n",
       "dl8qFyGk9oHUrQC8Trj0RtkTjZl0qa49JWblt2qOL38Wheaxa/iVTl1BowAAAxlBmiRsQR/+tSqA\n",
       "BvMwwYAoN4GaqKbu03K9zIB9kyfyQX3azXLek0ldYjDC73eQLeIv5nbVs7kuS6sFiXMfV+F+yCmJ\n",
       "P0tOau/PC1yAihVRlSYEETqtMHK/0ncJuMsg0BHuHMPELWeNmRfSdErtpX3pLwaRc3011AOJOxUQ\n",
       "rWnUdNVnJM5wcKttmDRAfipFYHi4EX06rw8I33qT8OcIhG68c5lGtinEG0Nzztics48MPntGJMvq\n",
       "myRhKof6Edf+WWurq3e4ksoiOkkrFJ3zfmkcKjaB/chusB+lIM1jZAgsdYLuky/m0uG4jdWjiHEh\n",
       "PbLRHEhhwUIRe4vyVdoSOM5JeCzZ0FAmVw/0Zl9CmFl3UtmYfqxvoGM6wsTVeMBnI13PE6s4SAVn\n",
       "7tADrjRuB8rHJLLrYjFkcTkP86G0nYJub1vzZ8c6/qk0jc5CmTgaStAnb7mMsIfGzRy11hM7lqf2\n",
       "SmFF/V7wgFN+fqYkDeFgBv4JctWbhEi/ImEEfo5rT4H1NkGNMAFPoqqQyzbrEQMpgyrICbQ/dfB7\n",
       "gD+HaEhmcdt0Bk4fid5gYSNjyrze0gFF6A4qSqffj01/OqDPSqmZJhfXzCLRALuODft7bdOZzOMz\n",
       "C7XOphKtLXyDjgGCaUBMTWmYmMtdZC7/iUfIsKgwAJ+ua8WC8sQIxBmtm7lJOJ7uaTJvwOckncdN\n",
       "l7U/SLaJvltM8AnZWCBFoTUeIuSdtpJEM6risWxqLYPlZp71uwVVpogG1WYP2hzDNhE+8EMaoCtS\n",
       "0OobUP2UQ8d2IK337XzGh7/dzubLRLboHMa3lVAW4hUpv2YAdMkw4zYXn8ciAn6kiUB5uEcqXYtV\n",
       "lrR8+IDHSBuCCttOZIN7q0xFmeZBJmtMxNmSr8g/CvgyP8tBv1w7XnZPwcs9n5f6V2cil8aZ9g8/\n",
       "OBLg49v9/lwCJE1byARBghx3gOa+hAAa7+LLgFyrNE4Sd0q8J75+em17HkcyCxc44CJmvRR1qAA3\n",
       "W8hSN3skWRHzJOVCKQUO3V8NFnaPoka7gsIAKeQJwXtmIMJKmcAAKg/AAAAA+EGeQniHfwAbLa2A\n",
       "TpdCYuzOmgAuAp5Q89q+cA87DM1v5xmGPjUd2JP0pBd+tc6cKirfMGBu0mB1DpbTaYJ3x1jg2hsJ\n",
       "kzn9IskdqdIdFKs64s6Ej3cMUUhHsMwhtnVmhpZgwPnbJfrxu9YOU9EBojk9YKxrItSzY5sUrR1i\n",
       "u3fhR5naa1J3yF99BA19xotRJ1zh06wD2rZcAD8lPqYI/8B7c6mgb/aUNSWYx9HNONxS5WYxGsud\n",
       "G4Z6yuWpgGn8Jpb085ljTeWqotR7GCYDkVBRJWWTFlGFvP4AyAzhQ+2XnyULL17SE8/IU+Tq72DV\n",
       "m4XhM+FsaiO7AAAAnwGeYXRDfwAmr7MrNsgA2SNsl0id/8tOGmmJXTsYOBx2jFkA0/9VsF5BfSyD\n",
       "wpoYSTlvz8P79Wj+q5AMdIV3KHlciIPsDBSi0Z22IxBhs9NO49+Ix/VyugEEwOjrBVoNu0BuaYJt\n",
       "UoGc/HD3LTNDaZZ3Evy3chv3ERuA7D1ByTaxR/mvBtdoR8XzNAPjipJpGmtN0/nJMsz6lw0AAYz0\n",
       "gAAAAJcBnmNqQ38AFXo0SbxJAB+ch8XHxyE05cmv9jzrjHdhAvrAEV84s/0z4OlZrk4Eq7O0pTlD\n",
       "vDzBVb9Ml9ggVKWr1cGdwSAIMTnP7AWn3dYcdPC8oJ0Zjt01NDvAZWfV33Z77E13TE+laSQMBNkP\n",
       "2IwOacsVPcFsjsyGokXdzTeI0H+fTB37PyYudcwx/vf6MKyt9pB9GS6pAAACGUGaaEmoQWiZTAgj\n",
       "//61KoAD01mrCACITGLhm7fGsAbA9EmDAKZ6Zu9DyZve7XujhRFB+qCbhVJ6nz6xuzrZUB3czvTa\n",
       "1RYlHhuDCU6AMYCB5hBXHa23i+IulF5xtskupgOUdKEdbvtgI8kUsX2e1C6iBRv6lF9rBTrEMke3\n",
       "DplfR3Hvh6U3EJo4a7ilqBEMt16YfmEbqpAURXD50bud5D9HqUYFFy519xENax1EAlrovoA4p9im\n",
       "qUg3Z6LGEp7/pvorAwu12ypxNOZiQTAP5Ym3tjCu8CtGaesWz0KjSVwCCAriZDAmYNSrqILIDWU+\n",
       "n7EkkHpBwTV2/gSG7YEHrT/t0Bv+xIzqDrZZt3m/3B8IZHK2fKQus2QbK7iwsAoGyuCz404XzAaV\n",
       "r95HuXUFXAejp2JZ+Qp5jaHMS3ROxN9jwsUn7kXg6e9WoQLHiNG0yTHogKi95xrcvImwPPNQCzZi\n",
       "yiQfh4/I/GxC7g0AILCPMLrDWKvvXlW7ZBNtchGyJQZD2tXwxrBA4jE9etUEuX5tVsxRBM+wkp35\n",
       "fiZkfvIoAHjLpoMWAFVc+UYiAMm5OuGuTFimUAf+t49c7lwlw3s1ilhX9DA50lNz0u5x5x2sWeJq\n",
       "EedlXmHm4kKh41y/LWsyI3Qv9zUmdmgEQZ2dd8OcZ9eeTJrWh+S5ZwHR5NbW9CkhCsc+ACO4Hg7O\n",
       "JlsWKpV1gDOJuPMHjQAAANdBnoZFESw7/wAO7sAaAC452bsowNAvNPdOcvNYelGZ/u4arr1cfpeR\n",
       "3/Zxz879hZU0KA9I0yzto7oXgr+wFGybkA3RkCYakJGUcSPoa+NJPIIEu0kB+WiINDNv5ye7gwWq\n",
       "SgBFDH4gqMTD6kQANyfuchpVMCxJZ8Q/FOAefw3I3J2pKFSftA6iAUAevvVvT4ci8/FSAZm67Cb3\n",
       "Xe2NZNPSGOWj8htIP/chf7td1FccQSKZdgL18FDJYdVI/dpv/zFjg/VO2tmoud2e1neM8URdDMWC\n",
       "cbB1QQAAAJsBnqV0Q38AFahSQAfnI1G4z+/uDn9JAlUiwM9+dkOiYD9pcV1ipA3XuBLZmphwIbQk\n",
       "1Ogga7dd1J0mvfGC7Nc3joM6qZhmAK3si+wuhfEtJcAeoKiLnODGxR5O6Cg80rteR/0cqCKDWskp\n",
       "YJfQkuPg164+aDPHjFHyzdUTcT1iq5OoJTO1DkWPGY5RWXVXBD2co8MGeQO2uxh/qQAAALABnqdq\n",
       "Q38AFY0hlBySAD85F4FQ+0yHRdbTK/IMBGxGzWr5mvF/su0bcKiVfRsy278FQge7WeUqBsnuVACR\n",
       "PVR9Ehjj00qTYND8nR/lp/WVpvbAAfKm8yYnnfPDGRKMvq+1JgMuMVHqvj7HsesZagKBzddmGUj9\n",
       "kCkFZLBWaw5013LoWwKXbzRQ70eGyum1zsZVgUTTSty07JWm/YXRXYCxnKKgrAbV01YBuM0cSabT\n",
       "MAAAAtNBmqxJqEFsmUwII//+tSqAA9ECcIAKutWWLjatmNC8v+ZVUsa/mbqOK8T2JSrSSVyPGXFY\n",
       "uqd3QeprTJ9kAGRXhy0KG/wDJea+iVfy+Yr69iNeL6HpYX6x2T65RW6dMI/2/8b6jWCTa47+QRD8\n",
       "ByWEsrwVPQugIVqgFA9xxW2xLqDcCz1yBWhzi7pU2ypkEn40Hb3zv5XPUPo1JymE7WZwIwtlsMyw\n",
       "8z7Rj97WJRXx2bj91lJus3EuJxEqSXIOLal6QJpL1D2PYmqR9n7bIQ8OaiRm1kmqUmIbB3SyUakC\n",
       "wB0jJUzTjG4Lih/1j3dV9bVQWnEEci0NR6kEw0PuHgJuuGfBUgMR0kVfX5O3UMqqiIess1bneiG1\n",
       "Oy27IdBA9serLQA1HD7PeBH4nI0+3xEreX6fh/Bfhwg6rUIBn9hfV+wKK3aMg3lbTWFm9CWtF73d\n",
       "ECU8ZwmkpGSCvsYnVBbESJW9BB/CWvJLoknNs29/ujfmj9gjx+lc9lRArKdMzV7VuUB1KkIA8PsS\n",
       "1oJJnEMjUHMCigSCNo+z1CutF9n3LgG43wfH9J0zyoIII3qL2LwiKAJBUc2z5n1wt5C3NN7iAL50\n",
       "eCnIZABWk+epnsKmT8FpcvP2ET+608UuVJi5HprAOyqi7IVF67g0xiHnGQdQ3352G+1qSMKfrpII\n",
       "qZjYzOsMTTVhHS4OkPJqdeRg6XFrlmhCeEn9pDOFA+cvSPK+i5PnEKxDr9w4hEW1lJHU0qDEk4pM\n",
       "HS3gfxG1FDeFF5Fc+ZpIAj580qMc8kxN+65SyulDNAfL+jHEAKuwmVenIvraAP29u17uXRvgekPf\n",
       "47TRXO8h+7+Oo0/gJ4WqrKX1eEi4fQ1XOz/bGE+UlE/r/AM4cj7qiiN6eJ9+MjX3qGuaXXs2j7XG\n",
       "etER47LIwaG+f+bQ84vklXg9aruskSPkifUkpV5RYJ+YC0e1iz2oW6YBC8cAAADUQZ7KRRUsO/8A\n",
       "Du51lbkRaAC7KmzarIf2z2A4euC+DRqhCdu3J3t4L2/MU66X6BLpCI26xqXQoNBc1WKSTJFayRVV\n",
       "OJBPsO/6B9kR1/1eBK1njmx73rJ29pDrVOS3dFc6s6xr2tyKmNm2zE6JZNZin7H1QA3V3sXzZdWy\n",
       "uzxxwHh55D3EylcQ+7Q4pP8liRue9b9LgETJLHA4ejLmCYUTzn0bAvHRtEbbeSFuspPi0WPzQ3A+\n",
       "8NQWpn4Rh7cubmpEIjKog0WIH1KctT8/hvE+fO+a5MkAAACzAZ7pdEN/ABWoUkAH5yJr5lApc1gF\n",
       "qzykpYHQecFEr3hSg2mlo926biLtFW/FqxXAXPto53/BdHzurhnpnaO2YiNYZOjNwpiUVDdjbE4d\n",
       "ji7oc9UPxweHS5z5xo8vhxRBhSEwTqpU4gX7aj7WL3OXX/SWK4NTLB54rrbCkUcLjm26fXt8bzNi\n",
       "/tJLHYrXsRuBdytaLZge8XydoxuXrnJ/DPwP+5MnFHYMTxKcrlgbmWiReoAAAACiAZ7rakN/ABUF\n",
       "0bYAEJJ1Ul9x4R++yE/BSySPHpgc4nzvUPRAdouA+xpC8mKQrPnT/DzzCreBZQSkiynHttURepLI\n",
       "8LBSDPoZAuXqmae+9gdyiYj1Np2Z/bi7BLZN0qQR0cHjSLu5uez2Bn/vawfp2uQBra+1yiAIrl87\n",
       "d92TQcRS8k0fzVFIwG475Y4ndvGTJBtEY0YR1s+Le68X5CcZxY7sAAAB7UGa8EmoQWyZTAgj//61\n",
       "KoADu3iAC4AQmAb7zQ6/ZEsKS7uVQzG9flRlHVdC/KOdYcXf5zrTJ/xDJSSCVwyE795b633p19SB\n",
       "IcSYAQIY3hytJwNW9eW50qjwFPGgX1iAyFtYPzymeJ3zoBT9ZUyPQX2Uhzxohj3QUhwIKUGYlJq6\n",
       "Jm9F/hLOx9aqdISeaSm/jRrMmDpn1juE1C/cML1OyXseTTZQLoyz2BGFE77Vt65zGUXuFprre3YJ\n",
       "236iRKXMsEXdLvFD9kMYAeNy46Sqq2xtf62vny96oVilpA7C6DNdF5WHVKGUtmLVb7kaDCp3fLHS\n",
       "Zv4tfapTYaWwu/4/knZ5ZvsCCRcwGCo8RJtNUsXcFlJC3i7e2SXwzWfaJMuIQtnUxXBN7w/5JE54\n",
       "77E5GoRJcOcPhHWACoSzSS1x/+xRep2RLR4MhU3nmesffTK/jxlbtiORCuLqMSnu+8z8zneN/Az0\n",
       "leWlec4HKqZ7kAmdEJYC90mUTPZiQG1kyyQV4poMGZsWFiJIl2iJlUQ9lvLnF3mH8VzbnIM/v4en\n",
       "dpRKbbFIyTqq96sWXqaZdTTSX5Ka0RduFTXxd8GXqhDylV5+qdtFezVzwaSIwfjd45BOUc+mVjOu\n",
       "rtemhv9a1sUNy3s2BZm1l4VBAqnxk4sAAADRQZ8ORRUsO/8ADpNCZH7Q6ABsh3II7GaYcJ4Jvsfw\n",
       "S8vS+E7FgA2Ycmzyb1Hen0WMPsr6x9xJ39g3OK/V+0E7v2ZDTl4UIg/P0hsuuZFjlBX+XIz6sE1A\n",
       "KkdMYYfZS/UanH3/MvsmQMR+bcioaHrz7fUt8dlyRLVQv9Csrj2IKFBlMtYhMfXkVzy4hFFKGl9j\n",
       "5LdPPJ6qtmfE+ccmLbyI67zp3osfbQPf/9mqfwNy2yG+GP6KQln3hFz1yhRCaS1az2hnhBgZtAD5\n",
       "+nyKjnU4fkEAAACgAZ8tdEN/ABTeUK2pABqdx7ccxwTGaaJVRAoMl+iyZ2ikapjCk/CjqXta26ES\n",
       "kKH5kexy6IJXscs9RAK31YJAW7izOTsv8n5wN9XrKNB2pqTs/h8Ma0dW4DsgbqX4B5L8R7JlHxni\n",
       "PQge8iYZ+NTXUQGYavMSJGDLKNqK2DRzI1CQlIfICLZVFzYj85WmeljYG9fqH4qvJzwgJXKKqi9F\n",
       "4QAAAKgBny9qQ38AFQIzmtgAQQ+UwdMA1yE3Jh88K2bDM8YzIIGp85Q5ecLzi4r9k/qVqhrMrjKp\n",
       "oN1jVwENjLW07GWdIoCXRurV4HLoHZlweMN8mh2z3PecBBmod2WUK9Tpz/Jq7+dvMETFxEbF8b+B\n",
       "ZNEbkk4FFAB//0ISWunbnBYcs1EhXfjETAOifHuPdY4isES8Fn3ZdwVbdJGZBMOgv1egmLorReiA\n",
       "ldgAAAIGQZs0SahBbJlMCCP//rUqgAPRAnCACrrVliyQM+4rPZgPqUi/VSzYsT2En5T4BO3kcxFn\n",
       "nkhsY25JHcimb8zskpnwOSAqnfdJGELpW6qO+wuiQvuTfi3s3F5WnoX7hTr4+7wyahS58iRn4g2C\n",
       "l6l2DlYZcuSTpXsJw/7ZmwsF1olFPgohS0TnMN9tvlpnj/MSiQt7BlEE0bHQ7a+Yo9z3zwpZpqlh\n",
       "Yhli50GnKKW1aWtYdMAXGWn2bbVDtLnN01JWxuE1Q5WryKyW0D7wyZNo1/dY+8TSNWurlyUdeGZX\n",
       "TUzU1z1n0dV4pBu/Qq4xADvvxa07+Bn9oKb4yTujIYL198yNEngBd+RK4wQx8S2QzZa5NWZuwsgQ\n",
       "kpMAkKTDjTWpX3YXRD9zPxl1cfikH4QMtGCHOnqWGF8D4TuJD5Z7Go41twd/+h9shBxKvt/nf4jo\n",
       "RpOZaIlkHla37gFVVnr3A6NsQwD/4N+m2QayQh2kvXUwDn0Di2pcWqv9kzSHe7ko7r+1ip5vq1um\n",
       "n0xw/ogOkIAnJiCkcRsm/n5xk/OMrspYF1EoJ+39bIcFHU5yGDlEbQZcRPmEWkSwwlhJJMrdbpP1\n",
       "QECwbr8gNUMmZoWLhdGE233rPQS56p+ECWwsWZ+HjL3H/10iMczdnj2374M4ussptEPzXKd+7mDj\n",
       "5O0V+Mbub8AexUAAAADIQZ9SRRUsO/8ADu/2crk9wATROe9HW7GNzigkoVYF03cn0LGoRpzRsxFU\n",
       "ofRPdFFC3bRswVvwnMP79B+KDqGH+yY9kDjE4gyQAzkKqkxentPdmoACAQcYqOn3ujgLAMOPe5w7\n",
       "5Tw2gUG7M/UYpoOaFb1MF0Mh+4gE7kmCHzVz/hKMiKCQEc1UR1Q0crQvwxoE3IYZtU/X0vaQdnIW\n",
       "AZNlVE5s2n7ZitTLAnoib1FGwmiq3S86Vt0EZPOWs7eyh+09p6yJHS3BvqEAAACeAZ9xdEN/ABTi\n",
       "5aDZooAM3ly5ZbZEoojAHeADl05XWckJoeir2s0Cl8ZjuC/y/wl8mz1+3fwFct24oNxGTosDXc/j\n",
       "pLce/EY/q5NQBLtUCG5w5uhN1LmKOBehqBZuUHJkXDrb60CJFXXcBszG2/65CMWnWcsypBer/Nbe\n",
       "yLuFGwpbft8+RlQMOXAlXKReTSToN5HPEcE005GjVExQLmAAAACrAZ9zakN/ABWXmkcQm3LABqiB\n",
       "8CKFBIH1LZzT/iodAYiFQIQEVA2C4hg3zwS/QJelyW/qYAFw/n7NFZCR+QFiXUjYDazJHitrEyBC\n",
       "hUoXM0cqdQgYSncsOwGiUHmUBDHFtPhPB8Luxj4y0IVUkCYxXVv/HO0TPmm74hjhVaBOpMVvavEB\n",
       "tK9mkPAcK8KME/6hNqbAcjs4lsTY6FCvXy37hu4pkH+tJErnxgVgAAABkUGbeEmoQWyZTAgj//61\n",
       "KoADvISALgA6DUOoFQPW+FICl1auPjE0zMrY6Jxpno73F4oIkqsVuybLFw+AXd364tzbPisYBr2/\n",
       "/HsaYc3iSzjPxmB03KhVi2NbrSf4A85QR5s/5cbIMgy6BfHzlH/yWG7XEgYDUezdpxr17I936Lmn\n",
       "PcSEEZCRqtxto/7lrKwWUT8oRp/dYFhqIOq1RMmnOa/3aI39Q748WGqKF9gLmsBT5+DnvIZP9W0J\n",
       "lMvVAjpMReVc93+AtLdPIA3IncqFSFkAkknhbbXiYvMIq9vr/ieZfTy+bD5bHqTvNy6G1Vsz0W7Y\n",
       "RELIm8SxGkgygqe2O7FC6rXQ2YCQMQ0QFmi0ZwxBJ1bX//BGPZF2qs5+y0bABxnJ3NW8UxsqW7hu\n",
       "jy3IgDic65tfvhfZ8dgSl8M14ixhkAaXpeIzXwyOaoppjljvPTb43E1esbExRUHbD0g65As4z7ai\n",
       "1d6lVUwFGvX1sSS8ocOklJBLTY/KHXMaDzxT8GQxrgI2168qoAzcC+QPDWnnAAAA20GflkUVLDv/\n",
       "AA6nR+AAScl/VuG7ANTj4idwlKVvXHcQmF5QBpms0/TaPTb5qmxdcnTMfXWbpmkafzi/FO5cSNb1\n",
       "CELJsmARRq69jadnXyWSiz/wRaoOaZanJcrRrRwtjAdhEzci1W5nGJye7s9yOYjCe6Ut5q9pNjX1\n",
       "x4M3wA+SgrjSt3qm/BF2zTLWATJuHLJ7IkfgqQiJdbHQT4nOO1ezAXMRAUulYMA7xuYKwZrSGLAC\n",
       "K4nW/tEEcVzPGhpgWNOkIPmyV4mhe/wu1JQ8wXhkm1q24TaBQZtSrgAAAKoBn7V0Q38AFQQu2wAI\n",
       "Isjkg+mtt9+OClPrHNrok6cvTAEANOdOp5A01CLFwUoReYALBQ7/1bTq/lJKukGqHr/gEKS6X1ZQ\n",
       "6hXl32lLSofDh+8WAoY9w+6Nl/S4020h/oqLkaYkCr6H2f13zLfz5+2KmdXGqPvfiXBt9EQPboc0\n",
       "zkL5E4+qT15nyCjjaysaUpt8/SSTyGuLWYpZwFoYHACQtSYVlH4LP1f/wQAAAKUBn7dqQ38AFPon\n",
       "RbAAgfmn/ZrzkR+ZGvrdLGtB66ocH9r2u1oThUfVJ2bkBRLCErT4ZHNU+qTJEGxSZUO2ylcSbYxd\n",
       "2hQKG2ugNE7FcmqrYkqsBghGNN34xvxYb0nsL/e6P1jOfnG12fapROl9dB39CsIoK/4Zbq0jbbUV\n",
       "XQQkTcd51Ax0yZf/5E/mSnTfsStwo8hrCF+2SeZwjwverSOaVq60WoEAAAGkQZu8SahBbJlMCCP/\n",
       "/rUqgAO6L73LSeKADNvfw+YbqpDTYP/dkotUCZLygZA2VJBE+X2cuI/r38LzGU+j4abr/r+05CGw\n",
       "bI0BGV/oBlm8SZoZDzdIErvcuji4pGfVfIeZq5zk4iEdulxF5bhvoH2aChMTFBm339SHpwvBA0kA\n",
       "xdUnInuKKALVPXvpUgNjkqrgkbSAVII5fTd8CrmmUkdbikNeHJy1Mvmd5DOqNCckirIReHDoOzXI\n",
       "ZoCIuONcNBimWHdamd5PFD6Nr9zlO/pUSGix7AiT463SVeNFWixYxuSEhcLEppTRrHEI9MEf/vAR\n",
       "Xp1qmOVVyy8zNujgNpTkQOi1VurL5qMf3bAhjcq+PW90X+ceqI8j9wpKbg15XgDfhPW5HKnZR2YD\n",
       "lKOhmuOTlRxpyCnmQ4TyyoX3DfcNaYPR0AWjnPaFcxYGHy/qbjwpq3lyIHDZmKMCTuCTY2xNKORV\n",
       "lg1tw1MhB9nhHuZ33WP7GqyVpK5/pb2m9XLACdyu2eZmwQJSTNxWa8du1u2SBSU7TDuaRzlPRGKD\n",
       "Ivmnd+p+00sgAAAA1EGf2kUVLDv/AA6DwAijoAHjJl95sS/manFBmiUS6LrlKRgZBz3B7E4PJK/n\n",
       "+AhGSt6qwKFO/pyNBb7l2rzXRg4WK1MJTU0SQaAeXDcWzPwDJRbZKpOJcHDs7Yq2wVuLZ02WqnJU\n",
       "0VDjZVKI0TzibefG+FrQXoqgtYcDO1US/KTB9FfP70/QOfWG+yx6HUsYqOHng7LICbLT88IZll1K\n",
       "jO+diEl//nSK0AsTjh6L+Cs/5/Pqcocu6qZBjyPaoZILr9Tolp194OgBPkuxoqA66XchTPJzAAAA\n",
       "sQGf+XRDfwAVBC7bAAgKLPZp4UE/fxmPv8XN8wx2WLUQk3S+wQUKLXO+MFaHMl8IeTpTTD120JQu\n",
       "9+hHR8hVveccEhTMXfWbiQgpa/+vLtEAP1fgD5vmiYHE8LIiFHhIyOqiTgVFRl8+d/aPBbf7X3gZ\n",
       "UXi2XHh71UcQlkCBV4NjbKfFMR38hNuEYPt8AeMnl9PzBPq0UouQly99c89HW1Sd/rz5zr1j79CC\n",
       "dB4MJpgIeAAAAKkBn/tqQ38AFQfyJRAB8eHzXX+NgF89+38D+rj/auIOyCHm6CFv03+xAQpMKLyC\n",
       "a8XwqHLhCQNv78f/CHmnEj3flNeXhETyYOYG4BhbfspxKebIF26Jse18Le7hz/gY3B3hpJ0MQeAl\n",
       "sNM8e/bGR3UFZw5naeXL7fv3BUSJ8EO6DQ3iw/anUC3h2DyswUXUmUnAIKTFlBa2NXPWNgx+pvCL\n",
       "fJNJ3piv5ZfBAAABtkGb4EmoQWyZTAgj//61KoAD0QJwgAiEwpVfOQ3FyFeSO5sfQ2ks6w9VEtQW\n",
       "bzELnzCf0qQbOCxqR6ikGf9XhG7G/8WtRnOT/TNfjs2e5p/hJT4k/8GG6Hf5fY63dTWElufF3vPT\n",
       "aoYE6CuyTsNwXlnUQSoLLGZbj91Gn9RU04b/Jx/CwSMOnVOqfdF22fBUfyf5H6dfWyVA+EJyTBO5\n",
       "OLTwNTlVoI0O1TEMozjp7OR0RDiyrfsVX+Z4qy8W84bj16fFifR8BGGPPTKF4tJyyQT/2bwBiJB7\n",
       "iYOS4M5iatHhtxpK/y/iuDKwYnJjjenp36s6wxyLZEbcwmYEoF0A6zoxtHqd+7xt3mvnTdHhBJIq\n",
       "ahA57AeTGN8Mkyc6psxPPpYhOrG1aYqXktPK0PRfRgGeNY7ep0LWxYP6ri3xjeIHfrBNSvl2yOPT\n",
       "1KOtf1mZ3E8gmsU0O8k1dWeAvjWFCtx4KeGUjp+6Bj+k0hXFmm35OBPamzccJJ2S6CEqLRXVx0xe\n",
       "8QKVH1o28Y1C5TREusdQBUxmu1KBlZDZLqYFs/oB1n9GWnGEwK3japMe1i7nTfPcWROT4QAAAOJB\n",
       "nh5FFSw7/wAO7oM0fUAGgcNQuxWjUvER/I0lbXuw4SdDxy0HhztlWVPw14yEjptwIuqCif/MtwGD\n",
       "yi41/HtI9gzgl3aTGFR5xul7ZoxFZWN/nVtvCj0Kbp2aZeEZ7mOZ5iVUAybAtXSTGLo5UK4G8TTF\n",
       "XO/iSyC41EA2aV7iMV9aFsNMnPGX7WMlOA3H/byPXKgsgV/f6YcHMsAeC8WHRCznaE19D9iVtVt2\n",
       "beG9sf+sEj4lF2Oegr54QXEPOeqssLJLM3ziqa2AD4bg9aaEWLHEK6EGuUdwVOiAhugrTO5AAAAA\n",
       "1gGePXRDfwAVmJAStp1ABm9GKmN3+EYtLRpymmhMRR25JA4GF7ezxuf/23JBIysuSSIHPTZllowP\n",
       "CdRbW3JkXIxP/cMvZh2w9gZm9A4sjD7JhZw2l14EazudbBbLGPyo2GRv83qlQVz/o6imoYgHdYMC\n",
       "iNu6YY9PQVzfcT5shdK8MPIwmzQ/bY/z7yJwiG/L/LoT22Cp7jjY9Mt/wMe87ruLUMu3qzlzIQfW\n",
       "cQZ6RCT8Lm4c2qLnh42lO6xoxog+v8mJV6LdS0qAO5aSEyUDQVY64frgFYAAAACzAZ4/akN/ABUF\n",
       "0bYAEEVx6Rv3acoWeQEXDkPigdd7bks8EC430c6wqG15kkzi8fMebRGhdSR/pbVSE/HPaLqSEdie\n",
       "9/VDrzxmI4gaWgEKX3L0WPuchJm+pFPDCSq3T1Ni9sMGe2qgTlJXLwr0RrU93Fhel4bmpKSyp8p8\n",
       "GdM88c1lk7bjHcQy/ITvLJiGKIoqn+DW2PiUWjaVS10YENrPDm8hN4ZH1FITLRfJDyNh01f2NdMA\n",
       "AAFmQZokSahBbJlMCCP//rUqgAO6goiYAB/kYuKPW7esShdgxghZQmvCBzqpZ/ZPpLjH4TG8rzan\n",
       "jKRO0hnmf0zMNyCHyLARtfG34uvqZGEErBiX2mzU0qeGcJpm4WuWxMHKlntmgHYanaLPOECFaSbc\n",
       "mWeNLY+P9VhiwrN5qsAdf+iXafY7vNmZfvH+/pp89dTBNPuGyI8fbwlwcMZ+N9m63yc2kohVV1Jd\n",
       "eTV1xKHw9JMgHAhUfJ7joZRyvO51PWq0GAbWmM55KOf/2MTS7A9y2+FHk1JrSB9l4NvtiKOsqcA8\n",
       "wHSLUggbzNPF3cPMxU22AMwKQwbGjRaj1YiQR4Q/xbyZ2m9MePBMxOBqrJ6+9QnhpqAvE2fHiIJP\n",
       "WeArpTfCnmSreLeHPXMlCR2dtY7cdYisqGGlhAIM1ihnk7k80++QWj/vn92JSkJpCbyr5neuL+ME\n",
       "sza85W9OHa4UPh4AOV7V87B9QAAAAL5BnkJFFSw7/wAOg12enDCoAGksooVlkXrQQIlDcrnITq5+\n",
       "y7/ERoG/5qNjnATva3sfVjWB/ba+bScT7s+hQqFkLajTtpAsPIYWwoC3aMIFNFUSvZ6KpZykJwE/\n",
       "N0BJUeyPerdZ+mGzeVrlIJ0rQHEraolLIrBbsqry5L2RR1MWoyM7lRu288opt/YWto/6rmO5qtfR\n",
       "O/3CDPoRrLuv1Qvnp7PZcWB6AEIfa30nzZlk04vqPmcGyJgKHBfERQtxAAAAjwGeYXRDfwAU3kr6\n",
       "W2ABAq1RLFWyuY+zsA7EgffMrHp59a0P9chgRH1+bWeovSXX3c8NqRCApidm08rTZtx13ERibSEq\n",
       "Tp4BRI3SAN45NzTXUfCi1Vlwbh2ADNg88B8AXQE9+Yz/a4WiOv8guOkLFHihg0tK6Q7PAp13lvhr\n",
       "UhfwKR78Q/C8UvLIBpo8yBHwAAAAjwGeY2pDfwAU5jV8fQAB/dyNPrzynlzeIJkDtSHgri3051rO\n",
       "Nq8q4W5UOdL02RgvrlHLKZO3jaKTy8S/RMFqMA0GR5+iktxloe69SUS3RKxfeM/N08fxE0IpKclY\n",
       "99fyrE33GUmv1WsgN00Tye//VbY3OnvRbWSLSg/a7jhzVav2IkhZLkjgpHseohLnskHjAAABiEGa\n",
       "aEmoQWyZTAgj//61KoAD0QJwgAiExi4ufshL43QlhHWWdP9ZSeJmRquP4sdMDL29LNTz/HlgQ6AT\n",
       "Zt/sJ3fYKcWwS5df244P42ZOjLaDfcL+BHWrW4h3Po7f76WOsTRSMnArb9EQzXI75vhcg88z9BiW\n",
       "QOU/4zx7fxrLBqFvmc5HzJpOCzv3VL7aRRqN+g2Cu42avHdjP4jENioUeERtG0TrDyntFY6f+aL+\n",
       "WKoUm2PoSFUy0LdR30+wSTDuGexyFshPjEPmbt1NbynJyMtP29TUegJInqPnpnh3/zyVOokcPq7S\n",
       "XnwWVTVa6grqPId8u971IA0RSseGhKxxnzybJ0zA59GR7ivii/39QPqkHOB6YZNWTP1XOxWlT/08\n",
       "mFdIV/7nmN802Snyq/fre+QX49EwrhgYHnoaglQsRaSHtcq9RyeQqUIyClB6YOXuhJFR0vjFA2tl\n",
       "YqTM0WYfAU512sGa2xus0A/ouF4KlFT3fJwjxJu6QDwrhpQkoxLjV0QZlML1ylSBAAAAtkGehkUV\n",
       "LDv/AA7v9nK5TgAA/rLFhSx+2VOyARbDXHIFIfBemz5M181g5Bh7PxWMqsU9/Jpv5K2qJeBmOdnH\n",
       "TNDOXgqLz7rckor8jcARmr8lVqQ1/QqDIx2tQTmfTJ7I9e27d9gpwVPf4nFwwGaPy2sURCBleuvH\n",
       "/QMthtpZzfOrUQGQvfKzkKyTwqLKuAZW9ydO3P+ACdFURnmTeH4fvurcqu294wYJ7CL3o3gTxisQ\n",
       "NsQbwqmhAAAArgGepXRDfwAVCTgXgBA1Wa9vWfeXwUUIQ0QLQ9hTp2Bxk6YXCOZUDy2c1cOBCA68\n",
       "MXaKkYEqsh85R8+RIrfWuQrj62SFSocZGKIZDnuQOQkehp7kgVxKEK8KDK9yby20O6oxwx8HMblJ\n",
       "pKSH88g282TEzPRuxOyfh0W9QuIIbrjEghLLLnytm11RyMjUj3pBbAs12yKnsUZvyEV6TYlV4IZW\n",
       "ssLZRJBVJvZqrX6hCQAAAKIBnqdqQ38AFZeaRxCbh9ABsAMlJd6p2RhJ+/diAD67P9jLcA4ZeVtZ\n",
       "a7Z4S10Z/V40RWHuuXzWkOUOvd1CAvzwLu6DVC5vN95nPAiEF2LD5ptaW6UeXAxl7PZEMfIQpzYE\n",
       "YttW+s7ipHJEesQodQKMQVzr0HqY0o2kvRpDt+jqNGV2dNXTJEPVEM33JzJd7L+UUasix23mkTo8\n",
       "U9TdD6CBTNIAAAFcQZqsSahBbJlMCCH//qpVAAdz1EDWjCAD3yIrbbxCmkcIstQD9QEPVclkPXf5\n",
       "LDzzq3Q7QxxLt7Y0lAKkQ4sdH7tx9oDXndfNXXxu9aDEfVQDtMyq6Og2tYYuP1NppcL6o0/f7rAr\n",
       "v7PD+ieNOs8XgN004RxhT0bB/9nUtSzcK4H7VsuYPOS1ioGDuh6Wrcs83u/DTTDTtDs/6FmZE4iD\n",
       "RVGGzc4uOzod6fIIcB0dcT5QdrNxsLdyPe+HiiHzGRruDTzNNuVPcryj6eDB2bOBzQMRZsXPoamw\n",
       "jxLRfjrEt2zBkbvjqdkmFK5JCM1M1k+EmUp2ZrqySWfvGkU++Jj1xh1c43DZ8tjYtWrJDXQm9sqO\n",
       "yiW64piQHe7k8a2O8vFWLgfQBacTHqKaNkMOmWRZGUjhQahkuFA/6g/4O5IBPRt8OusjRgPVueg6\n",
       "8a6xXFwbtUBIuQb9WBdJNLTwAAAAukGeykUVLDv/AA6C3R8WQACTkwU8kAPLYhEoPFB/2hs6zl1i\n",
       "EXr1suH4U4Fcvht4n+pEv3bbWhSEV8W31ZcA7St7MqVcJp+sU11p7KdJ4kLs7FdFqf5SHUQQ7Vb5\n",
       "HY61Ty1yhGYNAa1lvPGYZQcf8wvPQJJnTz2ETL1AyeM/Il16F8k8wiRB6ZrRdCWkc7CWGFLE8ryu\n",
       "btvl98NllpTw1mLoeshbwafak9WAYmqeCjpmicd8Bb2UxSaTaQAAAJoBnul0Q38AFQQu2wAISTqo\n",
       "w37o2qOWKhlVFY9yKl4kv4Dbpw1RQP4YiMe2iiRdofcQk5LyVe+IpOA+sOVWNWrCSXwAViBq+QPz\n",
       "Zlk2OItTELExTPEk80ybB5W7xzUc7fG/neuf85J36S/PEpn6mlF2pNB1AO8YUgvOxUgMq6gFn2JK\n",
       "hbfx+bJRoL/GvPIC7UvhuDoMNIrOaFxgAAAAmQGe62pDfwAU+idFsACECeV6YZyTUXQPlZI+j8G/\n",
       "thGQIpMW+EEt1My/XxT3/9bnA8j2ENYWM0acmpAfq91/fLQPAf/SRg+8lHmx+RNy/y4v0kOOi+ec\n",
       "zLhoxPo8IXkF/uzsoKijSTpB4WMZu4C7f14OZlUQRyzT2eW/LZkVMXwr8FPA/XYqmM8FDlNDlm6u\n",
       "Be9T/lmCXxIdgAAAAOZBmvBJqEFsmUwIf//+qZYAHSbERaAAP6aDrnrLBXRHTGHFu9omFiyFLien\n",
       "qj62sh4wJucgZmtcVQFlByVgF9WZzTA21L2r4i0KN4ESsfXT7BnOnKBI1LdWuofAdE1+gagg76TF\n",
       "k2JmoXPtMY8mlXw1pRcJadv4IAjzPHOJN+1KwKCA+wUuvP6naYBAwEwtA8qmmp42b7XSxBJkV+xL\n",
       "vlIKmgTUpkR2vDqKux7vab8/yggXDD1riRzSieE4ld+Em/qpdfdS4bmBP25247zGfSPiZrh7s39z\n",
       "7BaatZFTEwR0m7m6S9MGyQAAAMxBnw5FFSw7/wAOYdasM9bMAJRny/9MOcib1saHScrcgWeRx0+Q\n",
       "7ImT/EX//7M4EJP3ksEqKAJ3ZgCDGwgh9jE5h9lSIMYYK2soq9CqKTA+d+0afzLgsw2rzw1QG4CM\n",
       "y55dKLBy66RoHvuQu/wp2n7fhDAGzvJ9qvfXIH7EHJm3TwYSXF5pjufCWpdm92hJJciVewnWAwa5\n",
       "sC5Xhag1YdnBNCEwOgZHuW87DZnxDDDZQFiFoWGGDXMKslCOfROQ5ysZjhKCwt9tXSdf0fEAAAC3\n",
       "AZ8tdEN/ABT8Xcj6ADVsK89chzBgdS1wMVCFgaveVfgNGTLVUohhMEJ8xwsBnJtNxGQOxI9eE+AK\n",
       "9qiArjckq5VD9iYRpkFpD37KsBLCvQhrDNYRNHrZ/DvyLvrmcCcThUtCsqKc2GACpOFleVTIfq0Q\n",
       "ovdKz5OBGP7H4MIVf5Gx8dyKSjQ0GXQYkdhauNCwGWV3RT34sZwgkZgNCoU+2c5uYN41YEcMcO38\n",
       "pfC2IE+Bv41l+EOBAAAArwGfL2pDfwAVB/IlEAHx3MOxP2EnqjXKncYZ5R02Se9iEdolJGkC5naD\n",
       "8I8ma4oO+keqBgYlhaH5dW/gvPAQN3gGXJEWgBVIaRgnCH8zrISLRowaVnJp0bDl0ShZb0KPu+ZU\n",
       "l/O9Be5oR15yLiMk7VF6c39GpZ8heIWfW8zPx3E9D70UAx2UWY1pzDVE+T83S2XI9MtBZ8iJVF9G\n",
       "BiUi5qU33LDVf3D3tEht2j5rkxQAAACyQZsySahBbJlMFEw3//6nhAA7RN5IAPzkY1TRC+a56NpZ\n",
       "m+aTgdLtysTJU1N5lKzBmecUKNg9YQXd3fwgk6InmzEC6zRfFF7833ErKVEMhOGeCJZ5p7T1S/uP\n",
       "bQNGQTD6TefIdb/wteq4Q3e3d74Vkhaed4i/CcJSv8QWhNkLI2f+6tj1qunO1Ro2uU561GNd5Eza\n",
       "LvRmqeI5u/fjiy7sc7otktEoY6dSglT8df0aY8NPRAAAAKoBn1FqQ38AFZeWI3sv8ACD4JjH+ddm\n",
       "PLY5gjy10DfKiOBGy+a87u01+CurnBRk/2vwWrGgkoWg+Y32xLgP9U6STk1m3aLFMm9biAN5iF9y\n",
       "JCWmqtdVbfhsG6J/5GfUM3gF+t7nSNJs9W7+xS2iK5IZvJQTwngjhSzci0o0niaqFRrJO9VYndLg\n",
       "EXFWy4UElIZ1616xwFVj2tlUHXfkvmzjEo0bWPpLK1Ii0QAABZJtb292AAAAbG12aGQAAAAAAAAA\n",
       "AAAAAAAAAAPoAAAT7AABAAABAAAAAAAAAAAAAAAAAQAAAAAAAAAAAAAAAAAAAAEAAAAAAAAAAAAA\n",
       "AAAAAEAAAAAAAAAAAAAAAAAAAAAAAAAAAAAAAAAAAAAAAAACAAAEvHRyYWsAAABcdGtoZAAAAAMA\n",
       "AAAAAAAAAAAAAAEAAAAAAAAT7AAAAAAAAAAAAAAAAAAAAAAAAQAAAAAAAAAAAAAAAAAAAAEAAAAA\n",
       "AAAAAAAAAAAAAEAAAAACQAAAASAAAAAAACRlZHRzAAAAHGVsc3QAAAAAAAAAAQAAE+wAAAgAAAEA\n",
       "AAAABDRtZGlhAAAAIG1kaGQAAAAAAAAAAAAAAAAAACgAAADMAFXEAAAAAAAtaGRscgAAAAAAAAAA\n",
       "dmlkZQAAAAAAAAAAAAAAAFZpZGVvSGFuZGxlcgAAAAPfbWluZgAAABR2bWhkAAAAAQAAAAAAAAAA\n",
       "AAAAJGRpbmYAAAAcZHJlZgAAAAAAAAABAAAADHVybCAAAAABAAADn3N0YmwAAACzc3RzZAAAAAAA\n",
       "AAABAAAAo2F2YzEAAAAAAAAAAQAAAAAAAAAAAAAAAAAAAAACQAEgAEgAAABIAAAAAAAAAAEAAAAA\n",
       "AAAAAAAAAAAAAAAAAAAAAAAAAAAAAAAAAAAAAAAY//8AAAAxYXZjQwFkABX/4QAYZ2QAFazZQJAl\n",
       "oQAAAwABAAADABQPFi2WAQAGaOvjyyLAAAAAHHV1aWRraEDyXyRPxbo5pRvPAyPzAAAAAAAAABhz\n",
       "dHRzAAAAAAAAAAEAAAAzAAAEAAAAABRzdHNzAAAAAAAAAAEAAAABAAABqGN0dHMAAAAAAAAAMwAA\n",
       "AAEAAAgAAAAAAQAAFAAAAAABAAAIAAAAAAEAAAAAAAAAAQAABAAAAAABAAAUAAAAAAEAAAgAAAAA\n",
       "AQAAAAAAAAABAAAEAAAAAAEAABQAAAAAAQAACAAAAAABAAAAAAAAAAEAAAQAAAAAAQAAFAAAAAAB\n",
       "AAAIAAAAAAEAAAAAAAAAAQAABAAAAAABAAAUAAAAAAEAAAgAAAAAAQAAAAAAAAABAAAEAAAAAAEA\n",
       "ABQAAAAAAQAACAAAAAABAAAAAAAAAAEAAAQAAAAAAQAAFAAAAAABAAAIAAAAAAEAAAAAAAAAAQAA\n",
       "BAAAAAABAAAUAAAAAAEAAAgAAAAAAQAAAAAAAAABAAAEAAAAAAEAABQAAAAAAQAACAAAAAABAAAA\n",
       "AAAAAAEAAAQAAAAAAQAAFAAAAAABAAAIAAAAAAEAAAAAAAAAAQAABAAAAAABAAAUAAAAAAEAAAgA\n",
       "AAAAAQAAAAAAAAABAAAEAAAAAAEAABQAAAAAAQAACAAAAAABAAAAAAAAAAEAAAQAAAAAAQAADAAA\n",
       "AAABAAAEAAAAABxzdHNjAAAAAAAAAAEAAAABAAAAMwAAAAEAAADgc3RzegAAAAAAAAAAAAAAMwAA\n",
       "EggAAAMdAAAA/AAAAKMAAACbAAACHQAAANsAAACfAAAAtAAAAtcAAADYAAAAtwAAAKYAAAHxAAAA\n",
       "1QAAAKQAAACsAAACCgAAAMwAAACiAAAArwAAAZUAAADfAAAArgAAAKkAAAGoAAAA2AAAALUAAACt\n",
       "AAABugAAAOYAAADaAAAAtwAAAWoAAADCAAAAkwAAAJMAAAGMAAAAugAAALIAAACmAAABYAAAAL4A\n",
       "AACeAAAAnQAAAOoAAADQAAAAuwAAALMAAAC2AAAArgAAABRzdGNvAAAAAAAAAAEAAAAsAAAAYnVk\n",
       "dGEAAABabWV0YQAAAAAAAAAhaGRscgAAAAAAAAAAbWRpcmFwcGwAAAAAAAAAAAAAAAAtaWxzdAAA\n",
       "ACWpdG9vAAAAHWRhdGEAAAABAAAAAExhdmY1Ny44My4xMDA=\n",
       "\">\n",
       "  Your browser does not support the video tag.\n",
       "</video>"
      ],
      "text/plain": [
       "<matplotlib.animation.FuncAnimation at 0x7f981b585ef0>"
      ]
     },
     "execution_count": 185,
     "metadata": {},
     "output_type": "execute_result"
    }
   ],
   "source": [
    "fig, ax = plt.subplots(figsize=(8,4))\n",
    "line, = ax.plot([], [])\n",
    "time_text = ax.text(0.75, 0.9, '', transform=ax.transAxes)\n",
    "\n",
    "u = init(U, T, x)\n",
    "animation.FuncAnimation(fig, animate, frames=len(T), \n",
    "                        interval=100, blit=True, fargs=(u, rod.c, T))"
   ]
  },
  {
   "cell_type": "markdown",
   "metadata": {},
   "source": [
    "# Soliton profiles (GE-)"
   ]
  },
  {
   "cell_type": "markdown",
   "metadata": {},
   "source": [
    "## Small amplitude"
   ]
  },
  {
   "cell_type": "code",
   "execution_count": 38,
   "metadata": {},
   "outputs": [],
   "source": [
    "direct = 'simulation_samples/FullEqn_table_top_mat1_A-0.01/'"
   ]
  },
  {
   "cell_type": "code",
   "execution_count": 39,
   "metadata": {},
   "outputs": [
    {
     "data": {
      "text/plain": [
       "<Figure size 432x288 with 0 Axes>"
      ]
     },
     "metadata": {},
     "output_type": "display_data"
    }
   ],
   "source": [
    "%run -i 'simulation_samples/FullEqn_table_top_mat1_A-0.01/data.py'"
   ]
  },
  {
   "cell_type": "code",
   "execution_count": 40,
   "metadata": {},
   "outputs": [],
   "source": [
    "mesh_grid = np.load(direct + 'mesh_grid.npy', allow_pickle=True)\n",
    "L = mesh_grid[0][-1]\n",
    "R = mesh_grid[1][0]\n",
    "T1 = np.load(direct + 'time.npy')\n",
    "#E = np.load(direct + 'energy.npy')\n",
    "U_func = np.load(direct + 'displacement.npy')\n",
    "\n",
    "x = np.linspace(0, L, 300)\n",
    "U1 = TensorField(mesh, U_func)\n",
    "A0 = -0.01\n",
    "l = 50"
   ]
  },
  {
   "cell_type": "code",
   "execution_count": 41,
   "metadata": {},
   "outputs": [
    {
     "data": {
      "text/plain": [
       "0.0052482420096653755"
      ]
     },
     "execution_count": 41,
     "metadata": {},
     "output_type": "execute_result"
    }
   ],
   "source": [
    "y = U1[-1, 0].diff(0)(x, 0, 0)\n",
    "A1 = np.max(np.abs(y))*(2*np.int(np.abs(np.max(y)) > np.abs(np.min(y))) - 1)\n",
    "\n",
    "y = U1[0, 0].diff(0)(x, 0, 0)\n",
    "A10 = np.max(np.abs(y))*(2*np.int(np.abs(np.max(y)) > np.abs(np.min(y))) - 1)\n",
    "eps = np.abs(A10)\n",
    "eps"
   ]
  },
  {
   "cell_type": "code",
   "execution_count": 45,
   "metadata": {},
   "outputs": [
    {
     "data": {
      "image/png": "[encoded data removed]",
      "text/plain": [
       "<Figure size 216x288 with 1 Axes>"
      ]
     },
     "metadata": {
      "needs_background": "light"
     },
     "output_type": "display_data"
    }
   ],
   "source": [
    "x = np.linspace(150, 450, 301)\n",
    "fig = plt.figure(figsize=(3,4))\n",
    "plt.subplots_adjust(left=0.14, right=0.96, top=.99, bottom=0.12)\n",
    "ax = plt.axes()\n",
    "ax.set_xlabel(r'$\\xi$')\n",
    "ax.set_ylabel(r'$\\tau$', rotation=0)\n",
    "sc = 1\n",
    "v = rod.sol_gardner_params(A0)[2]\n",
    "t_sc = eps*rod.c/l\n",
    "for i in range(0, int(len(T1)/1.7), int(len(T1)/10-1)):\n",
    "    u = U1[i, 0].diff(0)(x + rod.c*T1[i], 0, 0)/np.abs(A10)\n",
    "    u0 = U1[0, 0].diff(0)(x - v*T1[i], 0, 0)/np.abs(A10)\n",
    "    u_kdv = rod.sol_kdv_strain(A10, x - rod.L/2, T1[i])/np.abs(A10)\n",
    "    ax.plot(x/l, np.ones_like(x)*T1[i]*t_sc + u0*sc, '--', color='orangered')\n",
    "    ax.plot(x/l, np.ones_like(x)*T1[i]*t_sc + u_kdv*sc, ':', color='darkgreen')\n",
    "    ax.plot(x/l, np.ones_like(x)*T1[i]*t_sc + u*sc, color='darkblue')\n",
    "#ax.legend(['eKdV', 'Full equations'], loc=2)\n",
    "rect = matplotlib.patches.Rectangle((x[-1] + 20, -sc), 10, sc, \n",
    "                                    color='darkblue',clip_on=False)\n",
    "#ax.add_patch(rect)\n",
    "#ax.text(640, -1.1*sc, str(A10)[:6])\n",
    "#ax.text(640, -0.25*sc, '0.0')\n",
    "#ax.minorticks_on()\n",
    "fig.savefig(module_path + '/figures/' + 'sol_evol1.pdf')"
   ]
  },
  {
   "cell_type": "markdown",
   "metadata": {},
   "source": [
    "## Medium amplitude"
   ]
  },
  {
   "cell_type": "code",
   "execution_count": 17,
   "metadata": {},
   "outputs": [],
   "source": [
    "direct = 'simulation_samples/FullEqn_table_top_mat1_A-0.04/'"
   ]
  },
  {
   "cell_type": "code",
   "execution_count": 18,
   "metadata": {},
   "outputs": [],
   "source": [
    "%run -i 'simulation_samples/FullEqn_table_top_mat1_A-0.04/data.py'"
   ]
  },
  {
   "cell_type": "code",
   "execution_count": 19,
   "metadata": {},
   "outputs": [],
   "source": [
    "mesh_grid = np.load(direct + 'mesh_grid.npy', allow_pickle=True)\n",
    "L = mesh_grid[0][-1]\n",
    "R = mesh_grid[1][0]\n",
    "T2 = np.load(direct + 'time.npy')\n",
    "#E = np.load(direct + 'energy.npy')\n",
    "U_func = np.load(direct + 'displacement.npy')\n",
    "\n",
    "x = np.linspace(0, L, 300)\n",
    "U2 = TensorField(mesh, U_func)\n",
    "A0 = -0.04\n",
    "l = 30"
   ]
  },
  {
   "cell_type": "code",
   "execution_count": 20,
   "metadata": {},
   "outputs": [
    {
     "data": {
      "text/plain": [
       "0.02725024549297458"
      ]
     },
     "execution_count": 20,
     "metadata": {},
     "output_type": "execute_result"
    }
   ],
   "source": [
    "y = U2[-1, 0].diff(0)(x, 0, 0)\n",
    "A2 = np.max(np.abs(y))*(2*np.int(np.abs(np.max(y)) > np.abs(np.min(y))) - 1)\n",
    "\n",
    "y = U2[0, 0].diff(0)(x, 0, 0)\n",
    "A20 = np.max(np.abs(y))*(2*np.int(np.abs(np.max(y)) > np.abs(np.min(y))) - 1)\n",
    "eps = np.abs(A20)\n",
    "eps"
   ]
  },
  {
   "cell_type": "code",
   "execution_count": 37,
   "metadata": {},
   "outputs": [
    {
     "data": {
      "image/png": "[encoded data removed]",
      "text/plain": [
       "<Figure size 180x288 with 1 Axes>"
      ]
     },
     "metadata": {
      "needs_background": "light"
     },
     "output_type": "display_data"
    }
   ],
   "source": [
    "x = np.linspace(150, 450, 301)\n",
    "fig = plt.figure(figsize=(2.5,4))\n",
    "plt.subplots_adjust(left=0.11, right=0.97, top=.99, bottom=0.12)\n",
    "ax = plt.axes()\n",
    "ax.set_xlabel(r'$\\xi$')\n",
    "#ax.set_ylabel('t, ms')\n",
    "sc = 1.4\n",
    "v = rod.sol_gardner_params(A0)[2]\n",
    "t_sc = eps*rod.c/l\n",
    "for i in range(0, len(T2), int(len(T2)/5-2)):\n",
    "    u = U2[i, 0].diff(0)(x + rod.c*T2[i], 0, 0)/np.abs(A20)\n",
    "    u0 = U2[0, 0].diff(0)(x - v*T2[i], 0, 0)/np.abs(A20)\n",
    "    u_kdv = rod.sol_kdv_strain(A20, x - rod.L/2, T2[i])/np.abs(A20)\n",
    "    ax.plot(x/l, np.ones_like(x)*T2[i]*t_sc + u0*sc, '--', color='orangered')\n",
    "    ax.plot(x/l, np.ones_like(x)*T2[i]*t_sc + u_kdv*sc, ':', color='darkgreen')\n",
    "    ax.plot(x/l, np.ones_like(x)*T2[i]*t_sc + u*sc, color='darkblue')\n",
    "#ax.legend(['eKdV', 'Full equations'], loc=2)\n",
    "rect = matplotlib.patches.Rectangle((x[-1] + 10, -sc), 5, sc, \n",
    "                                    color='darkblue',clip_on=False)\n",
    "#ax.add_patch(rect)\n",
    "#ax.text(472, -1.2*sc, str(A20)[:6])\n",
    "#ax.text(472, -0.2*sc, '0.0')\n",
    "#ax.minorticks_on()\n",
    "fig.savefig(module_path + '/figures/' + 'sol_evol2.pdf')"
   ]
  },
  {
   "cell_type": "markdown",
   "metadata": {},
   "source": [
    "## Set of figures for animation"
   ]
  },
  {
   "cell_type": "code",
   "execution_count": 13,
   "metadata": {},
   "outputs": [
    {
     "data": {
      "image/png": "[encoded data removed]",
      "text/plain": [
       "<Figure size 360x108 with 1 Axes>"
      ]
     },
     "metadata": {
      "needs_background": "light"
     },
     "output_type": "display_data"
    }
   ],
   "source": [
    "fig = plt.figure(figsize=(5,1.5))\n",
    "plt.subplots_adjust(left=0.14, right=0.99, top=.8, bottom=0.29)\n",
    "ax = plt.axes()\n",
    "\n",
    "for i in range(0, len(T2), 1):\n",
    "    u = U2[i, 0].diff(0)(x + rod.c*T2[i], 0, 0)\n",
    "    u0 = U2[0, 0].diff(0)(x - v*T2[i], 0, 0)\n",
    "    u_kdv = rod.sol_kdv_strain(A20, x - rod.L/2, T2[i])\n",
    "    ax.plot(x, u0, '--', color='orangered')\n",
    "    ax.plot(x, u_kdv, ':', color='darkgreen')\n",
    "    ax.plot(x, u, color='darkblue')\n",
    "    ax.set_xlabel(r'$\\xi$, mm')\n",
    "    ax.set_ylabel('u', rotation=0)\n",
    "    ax.set_ylim([-1.4*np.abs(A20), 0.2*np.abs(A20)])\n",
    "    ax.text(0.1, 0.15, 'time = %.2f ms' % (T2[i]/1000), transform=ax.transAxes)    \n",
    "    ax.legend(['eKdV', 'KdV', 'Full equations'], ncol=3, bbox_to_anchor=(0.07, 0.97))\n",
    "    fig.savefig(module_path + '/figures/medium_ampl_anim/p' + str(i) + '.pdf')\n",
    "    plt.cla()"
   ]
  },
  {
   "cell_type": "markdown",
   "metadata": {},
   "source": [
    "## Large amplitude (close to critical)"
   ]
  },
  {
   "cell_type": "code",
   "execution_count": 46,
   "metadata": {},
   "outputs": [],
   "source": [
    "direct = 'simulation_samples/FullEqn_table_top_mat1_A-0.0499/'"
   ]
  },
  {
   "cell_type": "code",
   "execution_count": 47,
   "metadata": {},
   "outputs": [
    {
     "data": {
      "text/plain": [
       "<Figure size 432x288 with 0 Axes>"
      ]
     },
     "metadata": {},
     "output_type": "display_data"
    }
   ],
   "source": [
    "%run -i 'simulation_samples/FullEqn_table_top_mat1_A-0.0499/data.py'"
   ]
  },
  {
   "cell_type": "code",
   "execution_count": 48,
   "metadata": {},
   "outputs": [],
   "source": [
    "mesh_grid = np.load(direct + 'mesh_grid.npy', allow_pickle=True)\n",
    "L = mesh_grid[0][-1]\n",
    "R = mesh_grid[1][0]\n",
    "T3 = np.load(direct + 'time.npy')\n",
    "#E = np.load(direct + 'energy.npy')\n",
    "U_func = np.load(direct + 'displacement.npy')\n",
    "\n",
    "x = np.linspace(0, L, 300)\n",
    "U3 = TensorField(mesh, U_func)\n",
    "A0 = -0.0499\n",
    "l = 30"
   ]
  },
  {
   "cell_type": "code",
   "execution_count": 49,
   "metadata": {},
   "outputs": [
    {
     "data": {
      "text/plain": [
       "0.047846029515759246"
      ]
     },
     "execution_count": 49,
     "metadata": {},
     "output_type": "execute_result"
    }
   ],
   "source": [
    "y = U3[-1, 0].diff(0)(x, 0, 0)\n",
    "A3 = np.max(np.abs(y))*(2*np.int(np.abs(np.max(y)) > np.abs(np.min(y))) - 1)\n",
    "A3\n",
    "\n",
    "y = U3[0, 0].diff(0)(x, 0, 0)\n",
    "A30 = np.max(np.abs(y))*(2*np.int(np.abs(np.max(y)) > np.abs(np.min(y))) - 1)\n",
    "eps = np.abs(A30)\n",
    "eps"
   ]
  },
  {
   "cell_type": "code",
   "execution_count": 73,
   "metadata": {},
   "outputs": [
    {
     "data": {
      "image/png": "[encoded data removed]",
      "text/plain": [
       "<Figure size 288x288 with 1 Axes>"
      ]
     },
     "metadata": {
      "needs_background": "light"
     },
     "output_type": "display_data"
    }
   ],
   "source": [
    "x = np.linspace(150, 450, 601)\n",
    "fig = plt.figure(figsize=(4,4))\n",
    "plt.subplots_adjust(left=0.12, right=0.68, top=.99, bottom=0.13)\n",
    "ax = plt.axes()\n",
    "ax.set_xlabel(r'$\\xi$')\n",
    "ax.set_ylabel(r'$\\tau$', rotation=0)\n",
    "sc = 1.3\n",
    "v = rod.sol_gardner_params(A0)[2]\n",
    "t_sc = eps*rod.c/l\n",
    "for i in range(0, int(len(T3)/1.3), int(len(T3)/6-2)):\n",
    "    u = U3[i, 0].diff(0)(x + rod.c*T3[i], 0, 0)/np.abs(A30)\n",
    "    u0 = U3[0, 0].diff(0)(x - v*T3[i], 0, 0)/np.abs(A30)\n",
    "    u_kdv = rod.sol_kdv_strain(A30, x - rod.L/2, T3[i])/np.abs(A30)\n",
    "    ax.plot(x/l, np.ones_like(x)*T3[i]*t_sc + u0*sc, '--', color='orangered')\n",
    "    ax.plot(x/l, np.ones_like(x)*T3[i]*t_sc + u_kdv*sc, ':', color='darkgreen')\n",
    "    ax.plot(x/l, np.ones_like(x)*T3[i]*t_sc + u*sc, color='darkblue')\n",
    "ax.legend(['eKdV', 'KdV', 'Full eqn\\'s'], bbox_to_anchor=(1.0, 0.8))\n",
    "#ax.legend(['eKdV', 'Full equations'], loc=2)\n",
    "rect = matplotlib.patches.Rectangle((x[-1] + 10, -sc), 5, sc, \n",
    "                                    color='darkblue',clip_on=False)\n",
    "#ax.add_patch(rect)\n",
    "#ax.text(472, -1.3, str(A30)[:6])\n",
    "#ax.text(472, -0.2, '0.0')\n",
    "#ax.minorticks_on()\n",
    "fig.savefig(module_path + '/figures/' + 'sol_evol3_legend.pdf')"
   ]
  },
  {
   "cell_type": "markdown",
   "metadata": {},
   "source": [
    "## Set of figures for animation"
   ]
  },
  {
   "cell_type": "code",
   "execution_count": 17,
   "metadata": {},
   "outputs": [
    {
     "data": {
      "image/png": "[encoded data removed]",
      "text/plain": [
       "<Figure size 360x108 with 1 Axes>"
      ]
     },
     "metadata": {
      "needs_background": "light"
     },
     "output_type": "display_data"
    }
   ],
   "source": [
    "fig = plt.figure(figsize=(5,1.5))\n",
    "plt.subplots_adjust(left=0.14, right=0.99, top=.8, bottom=0.29)\n",
    "ax = plt.axes()\n",
    "\n",
    "for i in range(0, len(T3), 1):\n",
    "    u = U3[i, 0].diff(0)(x + rod.c*T3[i], 0, 0)\n",
    "    u0 = U3[0, 0].diff(0)(x - v*T3[i], 0, 0)\n",
    "    u_kdv = rod.sol_kdv_strain(A30, x - rod.L/2, T3[i])\n",
    "    ax.plot(x, u0, '--', color='orangered')\n",
    "    ax.plot(x, u_kdv, ':', color='darkgreen')\n",
    "    ax.plot(x, u, color='darkblue')\n",
    "    ax.set_xlabel(r'$\\xi$, mm')\n",
    "    ax.set_ylabel('u', rotation=0)\n",
    "    ax.set_ylim([-1.4*np.abs(A30), 0.2*np.abs(A30)])\n",
    "    ax.text(0.1, 0.15, 'time = %.2f ms' % (T3[i]/1000), transform=ax.transAxes)    \n",
    "    ax.legend(['eKdV', 'KdV', 'Full equations'], ncol=3, bbox_to_anchor=(0.07, 0.97))\n",
    "    fig.savefig(module_path + '/figures/table_top_anim/p' + str(i) + '.pdf')\n",
    "    plt.cla()"
   ]
  },
  {
   "cell_type": "markdown",
   "metadata": {},
   "source": [
    "## All together"
   ]
  },
  {
   "cell_type": "code",
   "execution_count": 596,
   "metadata": {},
   "outputs": [
    {
     "data": {
      "image/png": "[encoded data removed]",
      "text/plain": [
       "<matplotlib.figure.Figure at 0x7f15ee4f9e48>"
      ]
     },
     "metadata": {},
     "output_type": "display_data"
    }
   ],
   "source": [
    "fig, ax = plt.subplots(1, 3, figsize=(9,2.5))\n",
    "ax[0].set_ylabel('$t, ms$')\n",
    "x = np.linspace(150, 450, 201)\n",
    "\n",
    "# 3\n",
    "sc = 1.2\n",
    "v = rod.sol_gardner_params(-0.0499)[2]\n",
    "for i in range(0, len(U3), int(len(U3)/3-1)):\n",
    "    u = U3[i, 0].diff(0)(x + rod.c*T3[i], 0, 0)/np.abs(A30)\n",
    "    u0 = U3[0, 0].diff(0)(x - v*T3[i], 0, 0)/np.abs(A30)\n",
    "    ax[2].plot(x, np.ones_like(x)*T3[i]/1000 + u0*sc, ':', color='orangered')\n",
    "    ax[2].plot(x, np.ones_like(x)*T3[i]/1000 + u*sc, color='darkblue')\n",
    "rect = matplotlib.patches.Rectangle((x[-1] + 10, -sc), 5, sc, \n",
    "                                    color='darkblue',clip_on=False)\n",
    "ax[2].legend(['eKdV', 'Full eq\\'s'], bbox_to_anchor=(1.0, 0.8))\n",
    "ax[2].add_patch(rect)\n",
    "ax[2].set_xlabel(r'$\\xi, mm$')\n",
    "ax[2].text(472, -1.3, str(A30)[:6])\n",
    "ax[2].text(472, -0.3, '0.0')\n",
    "\n",
    "# 2\n",
    "sc = 1.2\n",
    "v = rod.sol_gardner_params(-0.04)[2]\n",
    "for i in range(0, len(U2), int(len(U2)/3-1)):\n",
    "    u = U2[i, 0].diff(0)(x + rod.c*T2[i], 0, 0)/np.abs(A20)\n",
    "    u0 = U2[0, 0].diff(0)(x - v*T2[i], 0, 0)/np.abs(A20)\n",
    "    ax[1].plot(x, np.ones_like(x)*T2[i]/1000 + u0*sc, ':', color='orangered')\n",
    "    ax[1].plot(x, np.ones_like(x)*T2[i]/1000 + u*sc, color='darkblue')\n",
    "rect = matplotlib.patches.Rectangle((x[-1] + 10, -sc), 5, sc, \n",
    "                                    color='darkblue',clip_on=False)\n",
    "ax[1].add_patch(rect)\n",
    "ax[1].set_xlabel(r'$\\xi, mm$')\n",
    "ax[1].text(472, -1.3, str(A20)[:6])\n",
    "ax[1].text(472, -0.3, '0.0')\n",
    "\n",
    "# 1\n",
    "x = np.linspace(0, rod.L, 301)\n",
    "sc = 12\n",
    "v = rod.sol_gardner_params(-0.01)[2]\n",
    "for i in range(0, int(len(T1)), int(len(T1)/3-1)):\n",
    "    u = U1[i, 0].diff(0)(x + rod.c*T1[i], 0, 0)/np.abs(A10)\n",
    "    u0 = U1[0, 0].diff(0)(x - v*T1[i], 0, 0)/np.abs(A10)\n",
    "    ax[0].plot(x, np.ones_like(x)*T1[i]/1000 + u0*sc, ':', color='orangered')\n",
    "    ax[0].plot(x, np.ones_like(x)*T1[i]/1000 + u*sc, color='darkblue')\n",
    "rect = matplotlib.patches.Rectangle((x[-1] + 20, -sc), 10, sc, \n",
    "                                    color='darkblue',clip_on=False)\n",
    "ax[0].add_patch(rect)\n",
    "ax[0].set_xlabel(r'$\\xi, mm$')\n",
    "ax[0].text(640, -1.1*sc, str(A10)[:6])\n",
    "ax[0].text(640, -0.2*sc, '0.0')\n",
    "\n",
    "plt.subplots_adjust(left=0.07, right=0.86, top=0.99, bottom=0.2, wspace=0.5)\n",
    "\n",
    "fig.savefig('figures/' + 'sol_evol_all.pdf')"
   ]
  },
  {
   "cell_type": "markdown",
   "metadata": {},
   "source": [
    "## Extremely close to critical amplitude"
   ]
  },
  {
   "cell_type": "code",
   "execution_count": 74,
   "metadata": {},
   "outputs": [],
   "source": [
    "direct = 'simulation_samples/FullEqn_table_top_mat1_A-0.0499825675/'"
   ]
  },
  {
   "cell_type": "code",
   "execution_count": 75,
   "metadata": {},
   "outputs": [
    {
     "data": {
      "text/plain": [
       "<Figure size 432x288 with 0 Axes>"
      ]
     },
     "metadata": {},
     "output_type": "display_data"
    }
   ],
   "source": [
    "%run -i 'simulation_samples/FullEqn_table_top_mat1_A-0.0499825675/data.py'"
   ]
  },
  {
   "cell_type": "code",
   "execution_count": 92,
   "metadata": {},
   "outputs": [],
   "source": [
    "mesh_grid = np.load(direct + 'mesh_grid.npy', allow_pickle=True)\n",
    "L = mesh_grid[0][-1]\n",
    "R = mesh_grid[1][0]\n",
    "T3 = np.load(direct + 'time.npy')\n",
    "#E = np.load(direct + 'energy.npy')\n",
    "U_func = np.load(direct + 'displacement.npy')\n",
    "\n",
    "x = np.linspace(0, L, 300)\n",
    "U3 = TensorField(mesh, U_func)\n",
    "A0 = -0.0499825675\n",
    "l = 100"
   ]
  },
  {
   "cell_type": "code",
   "execution_count": 93,
   "metadata": {},
   "outputs": [
    {
     "data": {
      "text/plain": [
       "0.04998189130314919"
      ]
     },
     "execution_count": 93,
     "metadata": {},
     "output_type": "execute_result"
    }
   ],
   "source": [
    "y = U3[-1, 0].diff(0)(x, 0, 0)\n",
    "A3 = np.max(np.abs(y))*(2*np.int(np.abs(np.max(y)) > np.abs(np.min(y))) - 1)\n",
    "\n",
    "A30 = U3[0, 0].diff(0)(rod.L/2, 0, 0)\n",
    "eps = np.abs(A30)\n",
    "eps"
   ]
  },
  {
   "cell_type": "code",
   "execution_count": 99,
   "metadata": {},
   "outputs": [
    {
     "data": {
      "image/png": "[encoded data removed]",
      "text/plain": [
       "<Figure size 194.4x288 with 1 Axes>"
      ]
     },
     "metadata": {
      "needs_background": "light"
     },
     "output_type": "display_data"
    }
   ],
   "source": [
    "x = np.linspace(0, 1000, 501)\n",
    "fig = plt.figure(figsize=(2.7,4))\n",
    "plt.subplots_adjust(left=0.11, right=0.97, top=.99, bottom=0.12)\n",
    "ax = plt.axes()\n",
    "ax.set_xlabel(r'$\\xi$')\n",
    "#ax.set_ylabel('t, ms')\n",
    "sc = 1.4\n",
    "v = rod.sol_gardner_params(A0)[2]\n",
    "t_sc = eps*rod.c/l\n",
    "for i in range(0, int(len(T3)/2), int(len(T3)/11-4)):\n",
    "    u = U3[i, 0].diff(0)(x + rod.c*T3[i], 0, 0)/np.abs(A30)\n",
    "    u0 = U3[0, 0].diff(0)(x - v*T3[i], 0, 0)/np.abs(A30)\n",
    "    u_kdv = rod.sol_kdv_strain(A30, x - rod.L/2, T3[i])/np.abs(A30)\n",
    "    ax.plot(x/l, np.ones_like(x)*T3[i]*t_sc + u0*sc, '--', color='orangered')\n",
    "    ax.plot(x/l, np.ones_like(x)*T3[i]*t_sc + u_kdv*sc, ':', color='darkgreen')\n",
    "    ax.plot(x/l, np.ones_like(x)*T3[i]*t_sc + u*sc, color='darkblue')\n",
    "#ax.legend(['eKdV', 'Full eq\\'s'], bbox_to_anchor=(1.0, 0.8))\n",
    "#ax.legend(['eKdV', 'Full equations'], loc=2)\n",
    "rect = matplotlib.patches.Rectangle((x[-1] + 35, -sc), 10, sc, \n",
    "                                    color='darkblue',clip_on=False)\n",
    "#ax.add_patch(rect)\n",
    "#ax.text(1080, -1.2*sc, str(A30)[:6])\n",
    "#ax.text(1080, -0.2*sc, '0.0')\n",
    "#ax.minorticks_on()\n",
    "fig.savefig(module_path + '/figures/' + 'sol_evol4.pdf')"
   ]
  },
  {
   "cell_type": "markdown",
   "metadata": {},
   "source": [
    "## Set of figures for animation"
   ]
  },
  {
   "cell_type": "code",
   "execution_count": 11,
   "metadata": {},
   "outputs": [
    {
     "data": {
      "image/png": "[encoded data removed]",
      "text/plain": [
       "<Figure size 360x108 with 1 Axes>"
      ]
     },
     "metadata": {
      "needs_background": "light"
     },
     "output_type": "display_data"
    }
   ],
   "source": [
    "fig = plt.figure(figsize=(5,1.5))\n",
    "plt.subplots_adjust(left=0.14, right=0.99, top=.8, bottom=0.29)\n",
    "ax = plt.axes()\n",
    "\n",
    "for i in range(0, int(len(T3)/1.7)):\n",
    "    u = U3[i, 0].diff(0)(x + rod.c*T3[i], 0, 0)\n",
    "    u0 = U3[0, 0].diff(0)(x - v*T3[i], 0, 0)\n",
    "    u_kdv = rod.sol_kdv_strain(A30, x - rod.L/2, T3[i])\n",
    "    ax.plot(x, u0, '--', color='orangered')\n",
    "    ax.plot(x, u_kdv, ':', color='darkgreen')\n",
    "    ax.plot(x, u, color='darkblue')\n",
    "    ax.set_xlabel(r'$\\xi$, mm')\n",
    "    ax.set_ylabel('u', rotation=0)\n",
    "    ax.set_ylim([-1.4*np.abs(A30), 0.2*np.abs(A30)])\n",
    "    ax.text(0.1, 0.15, 'time = %.2f ms' % (T3[i]/1000), transform=ax.transAxes)    \n",
    "    ax.legend(['eKdV', 'KdV', 'Full equations'], ncol=3, bbox_to_anchor=(0.07, 0.97))\n",
    "    fig.savefig(module_path + '/figures/table_top2_anim/p' + str(i) + '.pdf')\n",
    "    plt.cla()"
   ]
  },
  {
   "cell_type": "markdown",
   "metadata": {},
   "source": [
    "# Soliton profiles (GE+)"
   ]
  },
  {
   "cell_type": "markdown",
   "metadata": {},
   "source": [
    "## Small amplitude"
   ]
  },
  {
   "cell_type": "code",
   "execution_count": 127,
   "metadata": {},
   "outputs": [],
   "source": [
    "direct = 'simulation_samples/FullEqn_table_top_mat2_A-0.05/'"
   ]
  },
  {
   "cell_type": "code",
   "execution_count": 128,
   "metadata": {},
   "outputs": [
    {
     "data": {
      "text/plain": [
       "<Figure size 432x288 with 0 Axes>"
      ]
     },
     "metadata": {},
     "output_type": "display_data"
    }
   ],
   "source": [
    "%run -i 'simulation_samples/FullEqn_table_top_mat2_A-0.05/data.py'"
   ]
  },
  {
   "cell_type": "code",
   "execution_count": 129,
   "metadata": {},
   "outputs": [],
   "source": [
    "mesh_grid = np.load(direct + 'mesh_grid.npy', allow_pickle=True)\n",
    "L = mesh_grid[0][-1]\n",
    "R = mesh_grid[1][0]\n",
    "T1 = np.load(direct + 'time.npy')\n",
    "#E = np.load(direct + 'energy.npy')\n",
    "U_func = np.load(direct + 'displacement.npy')\n",
    "\n",
    "x = np.linspace(0, L, 300)\n",
    "U1 = TensorField(mesh, U_func)\n",
    "A0 = -0.05\n",
    "l = 30"
   ]
  },
  {
   "cell_type": "code",
   "execution_count": 130,
   "metadata": {},
   "outputs": [
    {
     "data": {
      "text/plain": [
       "0.020015257815222683"
      ]
     },
     "execution_count": 130,
     "metadata": {},
     "output_type": "execute_result"
    }
   ],
   "source": [
    "y = U1[-1, 0].diff(0)(x, 0, 0)\n",
    "A1 = np.max(np.abs(y))*(2*np.int(np.abs(np.max(y)) > np.abs(np.min(y))) - 1)\n",
    "\n",
    "y = U1[0, 0].diff(0)(x, 0, 0)\n",
    "A10 = np.max(np.abs(y))*(2*np.int(np.abs(np.max(y)) > np.abs(np.min(y))) - 1)\n",
    "eps = np.abs(A10)\n",
    "eps"
   ]
  },
  {
   "cell_type": "code",
   "execution_count": 131,
   "metadata": {},
   "outputs": [
    {
     "data": {
      "image/png": "[encoded data removed]",
      "text/plain": [
       "<Figure size 216x288 with 1 Axes>"
      ]
     },
     "metadata": {
      "needs_background": "light"
     },
     "output_type": "display_data"
    }
   ],
   "source": [
    "x = np.linspace(100, 500, 501)\n",
    "fig = plt.figure(figsize=(3,4))\n",
    "plt.subplots_adjust(left=0.12, right=0.97, top=.99, bottom=0.12)\n",
    "ax = plt.axes()\n",
    "ax.set_xlabel(r'$\\xi$')\n",
    "ax.set_ylabel(r'$\\tau$', rotation=0)\n",
    "sc = 1.7\n",
    "v = rod.sol_gardner_params(A0)[2]\n",
    "t_sc = eps*rod.c/l\n",
    "for i in range(0, int(len(T1)), int(len(T1)/6-1)):\n",
    "    u = U1[i, 0].diff(0)(x + rod.c*T1[i], 0, 0)/np.abs(A10)\n",
    "    u0 = U1[0, 0].diff(0)(x - v*T1[i], 0, 0)/np.abs(A10)\n",
    "    u_kdv = rod.sol_kdv_strain(A10, x - rod.L/2, T1[i])/np.abs(A10)\n",
    "    ax.plot(x/l, np.ones_like(x)*T1[i]*t_sc + u0*sc, '--', color='orangered')\n",
    "    ax.plot(x/l, np.ones_like(x)*T1[i]*t_sc + u_kdv*sc, ':', color='darkgreen')\n",
    "    ax.plot(x/l, np.ones_like(x)*T1[i]*t_sc + u*sc, color='darkblue')\n",
    "#ax.legend(['eKdV', 'Full equations'], loc=2)\n",
    "rect = matplotlib.patches.Rectangle((x[-1] + 20, -sc), 10, sc, \n",
    "                                    color='darkblue',clip_on=False)\n",
    "#ax.add_patch(rect)\n",
    "#ax.text(640, -1.1*sc, str(A10)[:6])\n",
    "#ax.text(640, -0.25*sc, '0.0')\n",
    "#ax.minorticks_on()\n",
    "fig.savefig(module_path + '/figures/' + 'sol2_evol1.pdf')"
   ]
  },
  {
   "cell_type": "markdown",
   "metadata": {},
   "source": [
    "## Medium amplitude"
   ]
  },
  {
   "cell_type": "code",
   "execution_count": 748,
   "metadata": {},
   "outputs": [],
   "source": [
    "direct = 'simulation_samples/FullEqn_table_top_mat2_A-0.1/'"
   ]
  },
  {
   "cell_type": "code",
   "execution_count": 749,
   "metadata": {},
   "outputs": [
    {
     "data": {
      "text/plain": [
       "<matplotlib.figure.Figure at 0x7f15eea75a20>"
      ]
     },
     "metadata": {},
     "output_type": "display_data"
    }
   ],
   "source": [
    "%run -i 'simulation_samples/FullEqn_table_top_mat2_A-0.1/data.py'"
   ]
  },
  {
   "cell_type": "code",
   "execution_count": 750,
   "metadata": {},
   "outputs": [],
   "source": [
    "mesh_grid = np.load(direct + 'mesh_grid.npy', allow_pickle=True)\n",
    "L = mesh_grid[0][-1]\n",
    "R = mesh_grid[1][0]\n",
    "T2 = np.load(direct + 'time.npy')\n",
    "#E = np.load(direct + 'energy.npy')\n",
    "U_func = np.load(direct + 'displacement.npy')\n",
    "\n",
    "x = np.linspace(0, L, 300)\n",
    "U2 = TensorField(mesh, U_func)\n",
    "A0 = -0.1"
   ]
  },
  {
   "cell_type": "code",
   "execution_count": 751,
   "metadata": {},
   "outputs": [
    {
     "data": {
      "text/plain": [
       "-0.034175271652255305"
      ]
     },
     "execution_count": 751,
     "metadata": {},
     "output_type": "execute_result"
    }
   ],
   "source": [
    "y = U2[-1, 0].diff(0)(x, 0, 0)\n",
    "A2 = np.max(np.abs(y))*(2*np.int(np.abs(np.max(y)) > np.abs(np.min(y))) - 1)\n",
    "A2\n",
    "y = U2[0, 0].diff(0)(x, 0, 0)\n",
    "A20 = np.max(np.abs(y))*(2*np.int(np.abs(np.max(y)) > np.abs(np.min(y))) - 1)\n",
    "A20"
   ]
  },
  {
   "cell_type": "code",
   "execution_count": 752,
   "metadata": {},
   "outputs": [
    {
     "data": {
      "image/png": "[encoded data removed]",
      "text/plain": [
       "<matplotlib.figure.Figure at 0x7f15edce4f60>"
      ]
     },
     "metadata": {},
     "output_type": "display_data"
    }
   ],
   "source": [
    "x = np.linspace(100, 500, 301)\n",
    "fig = plt.figure(figsize=(2.7,2.2))\n",
    "plt.subplots_adjust(left=0.08, right=0.82, top=.99, bottom=0.2)\n",
    "ax = plt.axes()\n",
    "ax.set_xlabel(r'$\\xi$, mm')\n",
    "#ax.set_ylabel('t, ms')\n",
    "sc = 1.05\n",
    "v = rod.sol_gardner_params(A0)[2]\n",
    "for i in range(0, len(T2), int(len(T2)/3-1)):\n",
    "    u = U2[i, 0].diff(0)(x + rod.c*T2[i], 0, 0)/np.abs(A20)\n",
    "    u0 = U2[0, 0].diff(0)(x - v*T2[i], 0, 0)/np.abs(A20)\n",
    "    ax.plot(x, np.ones_like(x)*T2[i]/1000 + u0*sc, ':', color='orangered')\n",
    "    ax.plot(x, np.ones_like(x)*T2[i]/1000 + u*sc, color='darkblue')\n",
    "#ax.legend(['eKdV', 'Full equations'], loc=2)\n",
    "rect = matplotlib.patches.Rectangle((x[-1] + 12, -sc), 6, sc, \n",
    "                                    color='darkblue',clip_on=False)\n",
    "ax.add_patch(rect)\n",
    "ax.text(530, -1.15, str(A20)[:6])\n",
    "ax.text(530, -0.22, '0.0')\n",
    "#ax.minorticks_on()\n",
    "fig.savefig(module_path + '/figures/' + 'sol2_evol2.pdf')"
   ]
  },
  {
   "cell_type": "markdown",
   "metadata": {},
   "source": [
    "## Large amplitude (close to critical)"
   ]
  },
  {
   "cell_type": "code",
   "execution_count": 132,
   "metadata": {},
   "outputs": [],
   "source": [
    "direct = 'simulation_samples/FullEqn_table_top_mat2_A-0.2/'"
   ]
  },
  {
   "cell_type": "code",
   "execution_count": 133,
   "metadata": {},
   "outputs": [
    {
     "data": {
      "text/plain": [
       "<Figure size 432x288 with 0 Axes>"
      ]
     },
     "metadata": {},
     "output_type": "display_data"
    }
   ],
   "source": [
    "%run -i 'simulation_samples/FullEqn_table_top_mat2_A-0.2/data.py'"
   ]
  },
  {
   "cell_type": "code",
   "execution_count": 134,
   "metadata": {},
   "outputs": [],
   "source": [
    "mesh_grid = np.load(direct + 'mesh_grid.npy', allow_pickle=True)\n",
    "L = mesh_grid[0][-1]\n",
    "R = mesh_grid[1][0]\n",
    "T3 = np.load(direct + 'time.npy')\n",
    "#E = np.load(direct + 'energy.npy')\n",
    "U_func = np.load(direct + 'displacement.npy')\n",
    "\n",
    "x = np.linspace(0, L, 300)\n",
    "U3 = TensorField(mesh, U_func)\n",
    "A0 = -0.2\n",
    "l = 20"
   ]
  },
  {
   "cell_type": "code",
   "execution_count": 135,
   "metadata": {},
   "outputs": [
    {
     "data": {
      "text/plain": [
       "0.05425067639456039"
      ]
     },
     "execution_count": 135,
     "metadata": {},
     "output_type": "execute_result"
    }
   ],
   "source": [
    "y = U3[-1, 0].diff(0)(x, 0, 0)\n",
    "A3 = np.max(np.abs(y))*(2*np.int(np.abs(np.max(y)) > np.abs(np.min(y))) - 1)\n",
    "\n",
    "y = U3[0, 0].diff(0)(x, 0, 0)\n",
    "A30 = np.max(np.abs(y))*(2*np.int(np.abs(np.max(y)) > np.abs(np.min(y))) - 1)\n",
    "eps = np.abs(A30)\n",
    "eps"
   ]
  },
  {
   "cell_type": "code",
   "execution_count": 142,
   "metadata": {},
   "outputs": [
    {
     "data": {
      "image/png": "[encoded data removed]",
      "text/plain": [
       "<Figure size 194.4x288 with 1 Axes>"
      ]
     },
     "metadata": {
      "needs_background": "light"
     },
     "output_type": "display_data"
    }
   ],
   "source": [
    "x = np.linspace(100, 500, 301)\n",
    "fig = plt.figure(figsize=(2.7,4))\n",
    "plt.subplots_adjust(left=0.11, right=0.97, top=.99, bottom=0.12)\n",
    "ax = plt.axes()\n",
    "ax.set_xlabel(r'$\\xi$')\n",
    "#ax.set_ylabel('t, ms')\n",
    "sc = 1.3\n",
    "v = rod.sol_gardner_params(A0)[2]\n",
    "t_sc = eps*rod.c/l\n",
    "for i in range(0, len(T3), int(len(T3)/6)):\n",
    "    u = U3[i, 0].diff(0)(x + rod.c*T3[i], 0, 0)/np.abs(A30)\n",
    "    u0 = U3[0, 0].diff(0)(x - v*T3[i], 0, 0)/np.abs(A30)\n",
    "    u_kdv = rod.sol_kdv_strain(A30, x - rod.L/2, T3[i])/np.abs(A30)\n",
    "    ax.plot(x/l, np.ones_like(x)*T3[i]*t_sc + u0*sc, '--', color='orangered')\n",
    "    ax.plot(x/l, np.ones_like(x)*T3[i]*t_sc + u_kdv*sc, ':', color='darkgreen')\n",
    "    ax.plot(x/l, np.ones_like(x)*T3[i]*t_sc + u*sc, color='darkblue')\n",
    "#ax.legend(['eKdV', 'Full eq\\'s'], bbox_to_anchor=(1.0, 0.8))\n",
    "#ax.legend(['eKdV', 'Full equations'], loc=2)\n",
    "rect = matplotlib.patches.Rectangle((x[-1] + 10, -sc), 6, sc, \n",
    "                                    color='darkblue',clip_on=False)\n",
    "#ax.add_patch(rect)\n",
    "#ax.text(530, -1.15*sc, str(A30)[:6])\n",
    "#ax.text(530, -0.2*sc, '0.0')\n",
    "#ax.minorticks_on()\n",
    "fig.savefig(module_path + '/figures/' + 'sol2_evol3.pdf')"
   ]
  },
  {
   "cell_type": "markdown",
   "metadata": {},
   "source": [
    "## Set of figures for animation"
   ]
  },
  {
   "cell_type": "code",
   "execution_count": 26,
   "metadata": {},
   "outputs": [
    {
     "data": {
      "image/png": "[encoded data removed]",
      "text/plain": [
       "<Figure size 360x86.4 with 1 Axes>"
      ]
     },
     "metadata": {
      "needs_background": "light"
     },
     "output_type": "display_data"
    }
   ],
   "source": [
    "fig = plt.figure(figsize=(5,1.2))\n",
    "plt.subplots_adjust(left=0.14, right=0.99, top=.99, bottom=0.37)\n",
    "ax = plt.axes()\n",
    "\n",
    "for i in range(0, len(T3), 1):\n",
    "    u = U3[i, 0].diff(0)(x + rod.c*T3[i], 0, 0)\n",
    "    u0 = U3[0, 0].diff(0)(x - v*T3[i], 0, 0)\n",
    "    u_kdv = rod.sol_kdv_strain(A30, x - rod.L/2, T3[i])\n",
    "    ax.plot(x, u0, '--', color='orangered')\n",
    "    ax.plot(x, u_kdv, ':', color='darkgreen')\n",
    "    ax.plot(x, u, color='darkblue')\n",
    "    ax.set_xlabel(r'$\\xi$, mm')\n",
    "    ax.set_ylabel('u', rotation=0)\n",
    "    ax.set_ylim([-1.4*np.abs(A30), 0.2*np.abs(A30)])\n",
    "    ax.text(0.1, 0.15, 'time = %.2f' % (T3[i]/1000), transform=ax.transAxes)    \n",
    "    #ax.legend(['eKdV', 'Full equations'], ncol=2, bbox_to_anchor=(0.2, 0.97))\n",
    "    fig.savefig(module_path + '/figures/thin_anim/p' + str(i) + '.pdf')\n",
    "    plt.cla()"
   ]
  },
  {
   "cell_type": "markdown",
   "metadata": {},
   "source": [
    "## All together"
   ]
  },
  {
   "cell_type": "code",
   "execution_count": 739,
   "metadata": {},
   "outputs": [
    {
     "data": {
      "image/png": "[encoded data removed]",
      "text/plain": [
       "<matplotlib.figure.Figure at 0x7f15ee9af5c0>"
      ]
     },
     "metadata": {},
     "output_type": "display_data"
    }
   ],
   "source": [
    "fig, ax = plt.subplots(1, 3, figsize=(9,2.5))\n",
    "ax[0].set_ylabel('$t, ms$')\n",
    "x = np.linspace(100, 500, 601)\n",
    "\n",
    "# 3\n",
    "sc = 0.75\n",
    "v = rod.sol_gardner_params(-0.15)[2]\n",
    "for i in range(0, len(U3), int(len(U3)/3-1)):\n",
    "    u = U3[i, 0].diff(0)(x + rod.c*T3[i], 0, 0)/np.abs(A30)\n",
    "    u0 = U3[0, 0].diff(0)(x - v*T3[i], 0, 0)/np.abs(A30)\n",
    "    ax[2].plot(x, np.ones_like(x)*T3[i]/1000 + u0*sc, ':', color='orangered')\n",
    "    ax[2].plot(x, np.ones_like(x)*T3[i]/1000 + u*sc, color='darkblue')\n",
    "rect = matplotlib.patches.Rectangle((x[-1] + 11, -sc), 5, sc, \n",
    "                                    color='darkblue',clip_on=False)\n",
    "ax[2].legend(['eKdV', 'Full eq\\'s'], bbox_to_anchor=(1.0, 0.8))\n",
    "ax[2].add_patch(rect)\n",
    "ax[2].set_xlabel(r'$\\xi, mm$')\n",
    "ax[2].text(530, -1.15*sc, str(A30)[:6])\n",
    "ax[2].text(530, -0.2*sc, '0.0')\n",
    "\n",
    "# 2\n",
    "sc = 1.05\n",
    "v = rod.sol_gardner_params(-0.1)[2]\n",
    "for i in range(0, len(U2), int(len(U2)/3-1)):\n",
    "    u = U2[i, 0].diff(0)(x + rod.c*T2[i], 0, 0)/np.abs(A20)\n",
    "    u0 = U2[0, 0].diff(0)(x - v*T2[i], 0, 0)/np.abs(A20)\n",
    "    ax[1].plot(x, np.ones_like(x)*T2[i]/1000 + u0*sc, ':', color='orangered')\n",
    "    ax[1].plot(x, np.ones_like(x)*T2[i]/1000 + u*sc, color='darkblue')\n",
    "rect = matplotlib.patches.Rectangle((x[-1] + 11, -sc), 5, sc, \n",
    "                                    color='darkblue',clip_on=False)\n",
    "ax[1].add_patch(rect)\n",
    "ax[1].set_xlabel(r'$\\xi, mm$')\n",
    "ax[1].text(530, -1.15*sc, str(A20)[:6])\n",
    "ax[1].text(530, -0.2*sc, '0.0')\n",
    "\n",
    "# 1\n",
    "x = np.linspace(0, rod.L, 301)\n",
    "sc = 2.5\n",
    "v = rod.sol_gardner_params(-0.05)[2]\n",
    "for i in range(0, int(len(T1)), int(len(T1)/3-1)):\n",
    "    u = U1[i, 0].diff(0)(x + rod.c*T1[i], 0, 0)/np.abs(A10)\n",
    "    u0 = U1[0, 0].diff(0)(x - v*T1[i], 0, 0)/np.abs(A10)\n",
    "    ax[0].plot(x, np.ones_like(x)*T1[i]/1000 + u0*sc, ':', color='orangered')\n",
    "    ax[0].plot(x, np.ones_like(x)*T1[i]/1000 + u*sc, color='darkblue')\n",
    "rect = matplotlib.patches.Rectangle((x[-1] + 15, -sc), 10, sc, \n",
    "                                    color='darkblue',clip_on=False)\n",
    "ax[0].add_patch(rect)\n",
    "ax[0].set_xlabel(r'$\\xi, mm$')\n",
    "ax[0].text(640, -1.1*sc, str(A10)[:6])\n",
    "ax[0].text(640, -0.25*sc, '0.0')\n",
    "\n",
    "plt.subplots_adjust(left=0.07, right=0.86, top=0.99, bottom=0.2, wspace=0.5)\n",
    "\n",
    "fig.savefig('figures/' + 'sol2_evol_all.pdf')"
   ]
  },
  {
   "cell_type": "markdown",
   "metadata": {},
   "source": [
    "# Soliton parameters"
   ]
  },
  {
   "cell_type": "code",
   "execution_count": 166,
   "metadata": {},
   "outputs": [
    {
     "data": {
      "text/plain": [
       "2.23606797749979"
      ]
     },
     "execution_count": 166,
     "metadata": {},
     "output_type": "execute_result"
    }
   ],
   "source": [
    "rod.c"
   ]
  },
  {
   "cell_type": "code",
   "execution_count": 180,
   "metadata": {},
   "outputs": [
    {
     "data": {
      "application/vnd.jupyter.widget-view+json": {
       "model_id": "3abadb096f51425fbf32da9ddbae8cc5",
       "version_major": 2,
       "version_minor": 0
      },
      "text/html": [
       "<p>Failed to display Jupyter Widget of type <code>HTML</code>.</p>\n",
       "<p>\n",
       "  If you're reading this message in the Jupyter Notebook or JupyterLab Notebook, it may mean\n",
       "  that the widgets JavaScript is still loading. If this message persists, it\n",
       "  likely means that the widgets JavaScript library is either not installed or\n",
       "  not enabled. See the <a href=\"https://ipywidgets.readthedocs.io/en/stable/user_install.html\">Jupyter\n",
       "  Widgets Documentation</a> for setup instructions.\n",
       "</p>\n",
       "<p>\n",
       "  If you're reading this message in another frontend (for example, a static\n",
       "  rendering on GitHub or <a href=\"https://nbviewer.jupyter.org/\">NBViewer</a>),\n",
       "  it may mean that your frontend doesn't currently support widgets.\n",
       "</p>\n"
      ],
      "text/plain": [
       "HTML(value='')"
      ]
     },
     "metadata": {},
     "output_type": "display_data"
    }
   ],
   "source": [
    "x = np.linspace(0, L, 601)\n",
    "\n",
    "def soliton(x, X, A, L, B):\n",
    "    return A/(1 + B*np.cosh((x - X)/L))\n",
    "\n",
    "def fit(k, thr=0.7, optimize=True):\n",
    "    u = -U[k, 0](None, 0, 0).diff()(x + c*T[k])\n",
    "    i = u.argmax()\n",
    "    X = x[i]\n",
    "    A = u[i]\n",
    "    L = np.trapz((u > thr*A).astype(float), x)/2/np.arccosh(1/np.sqrt(thr))\n",
    "    B = 1\n",
    "    if optimize:\n",
    "        mask = (x > X - 2*L)*(x < X + 2*L)\n",
    "        X, A, L, B = sp.optimize.curve_fit(soliton, x[mask], u[mask], (X, A, L, B))[0]\n",
    "    return X, A, L, B\n",
    "    \n",
    "Xs, As, Ls, Bs = np.transpose([fit(k) for k in Progress(len(T))])"
   ]
  },
  {
   "cell_type": "code",
   "execution_count": 181,
   "metadata": {},
   "outputs": [
    {
     "data": {
      "text/plain": [
       "0.0037401605938277567"
      ]
     },
     "execution_count": 181,
     "metadata": {},
     "output_type": "execute_result"
    },
    {
     "data": {
      "image/png": "[encoded data removed]",
      "text/plain": [
       "<matplotlib.figure.Figure at 0x7f15f6f22710>"
      ]
     },
     "metadata": {},
     "output_type": "display_data"
    }
   ],
   "source": [
    "t_max = T[-1]\n",
    "dv_num, X0 = np.polyfit(T[T > t_max/2], Xs[T > t_max/2], 1)\n",
    "plt.plot(T, Xs)\n",
    "plt.plot(T, X0 + dv_num*T)\n",
    "plt.xlabel('$t$')\n",
    "plt.ylabel('$X_s - ct$')\n",
    "dv_num"
   ]
  },
  {
   "cell_type": "code",
   "execution_count": 182,
   "metadata": {},
   "outputs": [
    {
     "name": "stdout",
     "output_type": "stream",
     "text": [
      "0.010043426125909076 0.89390235500284\n"
     ]
    }
   ],
   "source": [
    "v = dv_num\n",
    "A_th = 6*rod.young*dv_num/rod.beta1/rod.c\n",
    "L_th = rod.R*np.sqrt(-rod.q1*rod.c/2/dv_num)\n",
    "B_th = np.sqrt(1 - 3*rod.beta4hat*A_th/2/rod.beta1/rod.young)\n",
    "print(A_th, B_th)"
   ]
  },
  {
   "cell_type": "code",
   "execution_count": 25,
   "metadata": {},
   "outputs": [
    {
     "data": {
      "text/plain": [
       "0.013517020865023481"
      ]
     },
     "execution_count": 25,
     "metadata": {},
     "output_type": "execute_result"
    },
    {
     "data": {
      "image/png": "[encoded data removed]",
      "text/plain": [
       "<Figure size 432x288 with 1 Axes>"
      ]
     },
     "metadata": {
      "needs_background": "light"
     },
     "output_type": "display_data"
    }
   ],
   "source": [
    "A_num = np.mean(As[T > 0.9*t_max])\n",
    "plt.plot(T, As)\n",
    "plt.axhline(A_num, c='k')\n",
    "plt.axhline(A_th, c='r')\n",
    "plt.xlabel('$t$')\n",
    "plt.ylabel('$A_s$')\n",
    "A_num"
   ]
  },
  {
   "cell_type": "code",
   "execution_count": 26,
   "metadata": {},
   "outputs": [
    {
     "data": {
      "text/plain": [
       "3.8331753330795686"
      ]
     },
     "execution_count": 26,
     "metadata": {},
     "output_type": "execute_result"
    },
    {
     "data": {
      "image/png": "[encoded data removed]",
      "text/plain": [
       "<Figure size 432x288 with 1 Axes>"
      ]
     },
     "metadata": {
      "needs_background": "light"
     },
     "output_type": "display_data"
    }
   ],
   "source": [
    "L_num = np.mean(Ls[T > 0.9*t_max])\n",
    "plt.plot(T, Ls)\n",
    "plt.axhline(L_num, c='k')\n",
    "plt.axhline(L_th, c='r')\n",
    "plt.xlabel('$t$')\n",
    "plt.ylabel('$L_s$')\n",
    "L_num"
   ]
  },
  {
   "cell_type": "code",
   "execution_count": 33,
   "metadata": {},
   "outputs": [
    {
     "data": {
      "text/plain": [
       "[<matplotlib.lines.Line2D at 0x7fc2055a3b70>]"
      ]
     },
     "execution_count": 33,
     "metadata": {},
     "output_type": "execute_result"
    },
    {
     "data": {
      "image/png": "[encoded data removed]",
      "text/plain": [
       "<Figure size 432x288 with 1 Axes>"
      ]
     },
     "metadata": {
      "needs_background": "light"
     },
     "output_type": "display_data"
    }
   ],
   "source": [
    "k = -1\n",
    "x = np.linspace(X0 + dv_num*T[k] - 12*L_th, X0 + dv_num*T[k] + 12*L_th, 1000)\n",
    "u = -U[k, 0](None, 0, 0).diff()\n",
    "plt.xlabel(r'$x - ct$')\n",
    "plt.ylabel(r'$u$')\n",
    "plt.plot(x, u(x + c*T[k]))\n",
    "#plt.plot(x, soliton(x, X0 + (v - c)*T[k], A_th, L_th)/A0)\n",
    "\n",
    "#XAL = sp.optimize.curve_fit(soliton, x, u(x + c*T[k]), (X0 + dv_num*T[k], A_th, L_th))[0]\n",
    "XALB = sp.optimize.curve_fit(soliton, x, u(x + c*T[k]), (X0 + dv_num*T[k], A_th, L_th, B_th))[0]\n",
    "#plt.plot(x, soliton(x, *XAL), '--')\n",
    "plt.plot(x, soliton(x, *XALB), ':')"
   ]
  },
  {
   "cell_type": "code",
   "execution_count": 35,
   "metadata": {},
   "outputs": [
    {
     "data": {
      "text/plain": [
       "-0.016921872028861456"
      ]
     },
     "execution_count": 35,
     "metadata": {},
     "output_type": "execute_result"
    }
   ],
   "source": [
    "A0"
   ]
  },
  {
   "cell_type": "code",
   "execution_count": 34,
   "metadata": {},
   "outputs": [
    {
     "data": {
      "text/plain": [
       "array([4.60105198e+02, 1.35185445e-02, 3.83113378e+00, 5.45341209e-03])"
      ]
     },
     "execution_count": 34,
     "metadata": {},
     "output_type": "execute_result"
    }
   ],
   "source": [
    "XALB"
   ]
  },
  {
   "cell_type": "markdown",
   "metadata": {},
   "source": [
    "# Group (GE+)"
   ]
  },
  {
   "cell_type": "code",
   "execution_count": 6,
   "metadata": {},
   "outputs": [],
   "source": [
    "dirs = ['FullEqn_table_top_mat2_A-0.05/', 'FullEqn_table_top_mat2_A-0.1/', \n",
    "        'FullEqn_table_top_mat2_A-0.15/', 'FullEqn_table_top_mat2_A-0.2/']\n",
    "sim_dir = 'simulation_samples/'\n",
    "ampl_par = [-0.05, -0.1, -0.15, -0.2]"
   ]
  },
  {
   "cell_type": "code",
   "execution_count": 7,
   "metadata": {},
   "outputs": [],
   "source": [
    "%run -i \"simulation_samples/FullEqn_table_top_mat2_A-0.05/data.py\""
   ]
  },
  {
   "cell_type": "code",
   "execution_count": 8,
   "metadata": {},
   "outputs": [],
   "source": [
    "mesh_grid = np.load(sim_dir + dirs[0] + 'mesh_grid.npy', allow_pickle=True)\n",
    "L = mesh_grid[0][-1]\n",
    "R = mesh_grid[1][0]\n",
    "X = mesh_grid[0]\n",
    "T = np.load(sim_dir + dirs[0] + 'time.npy')\n",
    "U_func = np.load(sim_dir + dirs[0] + 'displacement.npy')"
   ]
  },
  {
   "cell_type": "code",
   "execution_count": 9,
   "metadata": {},
   "outputs": [],
   "source": [
    "# time indices for the wave shape analysis\n",
    "ind = [-1, -1, -1, -1]\n",
    "x = np.linspace(0, L, 601)\n",
    "\n",
    "def soliton(x, X, A, F, B):\n",
    "    return A/(1 + B*np.cosh((x - X)*F))\n",
    "\n",
    "def fit(k, thr=0.7, optimize=True):\n",
    "    sgn = np.sign(U[0, 0].diff()((x[-1] - x[0])/2, 0, 0))\n",
    "    u = U[k, 0](None, 0, 0).diff()(x + rod.c*T[k])*sgn\n",
    "    i = u.argmax()\n",
    "    X = x[i]\n",
    "    A = u[i]\n",
    "    F = 1/(np.trapz((u > thr*A).astype(float), x)/2/np.arccosh(1/np.sqrt(thr)))\n",
    "    B = 1.0\n",
    "    if optimize:\n",
    "        mask = (x > X - 2/F)*(x < X + 2/F)\n",
    "        X, A, F, B = sp.optimize.curve_fit(soliton, x[mask], u[mask], (X, A, F, B))[0]\n",
    "    return X, A, F, B"
   ]
  },
  {
   "cell_type": "code",
   "execution_count": 10,
   "metadata": {},
   "outputs": [
    {
     "data": {
      "application/vnd.jupyter.widget-view+json": {
       "model_id": "",
       "version_major": 2,
       "version_minor": 0
      },
      "text/plain": [
       "HTML(value='')"
      ]
     },
     "metadata": {},
     "output_type": "display_data"
    },
    {
     "data": {
      "application/vnd.jupyter.widget-view+json": {
       "model_id": "",
       "version_major": 2,
       "version_minor": 0
      },
      "text/plain": [
       "HTML(value='')"
      ]
     },
     "metadata": {},
     "output_type": "display_data"
    },
    {
     "data": {
      "application/vnd.jupyter.widget-view+json": {
       "model_id": "",
       "version_major": 2,
       "version_minor": 0
      },
      "text/plain": [
       "HTML(value='')"
      ]
     },
     "metadata": {},
     "output_type": "display_data"
    },
    {
     "data": {
      "application/vnd.jupyter.widget-view+json": {
       "model_id": "",
       "version_major": 2,
       "version_minor": 0
      },
      "text/plain": [
       "HTML(value='')"
      ]
     },
     "metadata": {},
     "output_type": "display_data"
    }
   ],
   "source": [
    "As = np.zeros(len(dirs))\n",
    "As0 = np.zeros(len(dirs))\n",
    "Ls = np.zeros_like(As)\n",
    "Fs = np.zeros_like(As)\n",
    "Vs = np.zeros_like(As)\n",
    "Bs = np.zeros_like(As)\n",
    "V_th = np.zeros_like(As)\n",
    "B_th = np.zeros_like(As)\n",
    "F_th = np.zeros_like(As)\n",
    "\n",
    "for j in range(0, len(dirs)):\n",
    "    T = np.load(sim_dir + dirs[j] + 'time.npy')\n",
    "    U_func = np.load(sim_dir + dirs[j] + 'displacement.npy')\n",
    "    # kostyl\n",
    "    mesh_grid = np.load(sim_dir + dirs[j] + 'mesh_grid.npy', allow_pickle=True)\n",
    "    mesh_x = Multidomain(Legendre(20), np.linspace(0, rod.L, 21), periodic=True)\n",
    "    if mesh_grid[0].shape[0] == 600:\n",
    "        mesh_x = Multidomain(Legendre(30), np.linspace(0, rod.L, 21), periodic=True)\n",
    "    if mesh_grid[0].shape[0] == 900:\n",
    "        mesh_x = Multidomain(Legendre(30), np.linspace(0, rod.L, 31), periodic=True)\n",
    "    mesh_r = Legendre(mesh_grid[1].shape[0], (rod.R, 0), 'Radau')\n",
    "    mesh_phi = Constant()\n",
    "    mesh = mesh_x*mesh_r*mesh_phi\n",
    "    # end of kostyl\n",
    "    U = TensorField(mesh, U_func)\n",
    "    sgn = np.sign(U[0, 0].diff()((X[-1] - X[0])/2, 0, 0))\n",
    "    u = U[ind[j], 0].diff()(X + rod.c*T[ind[j]], 0, 0)*sgn\n",
    "    \n",
    "    # velocity, length, B\n",
    "    Xs, As_loc, Fs_loc, Bs_loc = np.transpose([fit(k) for k in Progress(len(T))])\n",
    "    dV, X0 = np.polyfit(T[T > 3*T[ind[j]]/4], Xs[T > 3*T[ind[j]]/4], 1)\n",
    "    Vs[j] = dV\n",
    "    Fs[j] = Fs_loc[ind[j]]\n",
    "    Bs[j] = Bs_loc[ind[j]]\n",
    "    B_th[j], F_th[j], V_th[j] = rod.sol_gardner_params(ampl_par[j])\n",
    "    \n",
    "    # amplitude\n",
    "    As[j] = np.max(u)\n",
    "    As0[j] = U[0, 0].diff()((X[-1] - X[0])/2, 0, 0)*sgn\n",
    "    \n",
    "    # length\n",
    "    peak_ind = np.argmax(u)\n",
    "    u_thr = u > 0.01*As[j]\n",
    "    i = peak_ind\n",
    "    while u_thr[i] == True:\n",
    "        i = i + 1\n",
    "    Ls[j] = 2*(X[i] - X[peak_ind])"
   ]
  },
  {
   "cell_type": "code",
   "execution_count": 11,
   "metadata": {},
   "outputs": [],
   "source": [
    "np.save('shape_params2.npy', [As, Ls, Vs, Bs, Fs, V_th, B_th, F_th, As0])"
   ]
  },
  {
   "cell_type": "code",
   "execution_count": 12,
   "metadata": {},
   "outputs": [],
   "source": [
    "As, Ls, Vs, Bs, Fs, V_th, B_th, F_th, As0 = np.load('shape_params2.npy')"
   ]
  },
  {
   "cell_type": "code",
   "execution_count": 13,
   "metadata": {},
   "outputs": [
    {
     "data": {
      "text/plain": [
       "array([[0.00000000e+00, 2.05259125e-02, 3.61537869e-02, 4.89453053e-02, 6.00338468e-02],\n",
       "       [0.00000000e+00, 6.88518368e+01, 5.09352256e+01, 4.06585372e+01, 3.65408179e+01],\n",
       "       [0.00000000e+00, 1.82593577e-02, 3.55136096e-02, 5.13650622e-02, 6.65724911e-02],\n",
       "       [0.00000000e+00, 8.90448485e-01, 7.52032193e-01, 6.64055913e-01, 5.94977921e-01],\n",
       "       [0.00000000e+00, 1.80733673e-01, 2.55072182e-01, 3.07908852e-01, 3.51576126e-01],\n",
       "       [0.00000000e+00, 1.86199438e-02, 3.72398875e-02, 5.58598313e-02, 7.44797751e-02],\n",
       "       [0.00000000e+00, 1.41428646e+00, 1.73216985e+00, 2.00015463e+00, 2.23625239e+00],\n",
       "       [0.00000000e+00, 1.78927257e-01, 2.53041354e-01, 3.09911101e-01, 3.57854515e-01],\n",
       "       [0.00000000e+00, 2.01502804e-02, 3.44812347e-02, 4.54300008e-02, 5.39184177e-02]])"
      ]
     },
     "execution_count": 13,
     "metadata": {},
     "output_type": "execute_result"
    }
   ],
   "source": [
    "gen_arr = [As, Ls, Vs, Bs, Fs, V_th, B_th, F_th, As0]\n",
    "gen_arr = np.array([[0.0, *gen_arr[i]] for i in range(len(gen_arr))])\n",
    "gen_arr"
   ]
  },
  {
   "cell_type": "code",
   "execution_count": 14,
   "metadata": {},
   "outputs": [],
   "source": [
    "As, Ls, Vs, Bs, Fs, V_th, B_th, F_th, As0 = gen_arr"
   ]
  },
  {
   "cell_type": "code",
   "execution_count": 15,
   "metadata": {},
   "outputs": [],
   "source": [
    "Bs[0] = 1.0\n",
    "B_th[0] =1.0"
   ]
  },
  {
   "cell_type": "markdown",
   "metadata": {},
   "source": [
    "## Velocity - Amplitude curve"
   ]
  },
  {
   "cell_type": "code",
   "execution_count": 25,
   "metadata": {},
   "outputs": [
    {
     "data": {
      "image/png": "[encoded data removed]",
      "text/plain": [
       "<Figure size 216x158.4 with 1 Axes>"
      ]
     },
     "metadata": {
      "needs_background": "light"
     },
     "output_type": "display_data"
    }
   ],
   "source": [
    "# smooth curves\n",
    "A_arr1 = np.linspace(As[0], As[-1], 101)\n",
    "A_arr2 = np.linspace(0, As[-1], 101)\n",
    "spl1 = make_interp_spline(As, Vs, k=3)\n",
    "spl2 = make_interp_spline(As0, V_th, k=3)\n",
    "v = rod.sol_gardner_params(-0.04)[2]\n",
    "kv = v/0.02\n",
    "\n",
    "# graph\n",
    "fig = plt.figure(figsize=(3,2.2))\n",
    "ax = plt.axes()\n",
    "plt.subplots_adjust(left=0.17, right=0.95, top=0.99, bottom=0.2)\n",
    "ax.plot(A_arr2, 1000*spl2(A_arr2), '-.', color='orange')\n",
    "ax.plot([0, As[-1]], [0, As[-1]*kv*1000], ':', color='darkgreen')\n",
    "ax.plot(A_arr1, 1000*spl1(A_arr1), color='darkblue')\n",
    "ax.plot(As, 1000*Vs, color='darkblue', marker='.', linewidth=0)\n",
    "ax.set_xlabel(r'Аmplitude')\n",
    "ax.set_ylabel(r'Velocity, $m/s$')\n",
    "#ax.set_xlim(As[0], As[-1])\n",
    "#ax.legend(['Gardner soliton', 'Full eqn soliton'])\n",
    "ax.grid()\n",
    "fig.savefig(module_path + '/figures/' + 'vel_ampl2.pdf')"
   ]
  },
  {
   "cell_type": "markdown",
   "metadata": {},
   "source": [
    "## N - Amplitude curve"
   ]
  },
  {
   "cell_type": "code",
   "execution_count": 17,
   "metadata": {},
   "outputs": [],
   "source": [
    "def f(U0):\n",
    "    nu = rod.nu\n",
    "    return nu*(1 - 2*nu)*(3 - 2*nu**2)*U0.diff(0).diff(0).diff(0)/8/(1 - nu)\n",
    "\n",
    "def g(U0):\n",
    "    return -rod.beta2*U0.diff(0)**2/4/rod.young\n",
    "\n",
    "def U2(U0):\n",
    "    return (rod.young - rod.lam - 2*rod.mu \n",
    "            + 2*rod.nu*(rod.lam + rod.mu))*U0.diff(0).diff(0)/4/rod.mu\n",
    "\n",
    "def V3(U0, U2):\n",
    "    return (-rod.nu*(rod.young - rod.mu)*U0.diff(0).diff(0).diff(0) \n",
    "            - 2*(rod.lam + rod.mu)*U2.diff(0))/8/(rod.lam + 2*rod.mu)\n",
    "\n",
    "def indef_integral(u, x):\n",
    "    u_int = np.zeros_like(u.func)\n",
    "    for i in range(1, u_int.shape[0]):\n",
    "        x0 = x_field.func[i - 1, 0, 0]\n",
    "        x1 = x_field.func[i, 0, 0]\n",
    "        x = np.linspace(x0, x1, num=50)\n",
    "        u_int[i, 0, 0] = u_int[i - 1, 0, 0] + np.trapz(u(x, 0, 0), dx=(x1 - x0)/50)\n",
    "        for j in range(1, u_int.shape[1]):\n",
    "            u_int[i, j, 0] = u_int[i, 0, 0]\n",
    "    return u_int\n",
    "\n",
    "x = np.linspace(0, rod.L, 301)\n",
    "\n",
    "def soliton(x, X, A, F, B=1):\n",
    "    return A/(1 + B*np.cosh((x - X)*F))\n",
    "\n",
    "def fit(thr=0.7, optimize=True):\n",
    "    u = -u0[0](None, 0, 0).diff()(x)\n",
    "    i = u.argmax()\n",
    "    X = x[i]\n",
    "    A = u[i]/2\n",
    "    F = 1/(np.trapz((u > thr*A).astype(float), x)/2/np.arccosh(1/np.sqrt(thr)))\n",
    "    B = 1\n",
    "    if optimize:\n",
    "        mask = (x > X - 2/F)*(x < X + 2/F)\n",
    "        X, A, F, B = sp.optimize.curve_fit(soliton, x[mask], u[mask], (X, A, F, B))[0]\n",
    "    return X, A, F, B"
   ]
  },
  {
   "cell_type": "code",
   "execution_count": 18,
   "metadata": {},
   "outputs": [
    {
     "data": {
      "application/vnd.jupyter.widget-view+json": {
       "model_id": "",
       "version_major": 2,
       "version_minor": 0
      },
      "text/plain": [
       "HTML(value='')"
      ]
     },
     "metadata": {},
     "output_type": "display_data"
    }
   ],
   "source": [
    "Xs_eKdV = np.zeros(len(ampl_par) + 1)\n",
    "As_eKdV = np.zeros_like(Xs_eKdV)\n",
    "Fs_eKdV = np.zeros_like(Xs_eKdV)\n",
    "Bs_eKdV = np.zeros_like(Xs_eKdV)\n",
    "\n",
    "for i in Progress(range(1, len(ampl_par) + 1)):\n",
    "    A0 = ampl_par[i-1]\n",
    "    x_field, r_field, phi_field = TensorField(mesh, np.meshgrid(*mesh.grid(), indexing='ij'))\n",
    "    xi = x_field - rod.L/2\n",
    "    v = rod.sol_gardner_params(A0)[2]\n",
    "    u_data = np.zeros((3,) + mesh.shape)\n",
    "    u_data[0] += rod.sol_gardner_displ(A0, xi.func, 0)\n",
    "    u_data_strain = rod.sol_gardner_strain(A0, xi.func, 0)\n",
    "    u0_strain = TensorField(mesh, u_data_strain)\n",
    "\n",
    "    u1 = rod.R**2*rod.a1*u0_strain.diff(0).diff(0)\n",
    "    u2 = rod.a2*(xi*v/rod.c*u0_strain.diff(0))\n",
    "    u3 = rod.a3*TensorField(mesh, u0_strain.diff(0).func*\n",
    "                            rod.sol_gardner_displ(A0, xi.func, 0))\n",
    "    u0 = TensorField(mesh, u_data)\n",
    "    u0[0] -= TensorField(mesh, indef_integral(u1 + u2 + u3, xi))\n",
    "    u0_plain = TensorField(mesh, u_data)\n",
    "    u0[1] -= r_field*rod.nu*u0[0].diff(0)\n",
    "    u0[0] += r_field**2*U2(u0_plain[0])\n",
    "    u0[1] += (r_field*(g(u0_plain[0]) + rod.R**2*f(u0_plain[0]))\n",
    "              + r_field**3*V3(u0_plain[0], U2(u0_plain[0])))\n",
    "    Xs_eKdV[i], As_eKdV[i], Fs_eKdV[i], Bs_eKdV[i] = fit() "
   ]
  },
  {
   "cell_type": "code",
   "execution_count": 19,
   "metadata": {},
   "outputs": [],
   "source": [
    "Bs_eKdV[0] = 1.0"
   ]
  },
  {
   "cell_type": "code",
   "execution_count": 20,
   "metadata": {},
   "outputs": [
    {
     "data": {
      "application/vnd.jupyter.widget-view+json": {
       "model_id": "",
       "version_major": 2,
       "version_minor": 0
      },
      "text/plain": [
       "HTML(value='')"
      ]
     },
     "metadata": {},
     "output_type": "display_data"
    }
   ],
   "source": [
    "Xs_KdV = np.zeros(len(ampl_par) + 1)\n",
    "As_KdV = np.zeros_like(Xs_KdV)\n",
    "Fs_KdV = np.zeros_like(Xs_KdV)\n",
    "Bs_KdV = np.zeros_like(Xs_KdV)\n",
    "\n",
    "for j in Progress(range(1, len(ampl_par) + 1)):\n",
    "    A0 = ampl_par[j-1]\n",
    "    u = -rod.sol_kdv_strain(A0, x - rod.L/2, 0)\n",
    "    i = u.argmax()\n",
    "    X = x[i]\n",
    "    A = -A0\n",
    "    thr=0.7\n",
    "    F = 1/(np.trapz((u > thr*A).astype(float), x)/2/np.arccosh(1/np.sqrt(thr)))\n",
    "    mask = (x > X - 2/F)*(x < X + 2/F)\n",
    "    Xs_KdV[j], As_KdV[j], Fs_KdV[j] = sp.optimize.curve_fit(soliton, x[mask], u[mask], (X, A, F))[0]"
   ]
  },
  {
   "cell_type": "code",
   "execution_count": 24,
   "metadata": {},
   "outputs": [
    {
     "data": {
      "image/png": "[encoded data removed]",
      "text/plain": [
       "<Figure size 216x158.4 with 1 Axes>"
      ]
     },
     "metadata": {
      "needs_background": "light"
     },
     "output_type": "display_data"
    }
   ],
   "source": [
    "# smooth curves\n",
    "A_arr1 = np.linspace(As[0], As[-1], 101)\n",
    "A_arr2 = np.linspace(As[0], As[-1], 101)\n",
    "spl1 = make_interp_spline(As, Bs, k=3)\n",
    "spl2 = make_interp_spline(As0, B_th, k=3)\n",
    "spl3 = make_interp_spline(As0, Bs_eKdV, k=3)\n",
    "\n",
    "# graph\n",
    "fig = plt.figure(figsize=(3,2.2))\n",
    "ax = plt.axes()\n",
    "plt.subplots_adjust(left=0.18, right=0.96, top=0.99, bottom=0.2)\n",
    "#ax.plot(A_arr2, spl2(A_arr2), color='orange')\n",
    "ax.plot([A_arr2[0], A_arr2[-1]], [1.0, B_th[-1]], '-.', color='orange')\n",
    "ax.plot(A_arr2, spl3(A_arr2), '--', color='orangered')\n",
    "ax.plot(A_arr1, spl1(A_arr1), color='darkblue')\n",
    "ax.plot([As[0], As[-1]], [1, 1], ':', color='darkgreen')\n",
    "ax.plot(As, Bs, color='darkblue', marker='.', linewidth=0)\n",
    "ax.set_xlabel(r'Аmplitude')\n",
    "ax.set_ylabel(r'Parameter $N$')\n",
    "#ax.set_xlim(As[0], As[-1])\n",
    "#ax.legend(['Gardner', 'eKdV asympt.', 'Full eq\\'n'])\n",
    "ax.grid()\n",
    "fig.savefig(module_path + '/figures/' + 'N_ampl2.pdf')"
   ]
  },
  {
   "cell_type": "markdown",
   "metadata": {},
   "source": [
    "## F - Amplitude curve"
   ]
  },
  {
   "cell_type": "code",
   "execution_count": 27,
   "metadata": {},
   "outputs": [
    {
     "data": {
      "image/png": "[encoded data removed]",
      "text/plain": [
       "<Figure size 216x158.4 with 1 Axes>"
      ]
     },
     "metadata": {
      "needs_background": "light"
     },
     "output_type": "display_data"
    }
   ],
   "source": [
    "# smooth curves\n",
    "A_arr1 = np.linspace(As[0], As[-1], 101)\n",
    "A_arr2 = np.linspace(As[0], As[-1], 101)\n",
    "spl1 = make_interp_spline(As, Fs, k=3)\n",
    "spl2 = make_interp_spline(As0, F_th, k=3)\n",
    "spl3 = make_interp_spline(As0, Fs_eKdV, k=3)\n",
    "spl4 = make_interp_spline(As_KdV, Fs_KdV, k=3)\n",
    "\n",
    "# graph\n",
    "fig = plt.figure(figsize=(3,2.2))\n",
    "ax = plt.axes()\n",
    "plt.subplots_adjust(left=0.18, right=0.96, top=0.99, bottom=0.2)\n",
    "ax.plot(A_arr2, spl2(A_arr2), '-.', color='orange')\n",
    "ax.plot(A_arr2, spl3(A_arr2), '--', color='orangered')\n",
    "ax.plot(A_arr1, spl4(A_arr1), ':', color='darkgreen')\n",
    "ax.plot(A_arr1, spl1(A_arr1), color='darkblue')\n",
    "#ax.plot([As[0], As[-1]], [1, 1], color='darkgreen')\n",
    "ax.plot(As, Fs, color='darkblue', marker='.', linewidth=0)\n",
    "ax.set_xlabel(r'Аmplitude')\n",
    "ax.set_ylabel(r'Parameter $K$')\n",
    "#ax.set_xlim(As[0], As[-1])\n",
    "#ax.legend(['Gardner', 'eKdV asympt.', 'Full eq\\'n'])\n",
    "ax.grid()\n",
    "fig.savefig(module_path + '/figures/' + 'F_ampl2.pdf')"
   ]
  },
  {
   "cell_type": "markdown",
   "metadata": {},
   "source": [
    "# Group (GE-)"
   ]
  },
  {
   "cell_type": "code",
   "execution_count": 74,
   "metadata": {},
   "outputs": [],
   "source": [
    "dirs = ['FullEqn_table_top_mat1_A-0.01/', 'FullEqn_table_top_mat1_A-0.03/',\n",
    "        'FullEqn_table_top_mat1_A-0.04/', 'FullEqn_table_top_mat1_A-0.045/',\n",
    "        'FullEqn_table_top_mat1_A-0.0499/', 'FullEqn_table_top_mat1_A-0.0499825675/']\n",
    "sim_dir = 'simulation_samples/'\n",
    "ampl_par = [-0.01, -0.03, -0.04, -0.045, -0.0499, -0.0499825675]"
   ]
  },
  {
   "cell_type": "code",
   "execution_count": 75,
   "metadata": {},
   "outputs": [
    {
     "data": {
      "text/plain": [
       "<Figure size 432x288 with 0 Axes>"
      ]
     },
     "metadata": {},
     "output_type": "display_data"
    }
   ],
   "source": [
    "%run -i \"simulation_samples/FullEqn_table_top_mat1_A-0.01/data.py\""
   ]
  },
  {
   "cell_type": "code",
   "execution_count": 76,
   "metadata": {},
   "outputs": [],
   "source": [
    "mesh_grid = np.load(sim_dir + dirs[0] + 'mesh_grid.npy', allow_pickle=True)\n",
    "L = mesh_grid[0][0]\n",
    "R = mesh_grid[1][0]\n",
    "X = mesh_grid[0]\n",
    "T = np.load(sim_dir + dirs[0] + 'time.npy')\n",
    "U_func = np.load(sim_dir + dirs[0] + 'displacement.npy')"
   ]
  },
  {
   "cell_type": "code",
   "execution_count": 77,
   "metadata": {},
   "outputs": [],
   "source": [
    "# time indices for the wave shape analysis\n",
    "ind = [-1, -1, -1, -1, -1, -100]\n",
    "\n",
    "def soliton(x, X, A, F, B):\n",
    "    return A/(1 + B*np.cosh((x - X)*F))\n",
    "\n",
    "def fit(k, thr=0.7, optimize=True):\n",
    "    sgn = np.sign(U[0, 0].diff()((x[-1] - x[0])/2, 0, 0))\n",
    "    u = U[k, 0](None, 0, 0).diff()(x + rod.c*T[k])*sgn\n",
    "    i = u.argmax()\n",
    "    X = x[i]\n",
    "    A = u[i]\n",
    "    F = 1/(np.trapz((u > thr*A).astype(float), x)/2/np.arccosh(1/np.sqrt(thr)))\n",
    "    B = 1.0\n",
    "    if optimize:\n",
    "        mask = (x > X - 2/F)*(x < X + 2/F)\n",
    "        X, A, F, B = sp.optimize.curve_fit(soliton, x[mask], u[mask], (X, A, F, B))[0]\n",
    "    return X, A, F, B\n",
    "\n",
    "def length(u, A, x, peak_ind=-1.0):\n",
    "    if peak_ind < 0:\n",
    "        peak_ind = np.argmax(u)\n",
    "    u_thr = u > 0.5*A\n",
    "    i = peak_ind\n",
    "    while u_thr[i] == True:\n",
    "        i = i + 1\n",
    "    return 2*(x[i] - x[peak_ind])"
   ]
  },
  {
   "cell_type": "code",
   "execution_count": 78,
   "metadata": {},
   "outputs": [
    {
     "data": {
      "application/vnd.jupyter.widget-view+json": {
       "model_id": "",
       "version_major": 2,
       "version_minor": 0
      },
      "text/plain": [
       "HTML(value='')"
      ]
     },
     "metadata": {},
     "output_type": "display_data"
    },
    {
     "data": {
      "application/vnd.jupyter.widget-view+json": {
       "model_id": "",
       "version_major": 2,
       "version_minor": 0
      },
      "text/plain": [
       "HTML(value='')"
      ]
     },
     "metadata": {},
     "output_type": "display_data"
    },
    {
     "data": {
      "application/vnd.jupyter.widget-view+json": {
       "model_id": "",
       "version_major": 2,
       "version_minor": 0
      },
      "text/plain": [
       "HTML(value='')"
      ]
     },
     "metadata": {},
     "output_type": "display_data"
    },
    {
     "data": {
      "application/vnd.jupyter.widget-view+json": {
       "model_id": "",
       "version_major": 2,
       "version_minor": 0
      },
      "text/plain": [
       "HTML(value='')"
      ]
     },
     "metadata": {},
     "output_type": "display_data"
    },
    {
     "data": {
      "application/vnd.jupyter.widget-view+json": {
       "model_id": "",
       "version_major": 2,
       "version_minor": 0
      },
      "text/plain": [
       "HTML(value='')"
      ]
     },
     "metadata": {},
     "output_type": "display_data"
    },
    {
     "data": {
      "application/vnd.jupyter.widget-view+json": {
       "model_id": "",
       "version_major": 2,
       "version_minor": 0
      },
      "text/plain": [
       "HTML(value='')"
      ]
     },
     "metadata": {},
     "output_type": "display_data"
    }
   ],
   "source": [
    "As = np.zeros(len(dirs))\n",
    "As0 = np.zeros(len(dirs))\n",
    "Ls = np.zeros_like(As)\n",
    "Vs = np.zeros_like(As)\n",
    "Vs_g = np.zeros_like(As)\n",
    "Vs_g0 = np.zeros_like(As)\n",
    "Fs = np.zeros_like(As)\n",
    "Bs = np.zeros_like(As)\n",
    "B_th = np.zeros_like(As)\n",
    "F_th = np.zeros_like(As)\n",
    "V_th = np.zeros_like(As)\n",
    "#Ls_g = np.zeros_like(As)\n",
    "#Ls_ekdv = np.zeros_like(As)\n",
    "\n",
    "for j in range(0, len(dirs)):\n",
    "    T = np.load(sim_dir + dirs[j] + 'time.npy')\n",
    "    U_func = np.load(sim_dir + dirs[j] + 'displacement.npy')\n",
    "    # kostyl\n",
    "    mesh_grid = np.load(sim_dir + dirs[j] + 'mesh_grid.npy', allow_pickle=True)\n",
    "    L = mesh_grid[0][-1]\n",
    "    x = np.linspace(0, L, int(L*10+1))\n",
    "    mesh_x = Multidomain(Legendre(20), np.linspace(0, L, 21), periodic=True)\n",
    "    if mesh_grid[0].shape[0] == 600:\n",
    "        mesh_x = Multidomain(Legendre(30), np.linspace(0, L, 21), periodic=True)\n",
    "    if mesh_grid[0].shape[0] == 650:\n",
    "        mesh_x = Multidomain(Legendre(26), np.linspace(0, L, 26), periodic=True)\n",
    "    mesh_r = Legendre(mesh_grid[1].shape[0], (R, 0), 'Radau')\n",
    "    mesh_phi = Constant()\n",
    "    mesh = mesh_x*mesh_r*mesh_phi\n",
    "    # end of kostyl\n",
    "    U = TensorField(mesh, U_func)\n",
    "    sgn = np.sign(U[0, 0].diff()((x[-1] - x[0])/2, 0, 0))\n",
    "    u = U[ind[j], 0].diff()(x + rod.c*T[ind[j]], 0, 0)*sgn\n",
    "    \n",
    "    # velocity, F, B\n",
    "    Xs, As_loc, Fs_loc, Bs_loc = np.transpose([fit(k) for k in Progress(len(T))])\n",
    "    T_sl = T[T > 3*T[ind[j]]/4]\n",
    "    Xs_sl = Xs[T > 3*T[ind[j]]/4]\n",
    "    dV, X0 = np.polyfit(T_sl[T_sl < T[ind[j]]], Xs_sl[T_sl < T[ind[j]]], 1)\n",
    "    Vs[j] = dV\n",
    "    Fs[j] = Fs_loc[ind[j]]\n",
    "    Bs[j] = Bs_loc[ind[j]]\n",
    "    B_th[j], F_th[j], V_th[j] = rod.sol_gardner_params(ampl_par[j])\n",
    "    Vs_g[j] = rod.sol_gardner_params(ampl_par[j])[2]\n",
    "    u_g = -rod.sol_gardner_strain(ampl_par[j], x - L/2, 0)\n",
    "    U_g = TensorField(mesh_x, rod.sol_gardner_strain(ampl_par[j], \n",
    "                                                     mesh_x.grid()[0] - L/2, 0))\n",
    "    u_ekdv = -rod.sol_ekdv_strain(U_g, ampl_par[j], x, 0)\n",
    "    \n",
    "    # amplitude\n",
    "    As[j] = np.max(u)\n",
    "    As0[j] = U[0, 0].diff()((x[-1] - x[0])/2, 0, 0)*sgn\n",
    "    \n",
    "    # length\n",
    "    Ls[j] = length(u, As[j], x)\n",
    "    #Ls_g[j] = length(u_g, As0[j], x)\n",
    "    #Ls_ekdv[j] = length(u_ekdv, As0[j], x)\n",
    "    #peak_ind = np.argmax(u)\n",
    "    #u_thr = u > 0.5*As[j]\n",
    "    #i = peak_ind\n",
    "    #while u_thr[i] == True:\n",
    "    #    i = i + 1\n",
    "    #Ls[j] = 2*(x[i] - x[peak_ind])"
   ]
  },
  {
   "cell_type": "code",
   "execution_count": 54,
   "metadata": {},
   "outputs": [
    {
     "data": {
      "application/vnd.jupyter.widget-view+json": {
       "model_id": "",
       "version_major": 2,
       "version_minor": 0
      },
      "text/plain": [
       "HTML(value='')"
      ]
     },
     "metadata": {},
     "output_type": "display_data"
    }
   ],
   "source": [
    "A_arr2 = np.linspace(0, As0[-1], 101)\n",
    "Ampl_par = np.linspace(0, 0.0499825675, 101)\n",
    "A_arr3 = np.zeros_like(Ampl_par)\n",
    "Ls_g = np.zeros_like(A_arr2)\n",
    "Ls_kdv = np.zeros_like(A_arr2)\n",
    "Ls_ekdv = np.zeros_like(A_arr2)\n",
    "x = np.linspace(0, rod.L, 12000 + 1)\n",
    "\n",
    "for j in Progress(range(1, len(A_arr3))):\n",
    "    u_kdv = -rod.sol_kdv_strain(-A_arr2[j], x - rod.L/2, 0)\n",
    "    u_g = -rod.sol_gardner_strain(-A_arr2[j], x - rod.L/2, 0)\n",
    "    U_g = TensorField(mesh_x, rod.sol_gardner_strain(-A_arr2[j], \n",
    "                                                     mesh_x.grid()[0] - rod.L/2, 0))\n",
    "    u_ekdv = -rod.sol_ekdv_strain(U_g, -A_arr2[j], x, 0)\n",
    "    i = u_g.argmax()\n",
    "    A_arr3[j] = u_g[i]\n",
    "    Ls_g[j] = length(u_g, A_arr3[j], x)\n",
    "    Ls_kdv[j] = length(u_kdv, A_arr3[j], x)\n",
    "    Ls_ekdv[j] = length(u_ekdv, A_arr3[j], x, peak_ind=len(x)//2)"
   ]
  },
  {
   "cell_type": "code",
   "execution_count": 79,
   "metadata": {},
   "outputs": [],
   "source": [
    "np.save('shape_params.npy', [As, Ls, Vs, Bs, Fs, V_th, B_th, F_th, As0])"
   ]
  },
  {
   "cell_type": "code",
   "execution_count": 80,
   "metadata": {},
   "outputs": [],
   "source": [
    "As, Ls, Vs, Bs, Fs, V_th, B_th, F_th, As0 = np.load('shape_params.npy', allow_pickle=True)"
   ]
  },
  {
   "cell_type": "code",
   "execution_count": 83,
   "metadata": {},
   "outputs": [
    {
     "data": {
      "text/plain": [
       "array([[0.00000000e+00, 5.29297311e-03, 1.88044747e-02, 2.88316372e-02, 3.64059734e-02, 5.49405270e-02,\n",
       "        5.91050926e-02],\n",
       "       [0.00000000e+00, 4.56000000e+01, 2.86000000e+01, 2.68000000e+01, 2.74000000e+01, 4.10000000e+01,\n",
       "        1.28600000e+02],\n",
       "       [0.00000000e+00, 3.74037566e-03, 1.15080474e-02, 1.57082121e-02, 1.80348725e-02, 2.08600578e-02,\n",
       "        2.07709544e-02],\n",
       "       [0.00000000e+00, 3.72398875e-03, 1.11719663e-02, 1.48959550e-02, 1.67579494e-02, 1.85827039e-02,\n",
       "        1.86134519e-02],\n",
       "       [0.00000000e+00, 5.25575059e-03, 1.81839818e-02, 2.73300963e-02, 3.38607024e-02, 4.78648423e-02,\n",
       "        4.99818913e-02]])"
      ]
     },
     "execution_count": 83,
     "metadata": {},
     "output_type": "execute_result"
    }
   ],
   "source": [
    "#gen_arr = [As, Ls, Vs, Bs, Fs, V_th, B_th, F_th, As0]\n",
    "gen_arr = [As, Ls, Vs, Vs_g, As0]\n",
    "gen_arr = np.array([[0.0, *gen_arr[i]] for i in range(len(gen_arr))])\n",
    "As, Ls, Vs, Vs_g, As0 = gen_arr\n",
    "gen_arr"
   ]
  },
  {
   "cell_type": "code",
   "execution_count": 85,
   "metadata": {},
   "outputs": [],
   "source": [
    "Bs[0] = 1.0\n",
    "B_th[0] =1.0"
   ]
  },
  {
   "cell_type": "markdown",
   "metadata": {},
   "source": [
    "## Velocity - Amplitude curve"
   ]
  },
  {
   "cell_type": "code",
   "execution_count": 84,
   "metadata": {},
   "outputs": [
    {
     "data": {
      "image/png": "[encoded data removed]",
      "text/plain": [
       "<Figure size 216x158.4 with 1 Axes>"
      ]
     },
     "metadata": {
      "needs_background": "light"
     },
     "output_type": "display_data"
    }
   ],
   "source": [
    "# smooth curves\n",
    "A_arr1 = np.linspace(As[0], As[-1], 101)\n",
    "A_arr2 = np.linspace(As0[0], As0[-1], 101)\n",
    "spl1 = make_interp_spline(As, Vs, k=3)\n",
    "spl2 = make_interp_spline(As0, Vs_g, k=3)\n",
    "v = rod.sol_gardner_params(-0.04)[2]\n",
    "kv = v/0.02\n",
    "\n",
    "# graph\n",
    "fig = plt.figure(figsize=(3,2.2))\n",
    "ax = plt.axes()\n",
    "plt.subplots_adjust(left=0.17, right=0.95, top=0.99, bottom=0.2)\n",
    "ax.plot(A_arr2, 1000*spl2(A_arr2), '-.', color='orange')\n",
    "ax.plot([0, 0.03], [0, 0.03*kv*1000], ':', color='darkgreen')\n",
    "ax.plot(A_arr1, 1000*spl1(A_arr1), color='darkblue')\n",
    "ax.plot(As, 1000*Vs, color='darkblue', marker='.', linewidth=0)\n",
    "ax.set_xlabel(r'Аmplitude')\n",
    "ax.set_ylabel(r'Velocity, $m/s$')\n",
    "#ax.set_xlim(As[0], As[-1])\n",
    "#ax.legend(['Gardner soliton', 'Full eqn soliton'])\n",
    "ax.grid()\n",
    "#fig.savefig(module_path + '/figures/' + 'vel_ampl.pdf')"
   ]
  },
  {
   "cell_type": "markdown",
   "metadata": {},
   "source": [
    "## FWHM - Amplitude"
   ]
  },
  {
   "cell_type": "code",
   "execution_count": 90,
   "metadata": {},
   "outputs": [
    {
     "data": {
      "image/png": "[encoded data removed]",
      "text/plain": [
       "<Figure size 216x158.4 with 1 Axes>"
      ]
     },
     "metadata": {
      "needs_background": "light"
     },
     "output_type": "display_data"
    }
   ],
   "source": [
    "# smooth curves\n",
    "A_arr1 = np.linspace(As[0], As[-1], 101)\n",
    "A_arr2 = np.linspace(As0[0], As0[-1], 101)\n",
    "spl1 = make_interp_spline(As, [0, *(1/Ls[1:])], k=5)\n",
    "\n",
    "# graph\n",
    "fig = plt.figure(figsize=(3,2.2))\n",
    "ax = plt.axes()\n",
    "plt.subplots_adjust(left=0.17, right=0.95, top=0.99, bottom=0.2)\n",
    "ax.plot(A_arr3, [0, *(1/Ls_g[1:])], color='orange')\n",
    "ax.plot(A_arr3, [0, *(1/Ls_ekdv[1:])], color='orangered')\n",
    "ax.plot(A_arr3, [0, *(1/Ls_kdv[1:])], color='darkgreen')\n",
    "ax.plot(A_arr1, spl1(A_arr1), color='darkblue')\n",
    "ax.plot(As, [0, *(1/Ls[1:])], color='darkblue', marker='.', linewidth=0)\n",
    "ax.set_xlabel(r'Аmplitude')\n",
    "ax.set_ylabel(r'$FWHM^{-1}, mm^{-1}$')\n",
    "#ax.set_xlim(As[0], As[-1])\n",
    "#ax.legend(['Gardner soliton', 'Full eqn soliton'])\n",
    "ax.grid()\n",
    "fig.savefig(module_path + '/figures/' + 'wid_ampl.pdf')"
   ]
  },
  {
   "cell_type": "code",
   "execution_count": 35,
   "metadata": {},
   "outputs": [
    {
     "data": {
      "text/plain": [
       "(101,)"
      ]
     },
     "execution_count": 35,
     "metadata": {},
     "output_type": "execute_result"
    }
   ],
   "source": [
    "A_arr3.shape"
   ]
  },
  {
   "cell_type": "code",
   "execution_count": 85,
   "metadata": {},
   "outputs": [
    {
     "data": {
      "image/png": "[encoded data removed]",
      "text/plain": [
       "<Figure size 216x158.4 with 1 Axes>"
      ]
     },
     "metadata": {
      "needs_background": "light"
     },
     "output_type": "display_data"
    }
   ],
   "source": [
    "# smooth curves\n",
    "spl1 = make_interp_spline(As[1:], Ls[1:], k=1)\n",
    "spl2 = make_interp_spline(As0[1:], Ls_g[1:], k=2)\n",
    "spl3 = make_interp_spline(As0[1:], Ls_ekdv[1:], k=2)\n",
    "\n",
    "# graph\n",
    "fig = plt.figure(figsize=(3,2.2))\n",
    "ax = plt.axes()\n",
    "plt.subplots_adjust(left=0.17, right=0.95, top=0.99, bottom=0.2)\n",
    "ax.plot(A_arr2, spl2(A_arr2), color='orange')\n",
    "ax.plot(A_arr2, spl3(A_arr2), color='orangered')\n",
    "ax.plot(A_arr1, spl1(A_arr1), color='darkblue')\n",
    "#ax.plot(As, Ls, color='darkblue', marker='.', linewidth=0)\n",
    "#ax.plot([0, 0.03], [0, 0.03*kv*1000], color='darkgreen')\n",
    "ax.set_xlabel(r'Аmplitude')\n",
    "ax.set_ylabel(r'$FWHM^{-1}, mm^{-1}$')\n",
    "#ax.set_xlim(As[0], As[-1])\n",
    "#ax.legend(['Gardner soliton', 'Full eqn soliton'])\n",
    "ax.grid()\n",
    "#fig.savefig(module_path + '/figures/' + 'vel_ampl.pdf')"
   ]
  },
  {
   "cell_type": "markdown",
   "metadata": {},
   "source": [
    "## N - Amplitude curve"
   ]
  },
  {
   "cell_type": "code",
   "execution_count": 61,
   "metadata": {},
   "outputs": [],
   "source": [
    "def f(U0):\n",
    "    nu = rod.nu\n",
    "    return nu*(1 - 2*nu)*(3 - 2*nu**2)*U0.diff(0).diff(0).diff(0)/8/(1 - nu)\n",
    "\n",
    "def g(U0):\n",
    "    return -rod.beta2*U0.diff(0)**2/4/rod.young\n",
    "\n",
    "def U2(U0):\n",
    "    return (rod.young - rod.lam - 2*rod.mu \n",
    "            + 2*rod.nu*(rod.lam + rod.mu))*U0.diff(0).diff(0)/4/rod.mu\n",
    "\n",
    "def V3(U0, U2):\n",
    "    return (-rod.nu*(rod.young - rod.mu)*U0.diff(0).diff(0).diff(0) \n",
    "            - 2*(rod.lam + rod.mu)*U2.diff(0))/8/(rod.lam + 2*rod.mu)\n",
    "\n",
    "def indef_integral(u, x):\n",
    "    u_int = np.zeros_like(u.func)\n",
    "    for i in range(1, u_int.shape[0]):\n",
    "        x0 = x_field.func[i - 1, 0, 0]\n",
    "        x1 = x_field.func[i, 0, 0]\n",
    "        x = np.linspace(x0, x1, num=50)\n",
    "        u_int[i, 0, 0] = u_int[i - 1, 0, 0] + np.trapz(u(x, 0, 0), dx=(x1 - x0)/50)\n",
    "        for j in range(1, u_int.shape[1]):\n",
    "            u_int[i, j, 0] = u_int[i, 0, 0]\n",
    "    return u_int\n",
    "\n",
    "x = np.linspace(0, rod.L, 601)\n",
    "\n",
    "def soliton(x, X, A, F, B=1):\n",
    "    return A/(1 + B*np.cosh((x - X)*F))\n",
    "\n",
    "def fit(thr=0.7, optimize=True):\n",
    "    u = -u0[0](None, 0, 0).diff()(x)\n",
    "    i = u.argmax()\n",
    "    X = x[i]\n",
    "    A = u[i]\n",
    "    F = 1/(np.trapz((u > thr*A).astype(float), x)/2/np.arccosh(1/np.sqrt(thr)))\n",
    "    B = 1\n",
    "    if optimize:\n",
    "        mask = (x > X - 2/F)*(x < X + 2/F)\n",
    "        X, A, F, B = sp.optimize.curve_fit(soliton, x[mask], u[mask], (X, A, F, B))[0]\n",
    "    return X, A, F, B"
   ]
  },
  {
   "cell_type": "code",
   "execution_count": 62,
   "metadata": {},
   "outputs": [
    {
     "data": {
      "application/vnd.jupyter.widget-view+json": {
       "model_id": "",
       "version_major": 2,
       "version_minor": 0
      },
      "text/plain": [
       "HTML(value='')"
      ]
     },
     "metadata": {},
     "output_type": "display_data"
    }
   ],
   "source": [
    "Xs_eKdV = np.zeros(len(ampl_par) + 1)\n",
    "As_eKdV = np.zeros_like(Xs_eKdV)\n",
    "Fs_eKdV = np.zeros_like(Xs_eKdV)\n",
    "Bs_eKdV = np.zeros_like(Xs_eKdV)\n",
    "\n",
    "for i in Progress(range(1, len(ampl_par) + 1)):\n",
    "    A0 = ampl_par[i-1]\n",
    "    x_field, r_field, phi_field = TensorField(mesh, np.meshgrid(*mesh.grid(), indexing='ij'))\n",
    "    xi = x_field - rod.L/2\n",
    "    v = rod.sol_gardner_params(A0)[2]\n",
    "    u_data = np.zeros((3,) + mesh.shape)\n",
    "    u_data[0] += rod.sol_gardner_displ(A0, xi.func, 0)\n",
    "    u_data_strain = rod.sol_gardner_strain(A0, xi.func, 0)\n",
    "    u0_strain = TensorField(mesh, u_data_strain)\n",
    "\n",
    "    u1 = rod.R**2*rod.a1*u0_strain.diff(0).diff(0)\n",
    "    u2 = rod.a2*(xi*v/rod.c*u0_strain.diff(0))\n",
    "    u3 = rod.a3*TensorField(mesh, u0_strain.diff(0).func*\n",
    "                            rod.sol_gardner_displ(A0, xi.func, 0))\n",
    "    u0 = TensorField(mesh, u_data)\n",
    "    u0[0] -= TensorField(mesh, indef_integral(u1 + u2 + u3, xi))\n",
    "    u0_plain = TensorField(mesh, u_data)\n",
    "    u0[1] -= r_field*rod.nu*u0[0].diff(0)\n",
    "    Xs_eKdV[i], As_eKdV[i], Fs_eKdV[i], Bs_eKdV[i] = fit() "
   ]
  },
  {
   "cell_type": "code",
   "execution_count": 63,
   "metadata": {},
   "outputs": [],
   "source": [
    "Bs_eKdV[0] = 1.0"
   ]
  },
  {
   "cell_type": "code",
   "execution_count": 64,
   "metadata": {},
   "outputs": [
    {
     "data": {
      "application/vnd.jupyter.widget-view+json": {
       "model_id": "",
       "version_major": 2,
       "version_minor": 0
      },
      "text/plain": [
       "HTML(value='')"
      ]
     },
     "metadata": {},
     "output_type": "display_data"
    }
   ],
   "source": [
    "Xs_KdV = np.zeros(len(ampl_par) + 1)\n",
    "As_KdV = np.zeros_like(Xs_KdV)\n",
    "Fs_KdV = np.zeros_like(Xs_KdV)\n",
    "Bs_KdV = np.zeros_like(Xs_KdV)\n",
    "\n",
    "for j in Progress(range(1, len(ampl_par) + 1)):\n",
    "    A0 = ampl_par[j-1]\n",
    "    u = -rod.sol_kdv_strain(A0, x - rod.L/2, 0)\n",
    "    i = u.argmax()\n",
    "    X = x[i]\n",
    "    A = -A0\n",
    "    thr=0.7\n",
    "    F = 1/(np.trapz((u > thr*A).astype(float), x)/2/np.arccosh(1/np.sqrt(thr)))\n",
    "    mask = (x > X - 2/F)*(x < X + 2/F)\n",
    "    Xs_KdV[j], As_KdV[j], Fs_KdV[j] = sp.optimize.curve_fit(soliton, x[mask], u[mask], (X, A, F))[0]"
   ]
  },
  {
   "cell_type": "code",
   "execution_count": 91,
   "metadata": {},
   "outputs": [
    {
     "data": {
      "image/png": "[encoded data removed]",
      "text/plain": [
       "<Figure size 216x158.4 with 1 Axes>"
      ]
     },
     "metadata": {
      "needs_background": "light"
     },
     "output_type": "display_data"
    }
   ],
   "source": [
    "# smooth curves\n",
    "A_arr1 = np.linspace(As[0], As[-1], 101)\n",
    "A_arr2 = np.linspace(0, 0.049981, 101)\n",
    "spl1 = make_interp_spline(As[:-1], Bs, k=3)\n",
    "spl2 = make_interp_spline(As0[:-1], B_th, k=3)\n",
    "spl3 = make_interp_spline(As0, Bs_eKdV, k=3)\n",
    "\n",
    "# graph\n",
    "fig = plt.figure(figsize=(3,2.2))\n",
    "ax = plt.axes()\n",
    "plt.subplots_adjust(left=0.18, right=0.96, top=0.99, bottom=0.2)\n",
    "ax.plot(A_arr2, spl2(A_arr2), '-.', color='orange')\n",
    "ax.plot(A_arr2, spl3(A_arr2), '--', color='orangered')\n",
    "ax.plot(A_arr1, spl1(A_arr1), color='darkblue')\n",
    "ax.plot(A_arr1, np.ones_like(A_arr1), ':', color='darkgreen')\n",
    "ax.plot(As[:-1], Bs, color='darkblue', marker='.', linewidth=0)\n",
    "ax.set_xlabel(r'Аmplitude')\n",
    "ax.set_ylabel(r'Parameter $N$')\n",
    "#ax.set_xlim(As[0], As[-1])\n",
    "#ax.legend(['Gardner', 'eKdV', 'Full eqns.', 'KdV'])\n",
    "ax.grid()\n",
    "#fig.savefig(module_path + '/figures/' + 'N_ampl.pdf')"
   ]
  },
  {
   "cell_type": "code",
   "execution_count": 87,
   "metadata": {},
   "outputs": [
    {
     "data": {
      "text/plain": [
       "array([0.        , 0.00525575, 0.01818398, 0.0273301 , 0.0338607 , 0.04786484, 0.04998189])"
      ]
     },
     "execution_count": 87,
     "metadata": {},
     "output_type": "execute_result"
    }
   ],
   "source": [
    "As0"
   ]
  },
  {
   "cell_type": "code",
   "execution_count": 88,
   "metadata": {},
   "outputs": [
    {
     "data": {
      "text/plain": [
       "array([1.00000000e+00, 6.32290074e-01, 4.46901536e-01, 3.15731065e-01, 4.06438939e-02, 1.29381343e-05])"
      ]
     },
     "execution_count": 88,
     "metadata": {},
     "output_type": "execute_result"
    }
   ],
   "source": [
    "B_th"
   ]
  },
  {
   "cell_type": "markdown",
   "metadata": {},
   "source": [
    "## F - Amplitude curve"
   ]
  },
  {
   "cell_type": "code",
   "execution_count": 191,
   "metadata": {},
   "outputs": [
    {
     "data": {
      "text/plain": [
       "array([ 0.        ,  0.07989144,  0.13851196,  0.16020817,  0.18527936, -0.20205638])"
      ]
     },
     "execution_count": 191,
     "metadata": {},
     "output_type": "execute_result"
    }
   ],
   "source": [
    "Fs_eKdV"
   ]
  },
  {
   "cell_type": "code",
   "execution_count": 230,
   "metadata": {},
   "outputs": [
    {
     "data": {
      "image/png": "[encoded data removed]",
      "text/plain": [
       "<Figure size 216x158.4 with 1 Axes>"
      ]
     },
     "metadata": {
      "needs_background": "light"
     },
     "output_type": "display_data"
    }
   ],
   "source": [
    "# smooth curves\n",
    "A_arr1 = np.linspace(As[0], As[-1], 101)\n",
    "A_arr2 = np.linspace(0, 0.049981, 101)\n",
    "spl1 = make_interp_spline(As, Fs, k=2)\n",
    "spl2 = make_interp_spline(As0, F_th, k=3)\n",
    "spl3 = make_interp_spline(As0[:-1], np.abs(Fs_eKdV[:-1]), k=3)\n",
    "spl4 = make_interp_spline(As_KdV, Fs_KdV, k=3)\n",
    "\n",
    "# graph\n",
    "fig = plt.figure(figsize=(3,2.2))\n",
    "ax = plt.axes()\n",
    "plt.subplots_adjust(left=0.18, right=0.96, top=0.99, bottom=0.2)\n",
    "ax.plot(A_arr2, spl2(A_arr2), color='orange')\n",
    "ax.plot(A_arr2, spl3(A_arr2), color='orangered')\n",
    "ax.plot(A_arr1, spl4(A_arr1), color='darkgreen')\n",
    "ax.plot(A_arr1, spl1(A_arr1), color='darkblue')\n",
    "#ax.plot([As[0], As[-1]], [1, 1], color='darkgreen')\n",
    "ax.plot(As, Fs, color='darkblue', marker='.', linewidth=0)\n",
    "ax.set_xlabel(r'Аmplitude')\n",
    "ax.set_ylabel(r'Parameter $K$')\n",
    "#ax.set_xlim(As[0], As[-1])\n",
    "#ax.legend(['Gardner', 'eKdV asympt.', 'Full eq\\'n'])\n",
    "ax.grid()\n",
    "fig.savefig(module_path + '/figures/' + 'F_ampl.pdf')"
   ]
  },
  {
   "cell_type": "code",
   "execution_count": 109,
   "metadata": {},
   "outputs": [],
   "source": [
    "def drop(l, n):\n",
    "    return np.array([*l[:n], *l[n+1:]])"
   ]
  },
  {
   "cell_type": "code",
   "execution_count": 114,
   "metadata": {},
   "outputs": [],
   "source": [
    "Fs2 = drop(Fs, 2)\n",
    "F_th2 = drop(F_th, 2)\n",
    "Fs_eKdV2 = drop(Fs_eKdV, 2)\n",
    "As2 = drop(As, 2)\n",
    "As02 = drop(As0, 2)"
   ]
  },
  {
   "cell_type": "code",
   "execution_count": null,
   "metadata": {},
   "outputs": [],
   "source": []
  }
 ],
 "metadata": {
  "kernelspec": {
   "display_name": "Python 3",
   "language": "python",
   "name": "python3"
  },
  "language_info": {
   "codemirror_mode": {
    "name": "ipython",
    "version": 3
   },
   "file_extension": ".py",
   "mimetype": "text/x-python",
   "name": "python",
   "nbconvert_exporter": "python",
   "pygments_lexer": "ipython3",
   "version": "3.7.3"
  }
 },
 "nbformat": 4,
 "nbformat_minor": 2
}
